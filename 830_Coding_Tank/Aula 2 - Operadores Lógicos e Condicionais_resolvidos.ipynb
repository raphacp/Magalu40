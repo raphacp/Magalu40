{
 "cells": [
  {
   "cell_type": "markdown",
   "metadata": {},
   "source": [
    "# Aula  - Operadores Lógicos e Estruturas Condicionais\n",
    "\n",
    "Na aula de hoje, vamos explorar os seguintes tópicos em Python:\n",
    "\n",
    "- 1) Operadores lógicos;\n",
    "- 2) Estruturas condicionais;\n",
    "\n",
    "_______\n",
    "\n",
    "### Objetivos\n",
    "\n",
    "Apresentar aos alunos os operadores lógicos de comparação e de conjunção, declarando a importância das operações lógicas nas estruturas condicionais e de repetição, que são apresentadas a seguir; Apresentar o conceito, uso e importâncias das estruturas condicionais em Python.\n",
    "\n",
    "### Habilidades a serem desenvolvidas\n",
    "\n",
    "Ao final da aula o aluno deve:\n",
    "\n",
    "- Saber o conceito de operações lógicas e o seu resultado (True/False);\n",
    "- Saber interpretar e utilizar os operadores de comparação;\n",
    "- Saber interpretar e uitlizar os operadores de conjunção;\n",
    "- Saber formular expressões lógicas;"
   ]
  },
  {
   "cell_type": "markdown",
   "metadata": {},
   "source": [
    "____"
   ]
  },
  {
   "cell_type": "markdown",
   "metadata": {},
   "source": [
    "## 1) Operadores lógicos\n",
    "\n",
    "Em muitos problemas de programação, há necessidade de se fazer **comparações** entre variáveis.\n",
    "\n",
    "Por exemplo:\n",
    "\n",
    "- checar se um número é maior que outro;\n",
    "- checar se uma variável é igual a outra;\n",
    "- checar se há números diferentes; etc.\n",
    "\n",
    "Para fazer essas comparações, utilizamos os **operadores lógicos de comparação**. Em Python, há 6 desses operadores:\n",
    "\n",
    "- Maior que: >\n",
    "- Maior ou igual: >=\n",
    "- Menor que: <\n",
    "- Menor ou igual: <=\n",
    "- Igual: ==\n",
    "- Diferente: !=\n",
    "\n",
    "O resultado de uma comparação sempre vai ser um booleano, isto é, **True** ou **False**!\n",
    "\n",
    "Dica: sempre leia as comparações como uma **pergunta**\n",
    "\n",
    "- Ex: \"numero < 100\", leia: \"o valor na variável numero é menor que 100?\"\n",
    "\n",
    "Os operadores de comparação são destacados em **roxo** no Jupyter"
   ]
  },
  {
   "cell_type": "code",
   "execution_count": 1,
   "metadata": {},
   "outputs": [
    {
     "data": {
      "text/plain": [
       "False"
      ]
     },
     "execution_count": 1,
     "metadata": {},
     "output_type": "execute_result"
    }
   ],
   "source": [
    "100 > 100"
   ]
  },
  {
   "cell_type": "code",
   "execution_count": 2,
   "metadata": {},
   "outputs": [
    {
     "data": {
      "text/plain": [
       "False"
      ]
     },
     "execution_count": 2,
     "metadata": {},
     "output_type": "execute_result"
    }
   ],
   "source": [
    "100 < 10"
   ]
  },
  {
   "cell_type": "code",
   "execution_count": 3,
   "metadata": {},
   "outputs": [
    {
     "data": {
      "text/plain": [
       "True"
      ]
     },
     "execution_count": 3,
     "metadata": {},
     "output_type": "execute_result"
    }
   ],
   "source": [
    "100 >= 100"
   ]
  },
  {
   "cell_type": "code",
   "execution_count": 4,
   "metadata": {},
   "outputs": [
    {
     "data": {
      "text/plain": [
       "False"
      ]
     },
     "execution_count": 4,
     "metadata": {},
     "output_type": "execute_result"
    }
   ],
   "source": [
    "10 == 11"
   ]
  },
  {
   "cell_type": "code",
   "execution_count": 5,
   "metadata": {},
   "outputs": [
    {
     "data": {
      "text/plain": [
       "True"
      ]
     },
     "execution_count": 5,
     "metadata": {},
     "output_type": "execute_result"
    }
   ],
   "source": [
    "10 != 11"
   ]
  },
  {
   "cell_type": "markdown",
   "metadata": {},
   "source": [
    "A comparação pode ser feita entre duas variáveis, também:"
   ]
  },
  {
   "cell_type": "code",
   "execution_count": 6,
   "metadata": {},
   "outputs": [
    {
     "data": {
      "text/plain": [
       "True"
      ]
     },
     "execution_count": 6,
     "metadata": {},
     "output_type": "execute_result"
    }
   ],
   "source": [
    "valorA = 100\n",
    "valorB = 100\n",
    "valorA <= valorB"
   ]
  },
  {
   "cell_type": "markdown",
   "metadata": {},
   "source": [
    "Python aceita multiplar comparações de ordem na mesma expressão:"
   ]
  },
  {
   "cell_type": "code",
   "execution_count": 12,
   "metadata": {},
   "outputs": [
    {
     "data": {
      "text/plain": [
       "False"
      ]
     },
     "execution_count": 12,
     "metadata": {},
     "output_type": "execute_result"
    }
   ],
   "source": [
    "n = 1100\n",
    "10 < n <= 1000"
   ]
  },
  {
   "cell_type": "code",
   "execution_count": 16,
   "metadata": {},
   "outputs": [
    {
     "data": {
      "text/plain": [
       "False"
      ]
     },
     "execution_count": 16,
     "metadata": {},
     "output_type": "execute_result"
    }
   ],
   "source": [
    "n = 1100\n",
    "x = 10000\n",
    "10 < n < x <= 10000"
   ]
  },
  {
   "cell_type": "markdown",
   "metadata": {},
   "source": [
    "Podemos também comparar strings!"
   ]
  },
  {
   "cell_type": "code",
   "execution_count": 23,
   "metadata": {},
   "outputs": [
    {
     "data": {
      "text/plain": [
       "True"
      ]
     },
     "execution_count": 23,
     "metadata": {},
     "output_type": "execute_result"
    }
   ],
   "source": [
    "\"olá mundo\" == \"olá mundo\""
   ]
  },
  {
   "cell_type": "markdown",
   "metadata": {},
   "source": [
    "Os operadores >, >=, <, <= atuam comparando **ordem alfabética** quando aplicados a strings."
   ]
  },
  {
   "cell_type": "code",
   "execution_count": 24,
   "metadata": {},
   "outputs": [
    {
     "data": {
      "text/plain": [
       "True"
      ]
     },
     "execution_count": 24,
     "metadata": {},
     "output_type": "execute_result"
    }
   ],
   "source": [
    "\"abacaxi\" < \"banana\""
   ]
  },
  {
   "cell_type": "code",
   "execution_count": 25,
   "metadata": {},
   "outputs": [
    {
     "data": {
      "text/plain": [
       "True"
      ]
     },
     "execution_count": 25,
     "metadata": {},
     "output_type": "execute_result"
    }
   ],
   "source": [
    "\"Abacaxi\" < \"Banana\""
   ]
  },
  {
   "cell_type": "code",
   "execution_count": 38,
   "metadata": {},
   "outputs": [
    {
     "data": {
      "text/plain": [
       "True"
      ]
     },
     "execution_count": 38,
     "metadata": {},
     "output_type": "execute_result"
    }
   ],
   "source": [
    "\"abacaxi\" < \"Banana\""
   ]
  },
  {
   "cell_type": "code",
   "execution_count": 30,
   "metadata": {},
   "outputs": [
    {
     "data": {
      "text/plain": [
       "False"
      ]
     },
     "execution_count": 30,
     "metadata": {},
     "output_type": "execute_result"
    }
   ],
   "source": [
    "\"ac\" < \"ab\""
   ]
  },
  {
   "cell_type": "markdown",
   "metadata": {},
   "source": [
    "Podemos fazer comparação entre **tipos numéricos** diferentes (int e float):"
   ]
  },
  {
   "cell_type": "code",
   "execution_count": 31,
   "metadata": {},
   "outputs": [
    {
     "data": {
      "text/plain": [
       "True"
      ]
     },
     "execution_count": 31,
     "metadata": {},
     "output_type": "execute_result"
    }
   ],
   "source": [
    "valorA = 3\n",
    "valorB = 3.0\n",
    "\n",
    "valorA == valorB"
   ]
  },
  {
   "cell_type": "markdown",
   "metadata": {},
   "source": [
    "Mas comparações entre string e tipos numéricos são possíveis **apenas para == e !=**:\n"
   ]
  },
  {
   "cell_type": "code",
   "execution_count": 32,
   "metadata": {},
   "outputs": [
    {
     "data": {
      "text/plain": [
       "True"
      ]
     },
     "execution_count": 32,
     "metadata": {},
     "output_type": "execute_result"
    }
   ],
   "source": [
    "int(\"1\") == 1"
   ]
  },
  {
   "cell_type": "code",
   "execution_count": 33,
   "metadata": {},
   "outputs": [
    {
     "data": {
      "text/plain": [
       "True"
      ]
     },
     "execution_count": 33,
     "metadata": {},
     "output_type": "execute_result"
    }
   ],
   "source": [
    "\"2\" != str(1)"
   ]
  },
  {
   "cell_type": "code",
   "execution_count": 34,
   "metadata": {},
   "outputs": [
    {
     "data": {
      "text/plain": [
       "False"
      ]
     },
     "execution_count": 34,
     "metadata": {},
     "output_type": "execute_result"
    }
   ],
   "source": [
    "\"1\" == 1"
   ]
  },
  {
   "cell_type": "code",
   "execution_count": 35,
   "metadata": {},
   "outputs": [
    {
     "data": {
      "text/plain": [
       "True"
      ]
     },
     "execution_count": 35,
     "metadata": {},
     "output_type": "execute_result"
    }
   ],
   "source": [
    "\"1\" != 1"
   ]
  },
  {
   "cell_type": "code",
   "execution_count": 36,
   "metadata": {},
   "outputs": [
    {
     "ename": "TypeError",
     "evalue": "'>' not supported between instances of 'str' and 'int'",
     "output_type": "error",
     "traceback": [
      "\u001b[1;31m---------------------------------------------------------------------------\u001b[0m",
      "\u001b[1;31mTypeError\u001b[0m                                 Traceback (most recent call last)",
      "\u001b[1;32m<ipython-input-36-004f75758fdc>\u001b[0m in \u001b[0;36m<module>\u001b[1;34m\u001b[0m\n\u001b[1;32m----> 1\u001b[1;33m \u001b[1;34m\"1\"\u001b[0m \u001b[1;33m>\u001b[0m \u001b[1;36m1\u001b[0m\u001b[1;33m\u001b[0m\u001b[1;33m\u001b[0m\u001b[0m\n\u001b[0m",
      "\u001b[1;31mTypeError\u001b[0m: '>' not supported between instances of 'str' and 'int'"
     ]
    }
   ],
   "source": [
    "\"1\" > 1"
   ]
  },
  {
   "cell_type": "markdown",
   "metadata": {},
   "source": [
    "___"
   ]
  },
  {
   "cell_type": "markdown",
   "metadata": {},
   "source": [
    "Além dos operadores lógicos de comparação, também temos os **operadores lógicos de conjunção**, que são utilizados pra fazer uma **combinação** entre comparações. \n",
    "\n",
    "Os operadores de conjunção são: **and** e **or**, e eles seguem a seguinte regra:\n",
    "\n",
    "- **and** só é True se **ambas** as comparações forem True:\n",
    "    - False and True resulta em \"False\"\n",
    "    - False and False resulta em \"False\"\n",
    "    - True and True resulta em \"True\"\n",
    "- **or** é True se **pelo menos uma** das comparações for True:\n",
    "    - False or True resulta em \"True\"\n",
    "    - True or True resulta em \"True\"\n",
    "    - False or False resulta em \"False\"\n",
    "\n",
    "Os operadores de conjunção são destacados em **verde escuro** no Jupyter"
   ]
  },
  {
   "cell_type": "code",
   "execution_count": null,
   "metadata": {},
   "outputs": [],
   "source": []
  },
  {
   "cell_type": "code",
   "execution_count": 39,
   "metadata": {},
   "outputs": [
    {
     "name": "stdout",
     "output_type": "stream",
     "text": [
      "Operador and:\n",
      "False\n",
      "False\n",
      "False\n",
      "True\n"
     ]
    }
   ],
   "source": [
    "print(\"Operador and:\")\n",
    "print(False and False)\n",
    "print(True and False)\n",
    "print(False and True)\n",
    "print(True and True)"
   ]
  },
  {
   "cell_type": "code",
   "execution_count": 43,
   "metadata": {},
   "outputs": [
    {
     "data": {
      "text/plain": [
       "False"
      ]
     },
     "execution_count": 43,
     "metadata": {},
     "output_type": "execute_result"
    }
   ],
   "source": [
    "nome = \"Lucas\" \n",
    "idade = 41\n",
    "nome == \"Vanessa\" and idade == 42"
   ]
  },
  {
   "cell_type": "code",
   "execution_count": 44,
   "metadata": {},
   "outputs": [
    {
     "name": "stdout",
     "output_type": "stream",
     "text": [
      "Operador or:\n",
      "False\n",
      "True\n",
      "True\n",
      "True\n"
     ]
    }
   ],
   "source": [
    "print(\"Operador or:\")\n",
    "print(False or False)\n",
    "print(False or True)\n",
    "print(True or False)\n",
    "print(True or True)"
   ]
  },
  {
   "cell_type": "code",
   "execution_count": 48,
   "metadata": {},
   "outputs": [
    {
     "data": {
      "text/plain": [
       "False"
      ]
     },
     "execution_count": 48,
     "metadata": {},
     "output_type": "execute_result"
    }
   ],
   "source": [
    "nome = \"Lucas\" \n",
    "idade = 14\n",
    "nome == \"Vanessa\" or idade == 42"
   ]
  },
  {
   "cell_type": "markdown",
   "metadata": {},
   "source": [
    "Se tivermos mais de duas comparações pra fazer conjunção, é melhor usarmos parênteses.\n",
    "\n",
    "Primeiro a conjunção entre parênteses é feita, e depois o resultado é usado pra avaliar a conjunção total"
   ]
  },
  {
   "cell_type": "code",
   "execution_count": 52,
   "metadata": {},
   "outputs": [
    {
     "data": {
      "text/plain": [
       "True"
      ]
     },
     "execution_count": 52,
     "metadata": {},
     "output_type": "execute_result"
    }
   ],
   "source": [
    "3 < 10 and (\"Caio\" == \"Caio \" or 50 >= 50)\n",
    "# 3 < 10 and (False or True)\n",
    "# 3 < 10 and (False or True)\n",
    "# 3 < 10 and True\n",
    "# True and True\n",
    "# True"
   ]
  },
  {
   "cell_type": "markdown",
   "metadata": {},
   "source": [
    "#### Not"
   ]
  },
  {
   "cell_type": "code",
   "execution_count": 53,
   "metadata": {},
   "outputs": [
    {
     "data": {
      "text/plain": [
       "False"
      ]
     },
     "execution_count": 53,
     "metadata": {},
     "output_type": "execute_result"
    }
   ],
   "source": [
    "not True"
   ]
  },
  {
   "cell_type": "code",
   "execution_count": 54,
   "metadata": {},
   "outputs": [
    {
     "data": {
      "text/plain": [
       "True"
      ]
     },
     "execution_count": 54,
     "metadata": {},
     "output_type": "execute_result"
    }
   ],
   "source": [
    "not False"
   ]
  },
  {
   "cell_type": "code",
   "execution_count": 55,
   "metadata": {},
   "outputs": [
    {
     "data": {
      "text/plain": [
       "False"
      ]
     },
     "execution_count": 55,
     "metadata": {},
     "output_type": "execute_result"
    }
   ],
   "source": [
    "not 3 < 10"
   ]
  },
  {
   "cell_type": "markdown",
   "metadata": {},
   "source": [
    "# Condicionais (If)\n",
    "O condicional If tem a seguinte estrutura"
   ]
  },
  {
   "cell_type": "code",
   "execution_count": null,
   "metadata": {},
   "outputs": [],
   "source": [
    "if condicao:\n",
    "    # código a ser executado se a condição for satisfeita"
   ]
  },
  {
   "cell_type": "markdown",
   "metadata": {},
   "source": [
    "Note que seu programa vai seguir um fluxo linha a linha e na condicional haverá um possível **desvio de fluxo**, isto é, caso a condição não seja satisfeita o código pula tudo que esta dentro do if, e o que está dentro do if? Tudo aquilo que está na **identação** do if, ou seja, está um _tab_ mais a frente que o if."
   ]
  },
  {
   "cell_type": "code",
   "execution_count": 61,
   "metadata": {},
   "outputs": [
    {
     "name": "stdout",
     "output_type": "stream",
     "text": [
      "Digite o valor de 'a': 10\n",
      "Digite o valor de 'b': 3\n",
      "'a' maior que 'b'\n",
      "2\n",
      "3\n",
      "4\n",
      "Fim\n"
     ]
    }
   ],
   "source": [
    "a = int(input(\"Digite o valor de 'a': \"))\n",
    "b = int(input(\"Digite o valor de 'b': \"))\n",
    "\n",
    "if a > b:\n",
    "    print(\"'a' maior que 'b'\")\n",
    "    print(\"2\")\n",
    "    print(\"3\")\n",
    "    print(\"4\")\n",
    "\n",
    "print(\"Fim\")"
   ]
  },
  {
   "cell_type": "markdown",
   "metadata": {},
   "source": [
    "### Elif\n",
    "O _elif_ deve ser lido com **se não**, portanto ele será uma nova condição que será testada **caso a condição do if (ou outros elifs acima) NÃO seja satisfeita**, e sua estrutura é a seguinte:"
   ]
  },
  {
   "cell_type": "code",
   "execution_count": null,
   "metadata": {},
   "outputs": [],
   "source": [
    "if condicao:\n",
    "    # codigo caso if seja satisfeito\n",
    "elif condicaoElif:\n",
    "    # codigo caso elif satisfeito\n",
    "elif condicaoElif2:\n",
    "    # codigo caso elif2 satisfeito\n",
    "elif condicaoElif3:\n",
    "    # codigo caso elif3 satisfeito"
   ]
  },
  {
   "cell_type": "markdown",
   "metadata": {},
   "source": [
    "Note que podemos ter de 0 a N _elifs_, e seu código seguirá uma ordem de conferir as condições uma a uma até que uma seja satisfeita, seu código executa **e todo o resto do bloco de if elif será ignorado**. Note também que caso nenhuma condição seja satisfeita nada dentro do if e elifs é executado e o código \"passa reto\"."
   ]
  },
  {
   "cell_type": "code",
   "execution_count": 73,
   "metadata": {},
   "outputs": [
    {
     "name": "stdout",
     "output_type": "stream",
     "text": [
      "Digite o valor de 'nota': 11\n",
      "'nota' maior que 10\n",
      "Fim\n"
     ]
    }
   ],
   "source": [
    "nota = int(input(\"Digite o valor de 'nota': \"))\n",
    "\n",
    "if nota > 10:\n",
    "    print(\"'nota' maior que 10\")\n",
    "elif 7 < nota:\n",
    "    print(\"'nota' entre 7 e 10\")\n",
    "elif 3 < nota:\n",
    "    print(\"'nota' entre 3 e 7\")\n",
    "elif 0 < nota:\n",
    "    print(\"'nota' entre 0 e 3\")\n",
    "    \n",
    "print(\"Fim\")"
   ]
  },
  {
   "cell_type": "markdown",
   "metadata": {},
   "source": [
    "### Else\n",
    "\n",
    "O else deve ser lido como um **então ou caso contrário**, ele, diferente dos exemplos acima, não tem uma condiçao, ele será colocado ao fim do bloco if e será executado **quando todas as condições anteriores forem insatisfeitas**, a estrutura com else fica da seguinte maneira:"
   ]
  },
  {
   "cell_type": "code",
   "execution_count": null,
   "metadata": {},
   "outputs": [],
   "source": [
    "if condicao:\n",
    "    # codigo caso if seja satisfeito\n",
    "elif condicaoElif:\n",
    "    # codigo caso elif satisfeito\n",
    "else:\n",
    "    # codigo caso if e elif insatisfeito\n",
    "    \n",
    "if condicao:\n",
    "    # codigo caso if seja satisfeito\n",
    "else:\n",
    "    # codigo caso if insatisfeito"
   ]
  },
  {
   "cell_type": "markdown",
   "metadata": {},
   "source": [
    "Note que no contexto de _if else_ os _elifs_ são opcionais, portanto um bloco completo de _if_ pode possuir de 0 a N _elifs_ entre o _if_ e o _else_."
   ]
  },
  {
   "cell_type": "code",
   "execution_count": 71,
   "metadata": {},
   "outputs": [
    {
     "name": "stdout",
     "output_type": "stream",
     "text": [
      "Digite o valor de 'a': -4\n",
      "'a' é menor ou igual a 0\n",
      "Fim\n"
     ]
    }
   ],
   "source": [
    "a = float(input(\"Digite o valor de 'a': \"))\n",
    "\n",
    "if a > 10:\n",
    "    print(\"'a' maior que 10\")\n",
    "elif 7 < a and a <= 10:\n",
    "    print(\"'a' entre +7 e 10\")\n",
    "elif 3 < a <= 7:\n",
    "    print(\"'a' entre +3 e 7\")\n",
    "elif 0 < a <= 3:\n",
    "    print(\"'a' entre +0 e 3\")\n",
    "else:\n",
    "    print(\"'a' é menor ou igual a 0\")\n",
    "    \n",
    "print(\"Fim\")"
   ]
  },
  {
   "cell_type": "markdown",
   "metadata": {},
   "source": [
    "### Condicional Aninhada\n",
    "\n",
    "Dentro de um _if, elif ou else_ podemos ter outros blocos de _ifs_ o que chamamos de aninhamento, isto pode ser feito para facilitar leitura de código ou mesmo para validar uma segunda condição que afeitaria pouco o código da primeira, veja o exemplo:"
   ]
  },
  {
   "cell_type": "code",
   "execution_count": 78,
   "metadata": {},
   "outputs": [
    {
     "name": "stdout",
     "output_type": "stream",
     "text": [
      "Digite seu nome: Brian\n",
      "Digite sua idade: 21\n",
      "Você tem habilitação? (S/N): s\n",
      "Olá, Brian você tem 21 anos mas não pode dirigir\n"
     ]
    }
   ],
   "source": [
    "nome = input(\"Digite seu nome: \")\n",
    "idade = int(input(\"Digite sua idade: \"))\n",
    "\n",
    "if idade >= 18:\n",
    "    habilitado = input(\"Você tem habilitação? (S/N): \")\n",
    "    if habilitado == \"S\":\n",
    "        print(\"Olá,\", nome, \"você tem\", idade, \"anos e pode dirigir\")\n",
    "    else:\n",
    "        print(\"Olá,\", nome, \"você tem\", idade, \"anos mas não pode dirigir\")\n",
    "else:\n",
    "    print(\"Olá,\", nome, \"você é menor de idade, por tanto não pode dirigir.\")"
   ]
  },
  {
   "cell_type": "markdown",
   "metadata": {},
   "source": [
    "### Condicional Curta (Operador ternário)\n",
    "Operadores ternários são maneiras bem enxutas de escrever condicionais simples em apenas uma linha\n",
    "#### If Curto"
   ]
  },
  {
   "cell_type": "code",
   "execution_count": 82,
   "metadata": {},
   "outputs": [
    {
     "name": "stdout",
     "output_type": "stream",
     "text": [
      "Digite um valor para 'a': 9\n"
     ]
    }
   ],
   "source": [
    "a = int(input(\"Digite um valor para 'a': \"))\n",
    "\n",
    "if a > 10: print(\"'a' maior que 10\")"
   ]
  },
  {
   "cell_type": "markdown",
   "metadata": {},
   "source": [
    "#### If Else Curto"
   ]
  },
  {
   "cell_type": "code",
   "execution_count": 84,
   "metadata": {},
   "outputs": [
    {
     "name": "stdout",
     "output_type": "stream",
     "text": [
      "Digite um valor para 'a': 9\n",
      "'a' menor ou igual a 10\n"
     ]
    }
   ],
   "source": [
    "a = int(input(\"Digite um valor para 'a': \"))\n",
    "\n",
    "print(\"'a' maior que 10\") if a > 10 else print(\"'a' menor ou igual a 10\")"
   ]
  },
  {
   "cell_type": "code",
   "execution_count": 86,
   "metadata": {},
   "outputs": [
    {
     "name": "stdout",
     "output_type": "stream",
     "text": [
      "Digite um valor para 'a': 9\n",
      "4\n"
     ]
    }
   ],
   "source": [
    "a = int(input(\"Digite um valor para 'a': \"))\n",
    "\n",
    "# if a > 10:\n",
    "#     y = 1\n",
    "# else:\n",
    "#     y = 4\n",
    "\n",
    "y = (1 if a > 10 else 4)\n",
    "    \n",
    "print(y)"
   ]
  },
  {
   "cell_type": "markdown",
   "metadata": {},
   "source": [
    "## Exercícios"
   ]
  },
  {
   "cell_type": "markdown",
   "metadata": {},
   "source": [
    "**1)** Um posto está vendendo combustíveis com a seguinte tabela de descontos: <br>\n",
    "\n",
    "Álcool:<br>\n",
    " - até 20 litros, desconto de 3% por litro\n",
    " - acima de 20 litros, desconto de 5% por litro <br>\n",
    " \n",
    "Gasolina:<br>\n",
    " - até 20 litros, desconto de 4% por litro\n",
    " - acima de 20 litros, desconto de 6% por litro. \n",
    " \n",
    "Escreva um algoritmo que leia o número de litros vendidos, o tipo de combustível (codificado da seguinte forma: A-álcool, G-gasolina), calcule e imprima o valor a ser pago pelo cliente sabendo-se que o preço do litro da gasolina é 2,50 reais o preço do litro do álcool é 1,90 reais."
   ]
  },
  {
   "cell_type": "code",
   "execution_count": 6,
   "metadata": {},
   "outputs": [
    {
     "name": "stdout",
     "output_type": "stream",
     "text": [
      "Quantos litros foram abastecidos? 12\n",
      "Qual o tipo do combustível? G\n",
      "O valor a ser pago é de R$28.8\n"
     ]
    }
   ],
   "source": [
    "litros = float(input(\"Quantos litros foram abastecidos? \"))\n",
    "tipo_combustivel = input(\"Qual o tipo do combustível? \")\n",
    "\n",
    "if tipo_combustivel == \"G\":\n",
    "    valor = litros * 2.5\n",
    "    if litros <= 20:\n",
    "        valor *= 0.96 # valor = valor * 0.96\n",
    "    else:\n",
    "        valor *= 0.94\n",
    "else:\n",
    "    valor = litros * 1.9\n",
    "    if litros <= 20:\n",
    "        valor *= 0.97 # valor = valor * 0.97\n",
    "    else:\n",
    "        valor *= 0.95\n",
    "\n",
    "print(f\"O valor a ser pago é de R${round(valor, 2)}\")"
   ]
  },
  {
   "cell_type": "markdown",
   "metadata": {},
   "source": [
    "**2)** Faça um programa que faça 5 perguntas para uma pessoa sobre um crime. As perguntas são:\n",
    "\n",
    "- \"Telefonou para a vítima?\"\n",
    "- \"Esteve no local do crime?\"\n",
    "- \"Mora perto da vítima?\"\n",
    "- \"Devia para a vítima?\"\n",
    "- \"Já trabalhou com a vítima?\"\n",
    "\n",
    "O programa deve no final emitir uma classificação sobre a participação da pessoa no crime. Se a pessoa responder positivamente a 2 questões ela deve ser classificada como \"Suspeita\", entre 3 e 4 como \"Cúmplice\" e 5 como \"Assassino\". Caso contrário, ele será classificado como \"Inocente\"."
   ]
  },
  {
   "cell_type": "code",
   "execution_count": 13,
   "metadata": {},
   "outputs": [
    {
     "name": "stdout",
     "output_type": "stream",
     "text": [
      "Telefonou para a vítima? N\n",
      "Esteve no local do crime? N\n",
      "Mora perto da vítima? N\n",
      "Devia para a vítima? N\n",
      "Já trabalhou com a vítima? N\n",
      "Inocente\n"
     ]
    }
   ],
   "source": [
    "resp_1 = input(\"Telefonou para a vítima? \")\n",
    "resp_2 = input(\"Esteve no local do crime? \")\n",
    "resp_3 = input(\"Mora perto da vítima? \")\n",
    "resp_4 = input(\"Devia para a vítima? \")\n",
    "resp_5 = input(\"Já trabalhou com a vítima? \")\n",
    "resp_postivas = 0\n",
    "\n",
    "if resp_1 == \"S\": resp_postivas += 1 # resp_postivas = resp_postivas + 1\n",
    "if resp_2 == \"S\": resp_postivas += 1 # resp_postivas = resp_postivas + 1\n",
    "if resp_3 == \"S\": resp_postivas += 1 # resp_postivas = resp_postivas + 1\n",
    "if resp_4 == \"S\": resp_postivas += 1 # resp_postivas = resp_postivas + 1\n",
    "if resp_5 == \"S\": resp_postivas += 1 # resp_postivas = resp_postivas + 1\n",
    "\n",
    "if resp_postivas == 2:\n",
    "    print(\"Suspeita\")\n",
    "elif 3 <= resp_postivas <= 4:\n",
    "    print(\"Cúmplice\")\n",
    "elif resp_postivas == 5:\n",
    "    print(\"Assassino\")\n",
    "else:\n",
    "    print(\"Inocente\")"
   ]
  },
  {
   "cell_type": "markdown",
   "metadata": {},
   "source": [
    "**3)** Faça um Programa que leia um número inteiro menor que 1000 e imprima a quantidade de centenas, dezenas e unidades do mesmo. Observando os termos no plural a colocação do \"e\", da vírgula entre outros. Exemplo:\n",
    "\n",
    "326 = 3 centenas, 2 dezenas e 6 unidades <br>\n",
    "12 = 1 dezena e 2 unidades"
   ]
  },
  {
   "cell_type": "code",
   "execution_count": 29,
   "metadata": {},
   "outputs": [
    {
     "name": "stdout",
     "output_type": "stream",
     "text": [
      "Digite o número: 0\n",
      "0 = Zero\n"
     ]
    }
   ],
   "source": [
    "numero = int(input(\"Digite o número: \"))\n",
    "centenas = numero//100\n",
    "dezenas = (numero%100)//10\n",
    "unidades = numero%10\n",
    "texto = f\"{numero} = \"\n",
    "\n",
    "if centenas > 0:\n",
    "    texto += f\"{centenas} centena\"\n",
    "    if centenas > 1:\n",
    "        texto += \"s\"\n",
    "    \n",
    "    if dezenas > 0:\n",
    "        if unidades > 0:\n",
    "            texto += f\", {dezenas} dezena\"\n",
    "            \n",
    "            if dezenas > 1:\n",
    "                texto += f\"s e {unidades} unidade\"\n",
    "            else:\n",
    "                texto += f\" e {unidades} unidade\"\n",
    "                \n",
    "            if unidades > 1:\n",
    "                 texto += \"s\"     \n",
    "        else:\n",
    "            texto += f\"e {dezenas} dezena\"\n",
    "            if dezenas > 1:\n",
    "                texto += \"s\"\n",
    "    else:\n",
    "        if unidades > 0:\n",
    "            texto += f\" e {unidades} unidade\"\n",
    "        \n",
    "        if unidades > 1:\n",
    "            texto += \"s\"\n",
    "else:\n",
    "    if dezenas > 0:\n",
    "        if unidades > 0:\n",
    "            texto += f\"{dezenas} dezena\"\n",
    "\n",
    "            if dezenas > 1:\n",
    "                texto += f\"s e {unidades} unidade\"\n",
    "            else:\n",
    "                texto += f\" e {unidades} unidade\"\n",
    "\n",
    "            if unidades > 1:\n",
    "                 texto += \"s\"     \n",
    "        else:\n",
    "            texto += f\"{dezenas} dezena\"\n",
    "            if dezenas > 1:\n",
    "                texto += \"s\"\n",
    "    else:\n",
    "        if unidades > 0:\n",
    "            texto += f\"{unidades} unidade\"\n",
    "        else:\n",
    "            texto += \"Zero\"\n",
    "        \n",
    "        if unidades > 1:\n",
    "            texto += \"s\"\n",
    "            \n",
    "print(texto)"
   ]
  },
  {
   "cell_type": "markdown",
   "metadata": {},
   "source": [
    "**4)** Faça um programa que calcule as raízes de uma equação do segundo grau, na forma:\n",
    "\n",
    "$ax^{2} + bx + c$ \n",
    "\n",
    "O programa deverá pedir os valores de a, b e c, informando ao usuário nas seguintes situações:\n",
    "Se o usuário informar o valor de A igual a zero, a equação não é do segundo grau e o programa não deve fazer pedir os demais valores, sendo encerrado;\n",
    "Se o delta calculado for negativo, a equação não possui raizes reais. Informe ao usuário e encerre o programa;\n",
    "Se o delta calculado for igual a zero a equação possui apenas uma raiz real; informe-a ao usuário;\n",
    "Se o delta for positivo, a equação possui duas raiz reais; informe-as ao usuário;"
   ]
  },
  {
   "cell_type": "code",
   "execution_count": 35,
   "metadata": {},
   "outputs": [
    {
     "name": "stdout",
     "output_type": "stream",
     "text": [
      "Qual o valor de 'a': 1\n",
      "Qual o valor de 'b': 0\n",
      "Qual o valor de 'c': -4\n",
      "A equação possui duas raízes reais distintas: x1 = 2.0, x2 = -2.0\n"
     ]
    }
   ],
   "source": [
    "a = float(input(\"Qual o valor de 'a': \"))\n",
    "\n",
    "if a != 0:\n",
    "    b = float(input(\"Qual o valor de 'b': \"))\n",
    "    c = float(input(\"Qual o valor de 'c': \"))\n",
    "    \n",
    "    delta = b**2 - 4*a*c\n",
    "    \n",
    "    if delta >= 0:\n",
    "        if delta == 0:\n",
    "            x = (-b)/(2*a)\n",
    "            print(f\"A equação possui apenas uma raiz real: x = {x}\")\n",
    "        else:\n",
    "            x1 = (-b)+(delta**0.5)/(2*a)\n",
    "            x2 = (-b)-(delta**0.5)/(2*a)\n",
    "            print(f\"A equação possui duas raízes reais distintas: x1 = {x1}, x2 = {x2}\")\n",
    "    else:\n",
    "        print(\"Equação não possui raízes reais!\")\n",
    "else:\n",
    "    print(\"Não é uma equação de segundo grau!\")"
   ]
  },
  {
   "cell_type": "markdown",
   "metadata": {},
   "source": [
    "**5)** Faça um Programa que peça os 3 lados de um triângulo. O programa deverá informar se os valores podem ser um triângulo. Indique, caso os lados formem um triângulo, se o mesmo é: equilátero, isósceles ou escaleno.\n",
    "\n",
    "Dicas:\n",
    "- Três lados formam um triângulo quando a soma de quaisquer dois lados for maior que o terceiro;\n",
    "- Triângulo Equilátero: três lados iguais;\n",
    "- Triângulo Isósceles: quaisquer dois lados iguais;\n",
    "- Triângulo Escaleno: três lados diferentes;"
   ]
  },
  {
   "cell_type": "code",
   "execution_count": 40,
   "metadata": {},
   "outputs": [
    {
     "name": "stdout",
     "output_type": "stream",
     "text": [
      "Digite o lado A: 3\n",
      "Digite o lado B: 4\n",
      "Digite o lado C: 5\n",
      "Triângulo Escaleno\n"
     ]
    }
   ],
   "source": [
    "lado_a = float(input(\"Digite o lado A: \"))\n",
    "lado_b = float(input(\"Digite o lado B: \"))\n",
    "lado_c = float(input(\"Digite o lado C: \"))\n",
    "\n",
    "if lado_a + lado_b > lado_c and lado_a + lado_c > lado_b and lado_b + lado_c > lado_a:\n",
    "    if lado_a == lado_b == lado_c:\n",
    "        print(\"Triângulo Equilátero\")\n",
    "    elif lado_a == lado_b or lado_a == lado_c or lado_b == lado_c:\n",
    "        print(\"Triângulo Isósceles\")\n",
    "    else:\n",
    "        print(\"Triângulo Escaleno\")\n",
    "else:\n",
    "    print(\"Os lados não formam um triangulo\")"
   ]
  },
  {
   "cell_type": "code",
   "execution_count": null,
   "metadata": {},
   "outputs": [],
   "source": []
  }
 ],
 "metadata": {
  "kernelspec": {
   "display_name": "Python 3",
   "language": "python",
   "name": "python3"
  },
  "language_info": {
   "codemirror_mode": {
    "name": "ipython",
    "version": 3
   },
   "file_extension": ".py",
   "mimetype": "text/x-python",
   "name": "python",
   "nbconvert_exporter": "python",
   "pygments_lexer": "ipython3",
   "version": "3.8.5"
  }
 },
 "nbformat": 4,
 "nbformat_minor": 4
}
