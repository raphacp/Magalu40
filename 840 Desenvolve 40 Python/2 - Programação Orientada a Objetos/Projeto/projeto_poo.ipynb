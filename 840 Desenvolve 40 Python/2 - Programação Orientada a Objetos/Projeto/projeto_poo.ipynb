{
 "cells": [
  {
   "cell_type": "markdown",
   "metadata": {},
   "source": []
  },
  {
   "cell_type": "code",
   "execution_count": 5,
   "metadata": {},
   "outputs": [
    {
     "name": "stdout",
     "output_type": "stream",
     "text": [
      "Overwriting ./classeCliente.py\n"
     ]
    }
   ],
   "source": [
    "%%writefile './classeCliente.py'\n",
    "import classeLoja\n",
    "import datetime as dt\n",
    "\n",
    "class Cliente:\n",
    "    def __init__(self, nome):\n",
    "        self.nome = nome\n",
    "        self.aluguel_ativo = False\n",
    "#         texto_log = f'''\n",
    "# ****************************************************************************************************************\n",
    "# *  LOG\n",
    "# *  Classe: {__class__.__name__} - {__class__.mro()}\n",
    "# *  Método: {__class__.__init__.__name__}\n",
    "# *  Parâmetros recebidos: {self, self.nome}\n",
    "# *  Data: {dt.datetime.now().strftime('%d/%m/%Y %H:%M:%S')}\n",
    "# ****************************************************************************************************************\n",
    "# '''\n",
    "#         print(texto_log)\n",
    "\n",
    "    def ver_estoque(self, loja):\n",
    "        if isinstance(loja, classeLoja.Loja):\n",
    "\n",
    "            texto_log = f'''\n",
    "****************************************************************************************************************\n",
    "*  LOG\n",
    "*  Classe: {__class__.__name__} - {__class__.mro()}\n",
    "*  Método: {__class__.ver_estoque.__name__}\n",
    "*  Parâmetros recebidos: {self.nome, loja.nome}\n",
    "*  Data: {dt.datetime.now().strftime('%d/%m/%Y %H:%M:%S')}\n",
    "****************************************************************************************************************\n",
    "'''\n",
    "            print(f\"O estoque da loja {loja.nome} é de {loja.estoque} bicicleta(s).\")\n",
    "            print(texto_log)\n",
    "        else:\n",
    "            raise AttributeError(\"A loja informada não é um objeto da classe correspondente.\")\n",
    "\n",
    "    \n",
    "    def alugar_bicicleta(self, loja, qtd, tipo, data_hora):\n",
    "        # Coloquei uma limitação de 1 aluguel por cliente para simplificar, devido ao tempo curto para desenvolver o projeto\n",
    "        # Caso dê tempo vou retirar esta trava e fazer melhor.\n",
    "        assert isinstance(loja, classeLoja.Loja), 'A loja informada não é um objeto da classe correspondente.'\n",
    "        assert isinstance(qtd, int), 'A quantidade deve ser um número inteiro.'\n",
    "        assert isinstance(tipo, str), 'O tipo de aluguel deve ser uma string H, D ou S.'\n",
    "        assert isinstance(data_hora, dt.datetime), 'A data informada não está no padrão correto.'\n",
    "        if self.aluguel_ativo == False:\n",
    "            self.loja = loja\n",
    "            self.qtd = qtd\n",
    "            self.tipo = str.upper(tipo)\n",
    "            self.data_aluguel = data_hora\n",
    "            self.desconto = False\n",
    "            if self.tipo == 'H' or self.tipo == 'D' or self.tipo == 'S':\n",
    "                if loja.estoque >= self.qtd:\n",
    "                    print(f\"Aluguel liberado.\\nModalidade: {self.tipo}\\nQuantidade: {self.qtd} bicicleta(s).\")\n",
    "                    loja.estoque -= self.qtd\n",
    "                    self.aluguel_ativo = True\n",
    "                    if self.qtd >= 3:\n",
    "                        self.desconto = True\n",
    "                        print(f\"Parabéns, você ganhou um desconto de 30% no aluguel de {self.qtd} bicicletas.\")\n",
    "                else:\n",
    "                    print(f\"A loja {loja.nome} não tem bicicletas disponíveis para aluguel. Estoque: {loja.estoque}.\")\n",
    "            else:\n",
    "                print(f\"A loja {loja.nome} só trabalha com aluguel nas modalidades Hora(H), Dia(D) ou Semana(S).\")\n",
    "        else:\n",
    "            print(f\"O cliente {self.nome} já tem {self.qtd} bicicleta(s) alugada(s) na loja {self.loja.nome} e não é possível fazer um novo aluguel.\")\n",
    "        \n",
    "        \n",
    "        texto_log = f'''\n",
    "****************************************************************************************************************\n",
    "*  LOG\n",
    "*  Classe: {__class__.__name__} - {__class__.mro()}\n",
    "*  Método: {__class__.alugar_bicicleta.__name__}\n",
    "*  Parâmetros recebidos: {self.nome, loja.nome, qtd, tipo, data_hora}\n",
    "*  Data: {dt.datetime.now().strftime('%d/%m/%Y %H:%M:%S')}\n",
    "****************************************************************************************************************\n",
    "'''\n",
    "        print(texto_log)\n",
    "\n",
    "    def devolver_bicicleta(self, data_hora):\n",
    "        assert isinstance(data_hora, dt.datetime), 'A data de devolução informada não está no padrão correto.'\n",
    "        if self.aluguel_ativo == True:\n",
    "            self.data_devolucao = data_hora\n",
    "            valor, duracao, modelo = classeLoja.Loja.calcular_valor(self.tipo, self.data_aluguel, self.data_devolucao)\n",
    "            if self.qtd >= 3:\n",
    "                valor = (valor * self.qtd) * 0.7\n",
    "                print(f\"Oba!\\nPor ter alugado {self.qtd} bicicletas você ganhou um desconto de 30% e o aluguel ficou em R$ {valor:.0f},00 pelo período de {duracao} {modelo}.\")\n",
    "            else:\n",
    "                print(f\"O aluguel de {self.qtd} bicicletas ficou em R$ {valor},00 pelo período de {duracao} {modelo}.\")\n",
    "\n",
    "            #fiquei na dúvida se aqui deveria remover os atributos ou só zerar.\n",
    "            self.loja.estoque += self.qtd\n",
    "            self.loja = ''\n",
    "            self.qtd = ''\n",
    "            self.tipo = ''\n",
    "            self.data_aluguel = ''\n",
    "            self.desconto = False\n",
    "            self.data_devolucao = ''\n",
    "            self.aluguel_ativo = False     \n",
    "        else:\n",
    "            print(f\"O cliente não tem nenhuma bicicleta alugada.\")\n",
    "\n",
    "        texto_log = f'''\n",
    "****************************************************************************************************************\n",
    "*  LOG\n",
    "*  Classe: {__class__.__name__} - {__class__.mro()}\n",
    "*  Método: {__class__.devolver_bicicleta.__name__}\n",
    "*  Parâmetros recebidos: {self.nome, data_hora}\n",
    "*  Data: {dt.datetime.now().strftime('%d/%m/%Y %H:%M:%S')}\n",
    "****************************************************************************************************************\n",
    "'''\n",
    "        print(texto_log)\n",
    "        \n",
    "\n",
    "    def __repr__(self):\n",
    "        return f'''\n",
    "    Nome do cliente: {self.nome}'''\n"
   ]
  },
  {
   "cell_type": "code",
   "execution_count": 4,
   "metadata": {},
   "outputs": [
    {
     "name": "stdout",
     "output_type": "stream",
     "text": [
      "Overwriting ./classeLoja.py\n"
     ]
    }
   ],
   "source": [
    "%%writefile './classeLoja.py'\n",
    "import classeCliente\n",
    "import datetime as dt\n",
    "import math\n",
    "#from math import ceil\n",
    "\n",
    "class Loja:\n",
    "    def __init__(self, nome, estoque):\n",
    "        if isinstance(estoque, int):\n",
    "            self.estoque = estoque\n",
    "        else:\n",
    "            raise TypeError('Valor de estoque deve ser um número inteiro')\n",
    "        self.nome = nome\n",
    "        #self.estoque = estoque\n",
    "    \n",
    "    #Transformando o método calcular_valor em estático. Não tenho certeza se seria necessário, usei mais para aprendizado\n",
    "    @staticmethod\n",
    "    def calcular_valor(tipo, data_hora_aluguel, data_hora_devolucao):\n",
    "        valor_hora = 5\n",
    "        valor_dia = 25\n",
    "        valor_semana = 100\n",
    "\n",
    "        duracao_aluguel = data_hora_devolucao - data_hora_aluguel\n",
    "        duracao_horas = (duracao_aluguel.days * 24) + (duracao_aluguel.seconds / 3600)\n",
    "        duracao_dias = duracao_horas / 24\n",
    "        duracao_semanas = (duracao_dias / 7)\n",
    "        \n",
    "        texto_log = f'''\n",
    "****************************************************************************************************************\n",
    "*  LOG\n",
    "*  Classe: {__class__.__name__} - {__class__.mro()}\n",
    "*  Método: {__class__.calcular_valor.__name__}\n",
    "*  Parâmetros recebidos: {tipo, data_hora_aluguel, data_hora_devolucao}\n",
    "*  Data: {dt.datetime.now().strftime('%d/%m/%Y %H:%M:%S')}\n",
    "****************************************************************************************************************\n",
    "'''\n",
    "        print(texto_log)\n",
    "\n",
    "        if tipo == 'H':\n",
    "            custo_hora = valor_hora * math.ceil(duracao_horas)\n",
    "            return custo_hora, math.ceil(duracao_horas), 'horas'\n",
    "        \n",
    "        elif tipo == 'D':\n",
    "            custo_dia = valor_dia * math.ceil(duracao_dias)\n",
    "            return custo_dia, math.ceil(duracao_dias), 'dias'\n",
    "\n",
    "        elif tipo == 'S':\n",
    "            custo_semana = valor_semana * math.ceil(duracao_semanas)\n",
    "            return custo_semana, math.ceil(duracao_semanas), 'semanas'\n",
    "        \n",
    "        else:\n",
    "            print(\"Tipo de aluguel incorreto. Deve ser H(hora), D(dia) ou S(semana).\")\n",
    "    \n",
    "    def __repr__(self):\n",
    "        return f'''\n",
    "    Nome da loja: {self.nome}\n",
    "    Estoque da loja {self.nome}: {self.estoque} bicicletas.'''\n",
    "\n"
   ]
  },
  {
   "cell_type": "code",
   "execution_count": null,
   "metadata": {},
   "outputs": [],
   "source": [
    "import classeLoja\n",
    "loja_1 = classeLoja.Loja(\"Rapha's Bike\", 10)\n",
    "# print(f\"Nome da loja: {loja_1.nome}.\")\n",
    "# print(f\"Estoque da loja {loja_1.nome}: {loja_1.estoque}\")\n",
    "print(loja_1)\n"
   ]
  },
  {
   "cell_type": "code",
   "execution_count": null,
   "metadata": {},
   "outputs": [],
   "source": [
    "import classeCliente\n",
    "cliente_1 = classeCliente.Cliente(\"Rapha\")\n",
    "#print(f\"Nome do cliente: {cliente_1.nome}\")\n",
    "print(cliente_1)"
   ]
  },
  {
   "cell_type": "code",
   "execution_count": null,
   "metadata": {},
   "outputs": [],
   "source": [
    "cliente_1.ver_estoque(loja_1)\n",
    "#loja_1.calcular_valor\n"
   ]
  },
  {
   "cell_type": "code",
   "execution_count": null,
   "metadata": {},
   "outputs": [],
   "source": [
    "cliente_1.alugar_bicicleta(loja_1, 4, 's', dt.datetime(2021, 2, 11, 17, 34))"
   ]
  },
  {
   "cell_type": "code",
   "execution_count": null,
   "metadata": {},
   "outputs": [],
   "source": [
    "cliente_1.devolver_bicicleta(dt.datetime(2021, 2, 25, 17, 34, 1))"
   ]
  },
  {
   "cell_type": "code",
   "execution_count": null,
   "metadata": {},
   "outputs": [],
   "source": [
    "vars(cliente_1)\n"
   ]
  },
  {
   "cell_type": "code",
   "execution_count": 1,
   "metadata": {},
   "outputs": [],
   "source": [
    "import datetime as dt\n",
    "data_10 = dt.datetime(2021, 3, 11, 17, 34)\n",
    "data_11 = dt.datetime(2021, 2, 25, 17, 34, 1)"
   ]
  },
  {
   "cell_type": "code",
   "execution_count": 3,
   "metadata": {},
   "outputs": [],
   "source": [
    "try:\n",
    "    data_11 > data_10\n",
    "    print('data correta')\n",
    "except Exception as erro:\n",
    "    print('data incorreta')\n",
    "    print(erro)"
   ]
  },
  {
   "cell_type": "code",
   "execution_count": null,
   "metadata": {},
   "outputs": [],
   "source": [
    "import datetime as dt\n",
    "import math\n",
    "diferenca = data_11 - data_10\n",
    "print(diferenca)\n",
    "# duracao_horas = math.ceil((diferenca.days * 24) + (diferenca.seconds / 3600))\n",
    "# duracao_dias = math.ceil(diferenca.days + ((diferenca.seconds / 3600) / 24))\n",
    "#duracao_semanas = math.ceil((diferenca.days / 7) + (((diferenca.seconds / 3600) / 24) / 7))\n",
    "duracao_horas = (diferenca.days * 24) + (diferenca.seconds / 3600)\n",
    "duracao_dias = duracao_horas / 24\n",
    "duracao_semanas = (duracao_dias / 7)\n",
    "\n",
    "print(duracao_horas)\n",
    "print(duracao_dias)\n",
    "print(duracao_semanas)\n",
    "print(math.ceil(duracao_horas))\n",
    "print(math.ceil(duracao_dias))\n",
    "print(math.ceil(duracao_semanas))\n",
    "\n",
    "diferenca"
   ]
  },
  {
   "cell_type": "code",
   "execution_count": null,
   "metadata": {},
   "outputs": [],
   "source": [
    "cliente_1.devolver_bicicleta(dt.datetime(2022, 2, 12, 17, 34))"
   ]
  },
  {
   "cell_type": "code",
   "execution_count": null,
   "metadata": {},
   "outputs": [],
   "source": [
    "print(isinstance(cliente_1.data_aluguel, dt.datetime))\n",
    "print(cliente_1.data_aluguel)\n",
    "print(cliente_1.data_devolucao)\n",
    "print(isinstance(cliente_1.loja, Loja))"
   ]
  },
  {
   "cell_type": "code",
   "execution_count": null,
   "metadata": {},
   "outputs": [],
   "source": [
    "data_1 = dt.datetime(2022, 2, 15, 14, 12)\n",
    "data_2 = dt.datetime(2022, 2, 16, 19, 12)\n",
    "isinstance(data_1, dt.datetime)"
   ]
  },
  {
   "cell_type": "code",
   "execution_count": null,
   "metadata": {},
   "outputs": [],
   "source": [
    "diferenca = data_2 - data_1\n",
    "print(diferenca)\n",
    "diferenca\n",
    "math.ceil(25/7)"
   ]
  },
  {
   "cell_type": "code",
   "execution_count": null,
   "metadata": {},
   "outputs": [],
   "source": [
    "valor = 300\n",
    "print(f'{valor * 0.7:.0f}')"
   ]
  },
  {
   "cell_type": "code",
   "execution_count": null,
   "metadata": {},
   "outputs": [],
   "source": [
    "print(Cliente.ver_estoque.__name__)"
   ]
  }
 ],
 "metadata": {
  "interpreter": {
   "hash": "ac59ebe37160ed0dfa835113d9b8498d9f09ceb179beaac4002f036b9467c963"
  },
  "kernelspec": {
   "display_name": "Python 3.9.6 64-bit",
   "language": "python",
   "name": "python3"
  },
  "language_info": {
   "codemirror_mode": {
    "name": "ipython",
    "version": 3
   },
   "file_extension": ".py",
   "mimetype": "text/x-python",
   "name": "python",
   "nbconvert_exporter": "python",
   "pygments_lexer": "ipython3",
   "version": "3.9.6"
  },
  "orig_nbformat": 4
 },
 "nbformat": 4,
 "nbformat_minor": 2
}
