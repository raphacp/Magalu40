{
 "cells": [
  {
   "cell_type": "code",
   "execution_count": 1,
   "metadata": {},
   "outputs": [],
   "source": [
    "import classeLoja\n",
    "import classeCliente\n",
    "import datetime as dt"
   ]
  },
  {
   "cell_type": "code",
   "execution_count": 2,
   "metadata": {},
   "outputs": [
    {
     "name": "stdout",
     "output_type": "stream",
     "text": [
      "\n",
      "    Nome da loja: Rapha's Bike\n",
      "    Estoque da loja Rapha's Bike: 10 bicicletas.\n"
     ]
    }
   ],
   "source": [
    "loja_1 = classeLoja.Loja(\"Rapha's Bike\", 10)\n",
    "print(loja_1)"
   ]
  },
  {
   "cell_type": "code",
   "execution_count": 3,
   "metadata": {},
   "outputs": [
    {
     "name": "stdout",
     "output_type": "stream",
     "text": [
      "\n",
      "    Nome da loja: Pedro Bike\n",
      "    Estoque da loja Pedro Bike: 20 bicicletas.\n"
     ]
    }
   ],
   "source": [
    "loja_2 = classeLoja.Loja(\"Pedro Bike\", 20)\n",
    "print(loja_2)"
   ]
  },
  {
   "cell_type": "code",
   "execution_count": 4,
   "metadata": {},
   "outputs": [
    {
     "name": "stdout",
     "output_type": "stream",
     "text": [
      "\n",
      "    Nome do cliente: Rapha\n"
     ]
    }
   ],
   "source": [
    "cliente_1 = classeCliente.Cliente(\"Rapha\")\n",
    "print(cliente_1)"
   ]
  },
  {
   "cell_type": "code",
   "execution_count": 5,
   "metadata": {},
   "outputs": [
    {
     "name": "stdout",
     "output_type": "stream",
     "text": [
      "\n",
      "    Nome do cliente: Eduardo\n"
     ]
    }
   ],
   "source": [
    "cliente_2 = classeCliente.Cliente(\"Eduardo\")\n",
    "print(cliente_2)"
   ]
  },
  {
   "cell_type": "code",
   "execution_count": 6,
   "metadata": {},
   "outputs": [
    {
     "name": "stdout",
     "output_type": "stream",
     "text": [
      "\n",
      "    Nome do cliente: Paula\n"
     ]
    }
   ],
   "source": [
    "cliente_3 = classeCliente.Cliente(\"Paula\")\n",
    "print(cliente_3)"
   ]
  },
  {
   "cell_type": "code",
   "execution_count": 7,
   "metadata": {},
   "outputs": [
    {
     "name": "stdout",
     "output_type": "stream",
     "text": [
      "O estoque da loja Rapha's Bike é de 10 bicicleta(s).\n",
      "\n",
      "****************************************************************************************************************\n",
      "*  LOG\n",
      "*  Classe: Cliente - [<class 'classeCliente.Cliente'>, <class 'object'>]\n",
      "*  Método: ver_estoque\n",
      "*  Parâmetros recebidos: ('Rapha', \"Rapha's Bike\")\n",
      "*  Data: 20/02/2022 21:31:14\n",
      "****************************************************************************************************************\n",
      "\n",
      "O estoque da loja Pedro Bike é de 20 bicicleta(s).\n",
      "\n",
      "****************************************************************************************************************\n",
      "*  LOG\n",
      "*  Classe: Cliente - [<class 'classeCliente.Cliente'>, <class 'object'>]\n",
      "*  Método: ver_estoque\n",
      "*  Parâmetros recebidos: ('Rapha', 'Pedro Bike')\n",
      "*  Data: 20/02/2022 21:31:14\n",
      "****************************************************************************************************************\n",
      "\n"
     ]
    }
   ],
   "source": [
    "cliente_1.ver_estoque(loja_1)\n",
    "cliente_1.ver_estoque(loja_2)\n"
   ]
  },
  {
   "cell_type": "code",
   "execution_count": 8,
   "metadata": {},
   "outputs": [
    {
     "ename": "AttributeError",
     "evalue": "A loja informada não é um objeto da classe correspondente.",
     "output_type": "error",
     "traceback": [
      "\u001b[1;31m---------------------------------------------------------------------------\u001b[0m",
      "\u001b[1;31mAttributeError\u001b[0m                            Traceback (most recent call last)",
      "\u001b[1;32m~\\AppData\\Local\\Temp/ipykernel_2968/1753242566.py\u001b[0m in \u001b[0;36m<module>\u001b[1;34m\u001b[0m\n\u001b[1;32m----> 1\u001b[1;33m \u001b[0mcliente_2\u001b[0m\u001b[1;33m.\u001b[0m\u001b[0mver_estoque\u001b[0m\u001b[1;33m(\u001b[0m\u001b[0mcliente_2\u001b[0m\u001b[1;33m)\u001b[0m\u001b[1;33m\u001b[0m\u001b[1;33m\u001b[0m\u001b[0m\n\u001b[0m",
      "\u001b[1;32mc:\\Python\\Magalu40\\840 Desenvolve 40 Python\\2 - Programação Orientada a Objetos\\Projeto\\classeCliente.py\u001b[0m in \u001b[0;36mver_estoque\u001b[1;34m(self, loja)\u001b[0m\n\u001b[0;32m     32\u001b[0m             \u001b[0mprint\u001b[0m\u001b[1;33m(\u001b[0m\u001b[0mtexto_log\u001b[0m\u001b[1;33m)\u001b[0m\u001b[1;33m\u001b[0m\u001b[1;33m\u001b[0m\u001b[0m\n\u001b[0;32m     33\u001b[0m         \u001b[1;32melse\u001b[0m\u001b[1;33m:\u001b[0m\u001b[1;33m\u001b[0m\u001b[1;33m\u001b[0m\u001b[0m\n\u001b[1;32m---> 34\u001b[1;33m             \u001b[1;32mraise\u001b[0m \u001b[0mAttributeError\u001b[0m\u001b[1;33m(\u001b[0m\u001b[1;34m\"A loja informada não é um objeto da classe correspondente.\"\u001b[0m\u001b[1;33m)\u001b[0m\u001b[1;33m\u001b[0m\u001b[1;33m\u001b[0m\u001b[0m\n\u001b[0m\u001b[0;32m     35\u001b[0m \u001b[1;33m\u001b[0m\u001b[0m\n\u001b[0;32m     36\u001b[0m \u001b[1;33m\u001b[0m\u001b[0m\n",
      "\u001b[1;31mAttributeError\u001b[0m: A loja informada não é um objeto da classe correspondente."
     ]
    }
   ],
   "source": [
    "cliente_2.ver_estoque(cliente_2)"
   ]
  },
  {
   "cell_type": "code",
   "execution_count": 9,
   "metadata": {},
   "outputs": [
    {
     "name": "stdout",
     "output_type": "stream",
     "text": [
      "Aluguel liberado.\n",
      "Modalidade: S\n",
      "Quantidade: 4 bicicleta(s).\n",
      "Parabéns, você ganhou um desconto de 30% no aluguel de 4 bicicletas.\n",
      "\n",
      "****************************************************************************************************************\n",
      "*  LOG\n",
      "*  Classe: Cliente - [<class 'classeCliente.Cliente'>, <class 'object'>]\n",
      "*  Método: alugar_bicicleta\n",
      "*  Parâmetros recebidos: ('Rapha', \"Rapha's Bike\", 4, 's', datetime.datetime(2021, 2, 11, 17, 34))\n",
      "*  Data: 20/02/2022 21:31:21\n",
      "****************************************************************************************************************\n",
      "\n"
     ]
    }
   ],
   "source": [
    "cliente_1.alugar_bicicleta(loja_1, 4, 's', dt.datetime(2021, 2, 11, 17, 34))"
   ]
  },
  {
   "cell_type": "code",
   "execution_count": 10,
   "metadata": {},
   "outputs": [
    {
     "name": "stdout",
     "output_type": "stream",
     "text": [
      "O cliente Rapha já tem 4 bicicleta(s) alugada(s) na loja Rapha's Bike e não é possível fazer um novo aluguel.\n",
      "\n",
      "****************************************************************************************************************\n",
      "*  LOG\n",
      "*  Classe: Cliente - [<class 'classeCliente.Cliente'>, <class 'object'>]\n",
      "*  Método: alugar_bicicleta\n",
      "*  Parâmetros recebidos: ('Rapha', 'Pedro Bike', 2, 's', datetime.datetime(2021, 2, 11, 17, 34))\n",
      "*  Data: 20/02/2022 21:31:29\n",
      "****************************************************************************************************************\n",
      "\n"
     ]
    }
   ],
   "source": [
    "cliente_1.alugar_bicicleta(loja_2, 2, 's', dt.datetime(2021, 2, 11, 17, 34))"
   ]
  },
  {
   "cell_type": "code",
   "execution_count": 11,
   "metadata": {},
   "outputs": [
    {
     "ename": "AssertionError",
     "evalue": "A loja informada não é um objeto da classe correspondente.",
     "output_type": "error",
     "traceback": [
      "\u001b[1;31m---------------------------------------------------------------------------\u001b[0m",
      "\u001b[1;31mAssertionError\u001b[0m                            Traceback (most recent call last)",
      "\u001b[1;32m~\\AppData\\Local\\Temp/ipykernel_2968/2616944720.py\u001b[0m in \u001b[0;36m<module>\u001b[1;34m\u001b[0m\n\u001b[1;32m----> 1\u001b[1;33m \u001b[0mcliente_2\u001b[0m\u001b[1;33m.\u001b[0m\u001b[0malugar_bicicleta\u001b[0m\u001b[1;33m(\u001b[0m\u001b[0mcliente_1\u001b[0m\u001b[1;33m,\u001b[0m \u001b[1;36m4\u001b[0m\u001b[1;33m,\u001b[0m \u001b[1;34m's'\u001b[0m\u001b[1;33m,\u001b[0m \u001b[0mdt\u001b[0m\u001b[1;33m.\u001b[0m\u001b[0mdatetime\u001b[0m\u001b[1;33m(\u001b[0m\u001b[1;36m2021\u001b[0m\u001b[1;33m,\u001b[0m \u001b[1;36m2\u001b[0m\u001b[1;33m,\u001b[0m \u001b[1;36m11\u001b[0m\u001b[1;33m,\u001b[0m \u001b[1;36m17\u001b[0m\u001b[1;33m,\u001b[0m \u001b[1;36m34\u001b[0m\u001b[1;33m)\u001b[0m\u001b[1;33m)\u001b[0m\u001b[1;33m\u001b[0m\u001b[1;33m\u001b[0m\u001b[0m\n\u001b[0m",
      "\u001b[1;32mc:\\Python\\Magalu40\\840 Desenvolve 40 Python\\2 - Programação Orientada a Objetos\\Projeto\\classeCliente.py\u001b[0m in \u001b[0;36malugar_bicicleta\u001b[1;34m(self, loja, qtd, tipo, data_hora)\u001b[0m\n\u001b[0;32m     38\u001b[0m         \u001b[1;31m# Coloquei uma limitação de 1 aluguel por cliente para simplificar, devido ao tempo curto para desenvolver o projeto\u001b[0m\u001b[1;33m\u001b[0m\u001b[1;33m\u001b[0m\u001b[1;33m\u001b[0m\u001b[0m\n\u001b[0;32m     39\u001b[0m         \u001b[1;31m# Caso dê tempo vou retirar esta trava e fazer melhor.\u001b[0m\u001b[1;33m\u001b[0m\u001b[1;33m\u001b[0m\u001b[1;33m\u001b[0m\u001b[0m\n\u001b[1;32m---> 40\u001b[1;33m         \u001b[1;32massert\u001b[0m \u001b[0misinstance\u001b[0m\u001b[1;33m(\u001b[0m\u001b[0mloja\u001b[0m\u001b[1;33m,\u001b[0m \u001b[0mclasseLoja\u001b[0m\u001b[1;33m.\u001b[0m\u001b[0mLoja\u001b[0m\u001b[1;33m)\u001b[0m\u001b[1;33m,\u001b[0m \u001b[1;34m'A loja informada não é um objeto da classe correspondente.'\u001b[0m\u001b[1;33m\u001b[0m\u001b[1;33m\u001b[0m\u001b[0m\n\u001b[0m\u001b[0;32m     41\u001b[0m         \u001b[1;32massert\u001b[0m \u001b[0misinstance\u001b[0m\u001b[1;33m(\u001b[0m\u001b[0mqtd\u001b[0m\u001b[1;33m,\u001b[0m \u001b[0mint\u001b[0m\u001b[1;33m)\u001b[0m\u001b[1;33m,\u001b[0m \u001b[1;34m'A quantidade deve ser um número inteiro.'\u001b[0m\u001b[1;33m\u001b[0m\u001b[1;33m\u001b[0m\u001b[0m\n\u001b[0;32m     42\u001b[0m         \u001b[1;32massert\u001b[0m \u001b[0misinstance\u001b[0m\u001b[1;33m(\u001b[0m\u001b[0mtipo\u001b[0m\u001b[1;33m,\u001b[0m \u001b[0mstr\u001b[0m\u001b[1;33m)\u001b[0m\u001b[1;33m,\u001b[0m \u001b[1;34m'O tipo de aluguel deve ser uma string H, D ou S.'\u001b[0m\u001b[1;33m\u001b[0m\u001b[1;33m\u001b[0m\u001b[0m\n",
      "\u001b[1;31mAssertionError\u001b[0m: A loja informada não é um objeto da classe correspondente."
     ]
    }
   ],
   "source": [
    "cliente_2.alugar_bicicleta(cliente_1, 4, 's', dt.datetime(2021, 2, 11, 17, 34))"
   ]
  },
  {
   "cell_type": "code",
   "execution_count": 12,
   "metadata": {},
   "outputs": [
    {
     "ename": "AssertionError",
     "evalue": "A quantidade deve ser um número inteiro.",
     "output_type": "error",
     "traceback": [
      "\u001b[1;31m---------------------------------------------------------------------------\u001b[0m",
      "\u001b[1;31mAssertionError\u001b[0m                            Traceback (most recent call last)",
      "\u001b[1;32m~\\AppData\\Local\\Temp/ipykernel_2968/530813658.py\u001b[0m in \u001b[0;36m<module>\u001b[1;34m\u001b[0m\n\u001b[1;32m----> 1\u001b[1;33m \u001b[0mcliente_2\u001b[0m\u001b[1;33m.\u001b[0m\u001b[0malugar_bicicleta\u001b[0m\u001b[1;33m(\u001b[0m\u001b[0mloja_2\u001b[0m\u001b[1;33m,\u001b[0m \u001b[1;34m'4'\u001b[0m\u001b[1;33m,\u001b[0m \u001b[1;34m'd'\u001b[0m\u001b[1;33m,\u001b[0m \u001b[0mdt\u001b[0m\u001b[1;33m.\u001b[0m\u001b[0mdatetime\u001b[0m\u001b[1;33m(\u001b[0m\u001b[1;36m2021\u001b[0m\u001b[1;33m,\u001b[0m \u001b[1;36m2\u001b[0m\u001b[1;33m,\u001b[0m \u001b[1;36m11\u001b[0m\u001b[1;33m,\u001b[0m \u001b[1;36m17\u001b[0m\u001b[1;33m,\u001b[0m \u001b[1;36m34\u001b[0m\u001b[1;33m)\u001b[0m\u001b[1;33m)\u001b[0m\u001b[1;33m\u001b[0m\u001b[1;33m\u001b[0m\u001b[0m\n\u001b[0m",
      "\u001b[1;32mc:\\Python\\Magalu40\\840 Desenvolve 40 Python\\2 - Programação Orientada a Objetos\\Projeto\\classeCliente.py\u001b[0m in \u001b[0;36malugar_bicicleta\u001b[1;34m(self, loja, qtd, tipo, data_hora)\u001b[0m\n\u001b[0;32m     39\u001b[0m         \u001b[1;31m# Caso dê tempo vou retirar esta trava e fazer melhor.\u001b[0m\u001b[1;33m\u001b[0m\u001b[1;33m\u001b[0m\u001b[1;33m\u001b[0m\u001b[0m\n\u001b[0;32m     40\u001b[0m         \u001b[1;32massert\u001b[0m \u001b[0misinstance\u001b[0m\u001b[1;33m(\u001b[0m\u001b[0mloja\u001b[0m\u001b[1;33m,\u001b[0m \u001b[0mclasseLoja\u001b[0m\u001b[1;33m.\u001b[0m\u001b[0mLoja\u001b[0m\u001b[1;33m)\u001b[0m\u001b[1;33m,\u001b[0m \u001b[1;34m'A loja informada não é um objeto da classe correspondente.'\u001b[0m\u001b[1;33m\u001b[0m\u001b[1;33m\u001b[0m\u001b[0m\n\u001b[1;32m---> 41\u001b[1;33m         \u001b[1;32massert\u001b[0m \u001b[0misinstance\u001b[0m\u001b[1;33m(\u001b[0m\u001b[0mqtd\u001b[0m\u001b[1;33m,\u001b[0m \u001b[0mint\u001b[0m\u001b[1;33m)\u001b[0m\u001b[1;33m,\u001b[0m \u001b[1;34m'A quantidade deve ser um número inteiro.'\u001b[0m\u001b[1;33m\u001b[0m\u001b[1;33m\u001b[0m\u001b[0m\n\u001b[0m\u001b[0;32m     42\u001b[0m         \u001b[1;32massert\u001b[0m \u001b[0misinstance\u001b[0m\u001b[1;33m(\u001b[0m\u001b[0mtipo\u001b[0m\u001b[1;33m,\u001b[0m \u001b[0mstr\u001b[0m\u001b[1;33m)\u001b[0m\u001b[1;33m,\u001b[0m \u001b[1;34m'O tipo de aluguel deve ser uma string H, D ou S.'\u001b[0m\u001b[1;33m\u001b[0m\u001b[1;33m\u001b[0m\u001b[0m\n\u001b[0;32m     43\u001b[0m         \u001b[1;32massert\u001b[0m \u001b[0misinstance\u001b[0m\u001b[1;33m(\u001b[0m\u001b[0mdata_hora\u001b[0m\u001b[1;33m,\u001b[0m \u001b[0mdt\u001b[0m\u001b[1;33m.\u001b[0m\u001b[0mdatetime\u001b[0m\u001b[1;33m)\u001b[0m\u001b[1;33m,\u001b[0m \u001b[1;34m'A data informada não está no padrão correto.'\u001b[0m\u001b[1;33m\u001b[0m\u001b[1;33m\u001b[0m\u001b[0m\n",
      "\u001b[1;31mAssertionError\u001b[0m: A quantidade deve ser um número inteiro."
     ]
    }
   ],
   "source": [
    "cliente_2.alugar_bicicleta(loja_2, '4', 'd', dt.datetime(2021, 2, 11, 17, 34))"
   ]
  },
  {
   "cell_type": "code",
   "execution_count": 13,
   "metadata": {},
   "outputs": [
    {
     "ename": "AssertionError",
     "evalue": "O tipo de aluguel deve ser uma string H, D ou S.",
     "output_type": "error",
     "traceback": [
      "\u001b[1;31m---------------------------------------------------------------------------\u001b[0m",
      "\u001b[1;31mAssertionError\u001b[0m                            Traceback (most recent call last)",
      "\u001b[1;32m~\\AppData\\Local\\Temp/ipykernel_2968/3371166797.py\u001b[0m in \u001b[0;36m<module>\u001b[1;34m\u001b[0m\n\u001b[1;32m----> 1\u001b[1;33m \u001b[0mcliente_2\u001b[0m\u001b[1;33m.\u001b[0m\u001b[0malugar_bicicleta\u001b[0m\u001b[1;33m(\u001b[0m\u001b[0mloja_2\u001b[0m\u001b[1;33m,\u001b[0m \u001b[1;36m4\u001b[0m\u001b[1;33m,\u001b[0m \u001b[1;36m5\u001b[0m\u001b[1;33m,\u001b[0m \u001b[0mdt\u001b[0m\u001b[1;33m.\u001b[0m\u001b[0mdatetime\u001b[0m\u001b[1;33m(\u001b[0m\u001b[1;36m2021\u001b[0m\u001b[1;33m,\u001b[0m \u001b[1;36m2\u001b[0m\u001b[1;33m,\u001b[0m \u001b[1;36m11\u001b[0m\u001b[1;33m,\u001b[0m \u001b[1;36m17\u001b[0m\u001b[1;33m,\u001b[0m \u001b[1;36m34\u001b[0m\u001b[1;33m)\u001b[0m\u001b[1;33m)\u001b[0m\u001b[1;33m\u001b[0m\u001b[1;33m\u001b[0m\u001b[0m\n\u001b[0m",
      "\u001b[1;32mc:\\Python\\Magalu40\\840 Desenvolve 40 Python\\2 - Programação Orientada a Objetos\\Projeto\\classeCliente.py\u001b[0m in \u001b[0;36malugar_bicicleta\u001b[1;34m(self, loja, qtd, tipo, data_hora)\u001b[0m\n\u001b[0;32m     40\u001b[0m         \u001b[1;32massert\u001b[0m \u001b[0misinstance\u001b[0m\u001b[1;33m(\u001b[0m\u001b[0mloja\u001b[0m\u001b[1;33m,\u001b[0m \u001b[0mclasseLoja\u001b[0m\u001b[1;33m.\u001b[0m\u001b[0mLoja\u001b[0m\u001b[1;33m)\u001b[0m\u001b[1;33m,\u001b[0m \u001b[1;34m'A loja informada não é um objeto da classe correspondente.'\u001b[0m\u001b[1;33m\u001b[0m\u001b[1;33m\u001b[0m\u001b[0m\n\u001b[0;32m     41\u001b[0m         \u001b[1;32massert\u001b[0m \u001b[0misinstance\u001b[0m\u001b[1;33m(\u001b[0m\u001b[0mqtd\u001b[0m\u001b[1;33m,\u001b[0m \u001b[0mint\u001b[0m\u001b[1;33m)\u001b[0m\u001b[1;33m,\u001b[0m \u001b[1;34m'A quantidade deve ser um número inteiro.'\u001b[0m\u001b[1;33m\u001b[0m\u001b[1;33m\u001b[0m\u001b[0m\n\u001b[1;32m---> 42\u001b[1;33m         \u001b[1;32massert\u001b[0m \u001b[0misinstance\u001b[0m\u001b[1;33m(\u001b[0m\u001b[0mtipo\u001b[0m\u001b[1;33m,\u001b[0m \u001b[0mstr\u001b[0m\u001b[1;33m)\u001b[0m\u001b[1;33m,\u001b[0m \u001b[1;34m'O tipo de aluguel deve ser uma string H, D ou S.'\u001b[0m\u001b[1;33m\u001b[0m\u001b[1;33m\u001b[0m\u001b[0m\n\u001b[0m\u001b[0;32m     43\u001b[0m         \u001b[1;32massert\u001b[0m \u001b[0misinstance\u001b[0m\u001b[1;33m(\u001b[0m\u001b[0mdata_hora\u001b[0m\u001b[1;33m,\u001b[0m \u001b[0mdt\u001b[0m\u001b[1;33m.\u001b[0m\u001b[0mdatetime\u001b[0m\u001b[1;33m)\u001b[0m\u001b[1;33m,\u001b[0m \u001b[1;34m'A data informada não está no padrão correto.'\u001b[0m\u001b[1;33m\u001b[0m\u001b[1;33m\u001b[0m\u001b[0m\n\u001b[0;32m     44\u001b[0m         \u001b[1;32mif\u001b[0m \u001b[0mself\u001b[0m\u001b[1;33m.\u001b[0m\u001b[0maluguel_ativo\u001b[0m \u001b[1;33m==\u001b[0m \u001b[1;32mFalse\u001b[0m\u001b[1;33m:\u001b[0m\u001b[1;33m\u001b[0m\u001b[1;33m\u001b[0m\u001b[0m\n",
      "\u001b[1;31mAssertionError\u001b[0m: O tipo de aluguel deve ser uma string H, D ou S."
     ]
    }
   ],
   "source": [
    "cliente_2.alugar_bicicleta(loja_2, 4, 5, dt.datetime(2021, 2, 11, 17, 34))"
   ]
  },
  {
   "cell_type": "code",
   "execution_count": 14,
   "metadata": {},
   "outputs": [
    {
     "ename": "AssertionError",
     "evalue": "A data informada não está no padrão correto.",
     "output_type": "error",
     "traceback": [
      "\u001b[1;31m---------------------------------------------------------------------------\u001b[0m",
      "\u001b[1;31mAssertionError\u001b[0m                            Traceback (most recent call last)",
      "\u001b[1;32m~\\AppData\\Local\\Temp/ipykernel_2968/930036165.py\u001b[0m in \u001b[0;36m<module>\u001b[1;34m\u001b[0m\n\u001b[1;32m----> 1\u001b[1;33m \u001b[0mcliente_2\u001b[0m\u001b[1;33m.\u001b[0m\u001b[0malugar_bicicleta\u001b[0m\u001b[1;33m(\u001b[0m\u001b[0mloja_2\u001b[0m\u001b[1;33m,\u001b[0m \u001b[1;36m4\u001b[0m\u001b[1;33m,\u001b[0m \u001b[1;34m'd'\u001b[0m\u001b[1;33m,\u001b[0m \u001b[1;36m2021\u001b[0m\u001b[1;33m/\u001b[0m\u001b[1;36m2\u001b[0m\u001b[1;33m/\u001b[0m\u001b[1;36m11\u001b[0m\u001b[1;33m)\u001b[0m\u001b[1;33m\u001b[0m\u001b[1;33m\u001b[0m\u001b[0m\n\u001b[0m",
      "\u001b[1;32mc:\\Python\\Magalu40\\840 Desenvolve 40 Python\\2 - Programação Orientada a Objetos\\Projeto\\classeCliente.py\u001b[0m in \u001b[0;36malugar_bicicleta\u001b[1;34m(self, loja, qtd, tipo, data_hora)\u001b[0m\n\u001b[0;32m     41\u001b[0m         \u001b[1;32massert\u001b[0m \u001b[0misinstance\u001b[0m\u001b[1;33m(\u001b[0m\u001b[0mqtd\u001b[0m\u001b[1;33m,\u001b[0m \u001b[0mint\u001b[0m\u001b[1;33m)\u001b[0m\u001b[1;33m,\u001b[0m \u001b[1;34m'A quantidade deve ser um número inteiro.'\u001b[0m\u001b[1;33m\u001b[0m\u001b[1;33m\u001b[0m\u001b[0m\n\u001b[0;32m     42\u001b[0m         \u001b[1;32massert\u001b[0m \u001b[0misinstance\u001b[0m\u001b[1;33m(\u001b[0m\u001b[0mtipo\u001b[0m\u001b[1;33m,\u001b[0m \u001b[0mstr\u001b[0m\u001b[1;33m)\u001b[0m\u001b[1;33m,\u001b[0m \u001b[1;34m'O tipo de aluguel deve ser uma string H, D ou S.'\u001b[0m\u001b[1;33m\u001b[0m\u001b[1;33m\u001b[0m\u001b[0m\n\u001b[1;32m---> 43\u001b[1;33m         \u001b[1;32massert\u001b[0m \u001b[0misinstance\u001b[0m\u001b[1;33m(\u001b[0m\u001b[0mdata_hora\u001b[0m\u001b[1;33m,\u001b[0m \u001b[0mdt\u001b[0m\u001b[1;33m.\u001b[0m\u001b[0mdatetime\u001b[0m\u001b[1;33m)\u001b[0m\u001b[1;33m,\u001b[0m \u001b[1;34m'A data informada não está no padrão correto.'\u001b[0m\u001b[1;33m\u001b[0m\u001b[1;33m\u001b[0m\u001b[0m\n\u001b[0m\u001b[0;32m     44\u001b[0m         \u001b[1;32mif\u001b[0m \u001b[0mself\u001b[0m\u001b[1;33m.\u001b[0m\u001b[0maluguel_ativo\u001b[0m \u001b[1;33m==\u001b[0m \u001b[1;32mFalse\u001b[0m\u001b[1;33m:\u001b[0m\u001b[1;33m\u001b[0m\u001b[1;33m\u001b[0m\u001b[0m\n\u001b[0;32m     45\u001b[0m             \u001b[0mself\u001b[0m\u001b[1;33m.\u001b[0m\u001b[0mloja\u001b[0m \u001b[1;33m=\u001b[0m \u001b[0mloja\u001b[0m\u001b[1;33m\u001b[0m\u001b[1;33m\u001b[0m\u001b[0m\n",
      "\u001b[1;31mAssertionError\u001b[0m: A data informada não está no padrão correto."
     ]
    }
   ],
   "source": [
    "cliente_2.alugar_bicicleta(loja_2, 4, 'd', 2021/2/11)"
   ]
  },
  {
   "cell_type": "code",
   "execution_count": 15,
   "metadata": {},
   "outputs": [
    {
     "name": "stdout",
     "output_type": "stream",
     "text": [
      "Aluguel liberado.\n",
      "Modalidade: D\n",
      "Quantidade: 4 bicicleta(s).\n",
      "Parabéns, você ganhou um desconto de 30% no aluguel de 4 bicicletas.\n",
      "\n",
      "****************************************************************************************************************\n",
      "*  LOG\n",
      "*  Classe: Cliente - [<class 'classeCliente.Cliente'>, <class 'object'>]\n",
      "*  Método: alugar_bicicleta\n",
      "*  Parâmetros recebidos: ('Eduardo', 'Pedro Bike', 4, 'd', datetime.datetime(2021, 2, 11, 17, 34))\n",
      "*  Data: 20/02/2022 21:31:37\n",
      "****************************************************************************************************************\n",
      "\n"
     ]
    }
   ],
   "source": [
    "cliente_2.alugar_bicicleta(loja_2, 4, 'd', dt.datetime(2021, 2, 11, 17, 34))"
   ]
  },
  {
   "cell_type": "code",
   "execution_count": 16,
   "metadata": {},
   "outputs": [
    {
     "name": "stdout",
     "output_type": "stream",
     "text": [
      "A loja Rapha's Bike não tem bicicletas disponíveis para aluguel. Estoque: 6.\n",
      "\n",
      "****************************************************************************************************************\n",
      "*  LOG\n",
      "*  Classe: Cliente - [<class 'classeCliente.Cliente'>, <class 'object'>]\n",
      "*  Método: alugar_bicicleta\n",
      "*  Parâmetros recebidos: ('Paula', \"Rapha's Bike\", 11, 'h', datetime.datetime(2021, 2, 11, 17, 34))\n",
      "*  Data: 20/02/2022 21:31:39\n",
      "****************************************************************************************************************\n",
      "\n"
     ]
    }
   ],
   "source": [
    "cliente_3.alugar_bicicleta(loja_1, 11, 'h', dt.datetime(2021, 2, 11, 17, 34))"
   ]
  },
  {
   "cell_type": "code",
   "execution_count": 18,
   "metadata": {},
   "outputs": [
    {
     "name": "stdout",
     "output_type": "stream",
     "text": [
      "A loja Rapha's Bike só trabalha com aluguel nas modalidades Hora(H), Dia(D) ou Semana(S).\n",
      "\n",
      "****************************************************************************************************************\n",
      "*  LOG\n",
      "*  Classe: Cliente - [<class 'classeCliente.Cliente'>, <class 'object'>]\n",
      "*  Método: alugar_bicicleta\n",
      "*  Parâmetros recebidos: ('Paula', \"Rapha's Bike\", 1, 'a', datetime.datetime(2021, 2, 11, 17, 34))\n",
      "*  Data: 20/02/2022 21:31:52\n",
      "****************************************************************************************************************\n",
      "\n"
     ]
    }
   ],
   "source": [
    "cliente_3.alugar_bicicleta(loja_1, 1, 'a', dt.datetime(2021, 2, 11, 17, 34))"
   ]
  },
  {
   "cell_type": "code",
   "execution_count": 19,
   "metadata": {},
   "outputs": [
    {
     "ename": "AssertionError",
     "evalue": "A data informada não está no padrão correto.",
     "output_type": "error",
     "traceback": [
      "\u001b[1;31m---------------------------------------------------------------------------\u001b[0m",
      "\u001b[1;31mAssertionError\u001b[0m                            Traceback (most recent call last)",
      "\u001b[1;32m~\\AppData\\Local\\Temp/ipykernel_2968/1364457426.py\u001b[0m in \u001b[0;36m<module>\u001b[1;34m\u001b[0m\n\u001b[1;32m----> 1\u001b[1;33m \u001b[0mcliente_3\u001b[0m\u001b[1;33m.\u001b[0m\u001b[0malugar_bicicleta\u001b[0m\u001b[1;33m(\u001b[0m\u001b[0mloja_1\u001b[0m\u001b[1;33m,\u001b[0m \u001b[1;36m2\u001b[0m\u001b[1;33m,\u001b[0m \u001b[1;34m'h'\u001b[0m\u001b[1;33m,\u001b[0m \u001b[1;36m2021\u001b[0m\u001b[1;33m/\u001b[0m\u001b[1;36m2\u001b[0m\u001b[1;33m/\u001b[0m\u001b[1;36m11\u001b[0m\u001b[1;33m)\u001b[0m\u001b[1;33m\u001b[0m\u001b[1;33m\u001b[0m\u001b[0m\n\u001b[0m",
      "\u001b[1;32mc:\\Python\\Magalu40\\840 Desenvolve 40 Python\\2 - Programação Orientada a Objetos\\Projeto\\classeCliente.py\u001b[0m in \u001b[0;36malugar_bicicleta\u001b[1;34m(self, loja, qtd, tipo, data_hora)\u001b[0m\n\u001b[0;32m     41\u001b[0m         \u001b[1;32massert\u001b[0m \u001b[0misinstance\u001b[0m\u001b[1;33m(\u001b[0m\u001b[0mqtd\u001b[0m\u001b[1;33m,\u001b[0m \u001b[0mint\u001b[0m\u001b[1;33m)\u001b[0m\u001b[1;33m,\u001b[0m \u001b[1;34m'A quantidade deve ser um número inteiro.'\u001b[0m\u001b[1;33m\u001b[0m\u001b[1;33m\u001b[0m\u001b[0m\n\u001b[0;32m     42\u001b[0m         \u001b[1;32massert\u001b[0m \u001b[0misinstance\u001b[0m\u001b[1;33m(\u001b[0m\u001b[0mtipo\u001b[0m\u001b[1;33m,\u001b[0m \u001b[0mstr\u001b[0m\u001b[1;33m)\u001b[0m\u001b[1;33m,\u001b[0m \u001b[1;34m'O tipo de aluguel deve ser uma string H, D ou S.'\u001b[0m\u001b[1;33m\u001b[0m\u001b[1;33m\u001b[0m\u001b[0m\n\u001b[1;32m---> 43\u001b[1;33m         \u001b[1;32massert\u001b[0m \u001b[0misinstance\u001b[0m\u001b[1;33m(\u001b[0m\u001b[0mdata_hora\u001b[0m\u001b[1;33m,\u001b[0m \u001b[0mdt\u001b[0m\u001b[1;33m.\u001b[0m\u001b[0mdatetime\u001b[0m\u001b[1;33m)\u001b[0m\u001b[1;33m,\u001b[0m \u001b[1;34m'A data informada não está no padrão correto.'\u001b[0m\u001b[1;33m\u001b[0m\u001b[1;33m\u001b[0m\u001b[0m\n\u001b[0m\u001b[0;32m     44\u001b[0m         \u001b[1;32mif\u001b[0m \u001b[0mself\u001b[0m\u001b[1;33m.\u001b[0m\u001b[0maluguel_ativo\u001b[0m \u001b[1;33m==\u001b[0m \u001b[1;32mFalse\u001b[0m\u001b[1;33m:\u001b[0m\u001b[1;33m\u001b[0m\u001b[1;33m\u001b[0m\u001b[0m\n\u001b[0;32m     45\u001b[0m             \u001b[0mself\u001b[0m\u001b[1;33m.\u001b[0m\u001b[0mloja\u001b[0m \u001b[1;33m=\u001b[0m \u001b[0mloja\u001b[0m\u001b[1;33m\u001b[0m\u001b[1;33m\u001b[0m\u001b[0m\n",
      "\u001b[1;31mAssertionError\u001b[0m: A data informada não está no padrão correto."
     ]
    }
   ],
   "source": [
    "cliente_3.alugar_bicicleta(loja_1, 2, 'h', 2021/2/11)"
   ]
  },
  {
   "cell_type": "code",
   "execution_count": 20,
   "metadata": {},
   "outputs": [
    {
     "name": "stdout",
     "output_type": "stream",
     "text": [
      "Aluguel liberado.\n",
      "Modalidade: H\n",
      "Quantidade: 1 bicicleta(s).\n",
      "\n",
      "****************************************************************************************************************\n",
      "*  LOG\n",
      "*  Classe: Cliente - [<class 'classeCliente.Cliente'>, <class 'object'>]\n",
      "*  Método: alugar_bicicleta\n",
      "*  Parâmetros recebidos: ('Paula', 'Pedro Bike', 1, 'h', datetime.datetime(2021, 2, 11, 17, 34))\n",
      "*  Data: 20/02/2022 21:32:08\n",
      "****************************************************************************************************************\n",
      "\n"
     ]
    }
   ],
   "source": [
    "cliente_3.alugar_bicicleta(loja_2, 1, 'h', dt.datetime(2021, 2, 11, 17, 34))"
   ]
  },
  {
   "cell_type": "code",
   "execution_count": 22,
   "metadata": {},
   "outputs": [
    {
     "name": "stdout",
     "output_type": "stream",
     "text": [
      "\n",
      "****************************************************************************************************************\n",
      "*  LOG\n",
      "*  Classe: Loja - [<class 'classeLoja.Loja'>, <class 'object'>]\n",
      "*  Método: calcular_valor\n",
      "*  Parâmetros recebidos: ('S', datetime.datetime(2021, 2, 11, 17, 34), datetime.datetime(2021, 12, 25, 17, 34, 1))\n",
      "*  Data: 20/02/2022 21:32:21\n",
      "****************************************************************************************************************\n",
      "\n",
      "Oba!\n",
      "Por ter alugado 4 bicicletas você ganhou um desconto de 30% e o aluguel ficou em R$ 12880,00 pelo período de 46 semanas.\n",
      "\n",
      "****************************************************************************************************************\n",
      "*  LOG\n",
      "*  Classe: Cliente - [<class 'classeCliente.Cliente'>, <class 'object'>]\n",
      "*  Método: devolver_bicicleta\n",
      "*  Parâmetros recebidos: ('Rapha', datetime.datetime(2021, 12, 25, 17, 34, 1))\n",
      "*  Data: 20/02/2022 21:32:21\n",
      "****************************************************************************************************************\n",
      "\n"
     ]
    }
   ],
   "source": [
    "cliente_1.devolver_bicicleta(dt.datetime(2021, 12, 25, 17, 34, 1))"
   ]
  },
  {
   "cell_type": "code",
   "execution_count": 23,
   "metadata": {},
   "outputs": [
    {
     "ename": "AssertionError",
     "evalue": "A data de devolução informada não está no padrão correto.",
     "output_type": "error",
     "traceback": [
      "\u001b[1;31m---------------------------------------------------------------------------\u001b[0m",
      "\u001b[1;31mAssertionError\u001b[0m                            Traceback (most recent call last)",
      "\u001b[1;32m~\\AppData\\Local\\Temp/ipykernel_2968/3501142730.py\u001b[0m in \u001b[0;36m<module>\u001b[1;34m\u001b[0m\n\u001b[1;32m----> 1\u001b[1;33m \u001b[0mcliente_2\u001b[0m\u001b[1;33m.\u001b[0m\u001b[0mdevolver_bicicleta\u001b[0m\u001b[1;33m(\u001b[0m\u001b[1;36m2021\u001b[0m\u001b[1;33m/\u001b[0m\u001b[1;36m12\u001b[0m\u001b[1;33m/\u001b[0m\u001b[1;36m25\u001b[0m\u001b[1;33m)\u001b[0m\u001b[1;33m\u001b[0m\u001b[1;33m\u001b[0m\u001b[0m\n\u001b[0m",
      "\u001b[1;32mc:\\Python\\Magalu40\\840 Desenvolve 40 Python\\2 - Programação Orientada a Objetos\\Projeto\\classeCliente.py\u001b[0m in \u001b[0;36mdevolver_bicicleta\u001b[1;34m(self, data_hora)\u001b[0m\n\u001b[0;32m     76\u001b[0m \u001b[1;33m\u001b[0m\u001b[0m\n\u001b[0;32m     77\u001b[0m     \u001b[1;32mdef\u001b[0m \u001b[0mdevolver_bicicleta\u001b[0m\u001b[1;33m(\u001b[0m\u001b[0mself\u001b[0m\u001b[1;33m,\u001b[0m \u001b[0mdata_hora\u001b[0m\u001b[1;33m)\u001b[0m\u001b[1;33m:\u001b[0m\u001b[1;33m\u001b[0m\u001b[1;33m\u001b[0m\u001b[0m\n\u001b[1;32m---> 78\u001b[1;33m         \u001b[1;32massert\u001b[0m \u001b[0misinstance\u001b[0m\u001b[1;33m(\u001b[0m\u001b[0mdata_hora\u001b[0m\u001b[1;33m,\u001b[0m \u001b[0mdt\u001b[0m\u001b[1;33m.\u001b[0m\u001b[0mdatetime\u001b[0m\u001b[1;33m)\u001b[0m\u001b[1;33m,\u001b[0m \u001b[1;34m'A data de devolução informada não está no padrão correto.'\u001b[0m\u001b[1;33m\u001b[0m\u001b[1;33m\u001b[0m\u001b[0m\n\u001b[0m\u001b[0;32m     79\u001b[0m         \u001b[1;32mif\u001b[0m \u001b[0mself\u001b[0m\u001b[1;33m.\u001b[0m\u001b[0maluguel_ativo\u001b[0m \u001b[1;33m==\u001b[0m \u001b[1;32mTrue\u001b[0m\u001b[1;33m:\u001b[0m\u001b[1;33m\u001b[0m\u001b[1;33m\u001b[0m\u001b[0m\n\u001b[0;32m     80\u001b[0m             \u001b[0mself\u001b[0m\u001b[1;33m.\u001b[0m\u001b[0mdata_devolucao\u001b[0m \u001b[1;33m=\u001b[0m \u001b[0mdata_hora\u001b[0m\u001b[1;33m\u001b[0m\u001b[1;33m\u001b[0m\u001b[0m\n",
      "\u001b[1;31mAssertionError\u001b[0m: A data de devolução informada não está no padrão correto."
     ]
    }
   ],
   "source": [
    "cliente_2.devolver_bicicleta(2021/12/25)"
   ]
  },
  {
   "cell_type": "code",
   "execution_count": 24,
   "metadata": {},
   "outputs": [
    {
     "name": "stdout",
     "output_type": "stream",
     "text": [
      "\n",
      "****************************************************************************************************************\n",
      "*  LOG\n",
      "*  Classe: Loja - [<class 'classeLoja.Loja'>, <class 'object'>]\n",
      "*  Método: calcular_valor\n",
      "*  Parâmetros recebidos: ('D', datetime.datetime(2021, 2, 11, 17, 34), datetime.datetime(2021, 12, 25, 17, 34, 1))\n",
      "*  Data: 20/02/2022 21:33:18\n",
      "****************************************************************************************************************\n",
      "\n",
      "Oba!\n",
      "Por ter alugado 4 bicicletas você ganhou um desconto de 30% e o aluguel ficou em R$ 22260,00 pelo período de 318 dias.\n",
      "\n",
      "****************************************************************************************************************\n",
      "*  LOG\n",
      "*  Classe: Cliente - [<class 'classeCliente.Cliente'>, <class 'object'>]\n",
      "*  Método: devolver_bicicleta\n",
      "*  Parâmetros recebidos: ('Eduardo', datetime.datetime(2021, 12, 25, 17, 34, 1))\n",
      "*  Data: 20/02/2022 21:33:18\n",
      "****************************************************************************************************************\n",
      "\n"
     ]
    }
   ],
   "source": [
    "cliente_2.devolver_bicicleta(dt.datetime(2021, 12, 25, 17, 34, 1))"
   ]
  },
  {
   "cell_type": "code",
   "execution_count": 25,
   "metadata": {},
   "outputs": [
    {
     "name": "stdout",
     "output_type": "stream",
     "text": [
      "\n",
      "****************************************************************************************************************\n",
      "*  LOG\n",
      "*  Classe: Loja - [<class 'classeLoja.Loja'>, <class 'object'>]\n",
      "*  Método: calcular_valor\n",
      "*  Parâmetros recebidos: ('H', datetime.datetime(2021, 2, 11, 17, 34), datetime.datetime(2021, 12, 25, 17, 34, 1))\n",
      "*  Data: 20/02/2022 21:33:21\n",
      "****************************************************************************************************************\n",
      "\n",
      "O aluguel de 1 bicicletas ficou em R$ 38045,00 pelo período de 7609 horas.\n",
      "\n",
      "****************************************************************************************************************\n",
      "*  LOG\n",
      "*  Classe: Cliente - [<class 'classeCliente.Cliente'>, <class 'object'>]\n",
      "*  Método: devolver_bicicleta\n",
      "*  Parâmetros recebidos: ('Paula', datetime.datetime(2021, 12, 25, 17, 34, 1))\n",
      "*  Data: 20/02/2022 21:33:21\n",
      "****************************************************************************************************************\n",
      "\n"
     ]
    }
   ],
   "source": [
    "cliente_3.devolver_bicicleta(dt.datetime(2021, 12, 25, 17, 34, 1))"
   ]
  },
  {
   "cell_type": "code",
   "execution_count": null,
   "metadata": {},
   "outputs": [],
   "source": []
  },
  {
   "cell_type": "code",
   "execution_count": null,
   "metadata": {},
   "outputs": [],
   "source": []
  },
  {
   "cell_type": "code",
   "execution_count": null,
   "metadata": {},
   "outputs": [],
   "source": []
  },
  {
   "cell_type": "code",
   "execution_count": null,
   "metadata": {},
   "outputs": [],
   "source": []
  },
  {
   "cell_type": "code",
   "execution_count": null,
   "metadata": {},
   "outputs": [],
   "source": []
  },
  {
   "cell_type": "code",
   "execution_count": null,
   "metadata": {},
   "outputs": [],
   "source": []
  },
  {
   "cell_type": "code",
   "execution_count": null,
   "metadata": {},
   "outputs": [],
   "source": []
  },
  {
   "cell_type": "code",
   "execution_count": null,
   "metadata": {},
   "outputs": [],
   "source": [
    "vars(cliente_1)"
   ]
  },
  {
   "cell_type": "code",
   "execution_count": null,
   "metadata": {},
   "outputs": [],
   "source": [
    "vars(loja_1)"
   ]
  },
  {
   "cell_type": "code",
   "execution_count": null,
   "metadata": {},
   "outputs": [],
   "source": [
    "vars(loja_2)"
   ]
  }
 ],
 "metadata": {
  "interpreter": {
   "hash": "ac59ebe37160ed0dfa835113d9b8498d9f09ceb179beaac4002f036b9467c963"
  },
  "kernelspec": {
   "display_name": "Python 3.9.6 64-bit",
   "language": "python",
   "name": "python3"
  },
  "language_info": {
   "codemirror_mode": {
    "name": "ipython",
    "version": 3
   },
   "file_extension": ".py",
   "mimetype": "text/x-python",
   "name": "python",
   "nbconvert_exporter": "python",
   "pygments_lexer": "ipython3",
   "version": "3.9.6"
  },
  "orig_nbformat": 4
 },
 "nbformat": 4,
 "nbformat_minor": 2
}
