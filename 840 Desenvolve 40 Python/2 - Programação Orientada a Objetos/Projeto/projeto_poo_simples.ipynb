{
 "cells": [
  {
   "cell_type": "markdown",
   "metadata": {},
   "source": []
  },
  {
   "cell_type": "code",
   "execution_count": 683,
   "metadata": {},
   "outputs": [],
   "source": [
    "#%%writefile './classeCliente.py'\n",
    "#import classeLoja\n",
    "import datetime as dt\n",
    "\n",
    "class Cliente:\n",
    "    def __init__(self, nome):\n",
    "        self.nome = nome\n",
    "        #criei a variável aqui para validar se o cliente já tem algum aluguel em andamento\n",
    "        self.loja = ''\n",
    "\n",
    "    def ver_estoque(self, loja):\n",
    "        texto = f'''\n",
    "*** LOG ***\n",
    "Classe: {Cliente.__name__}\n",
    "Método: {Cliente.ver_estoque.__name__}\n",
    "Parâmetros recebidos: {self.nome, loja.nome}\n",
    "Data: {dt.datetime.now().strftime('%d/%m/%Y %H:%M:%S')}\n",
    "'''\n",
    "        print(f\"O estoque da loja {loja.nome} é de {loja.estoque} bicicleta(s).\")\n",
    "        print(texto)\n",
    "    \n",
    "    def alugar_bicicleta(self, loja, qtd, tipo, data_hora):\n",
    "        self.loja = loja\n",
    "        self.qtd = qtd\n",
    "        self.tipo = str.upper(tipo)\n",
    "        self.data_aluguel = data_hora\n",
    "        self.desconto = False\n",
    "\n",
    "        if self.tipo == 'H' or self.tipo == 'D' or self.tipo == 'S':\n",
    "            if loja.estoque >= self.qtd:\n",
    "                # print(f\"Aluguel liberado na modalidade {self.tipo}. A loja {loja.nome} tem {loja.estoque} bicicleta(s) em estoque.\")\n",
    "                print(f\"Aluguel liberado.\\n Modalidade: {self.tipo}\\n Quantidade: {self.qtd} bicicleta(s).\")\n",
    "                loja.estoque -= self.qtd\n",
    "                print(f\"Estoque da loja {loja.nome} atualizado para {loja.estoque} bicicleta(s) em estoque.\")\n",
    "                if self.qtd >= 3:\n",
    "                    self.desconto = True\n",
    "                    print(f\"Parabéns, você ganhou um desconto de 30% no aluguel de {self.qtd} bicicletas.\")\n",
    "            else:\n",
    "                print(f\"A loja {loja.nome} não tem bicicletas disponíveis para aluguel.\")\n",
    "        else:\n",
    "            print(f\"A loja {loja.nome} só trabalha com aluguel nas modalidades Hora(H), Dia(D) ou Semana(S).\")\n",
    "\n",
    "\n",
    "    def devolver_bicicleta(self, data_hora):\n",
    "        self.data_devolucao = data_hora\n",
    "        valor, duracao, modelo = self.loja.calcular_valor(self.qtd, self.tipo, self.data_aluguel, self.data_devolucao)\n",
    "        if self.qtd >= 3:\n",
    "            valor = (valor * self.qtd) * 0.7\n",
    "            print(f\"Oba!\\nPor ter alugado {self.qtd} bicicletas você ganhou um desconto de 30% e o aluguel ficou em R$ {valor:.0f},00 pelo período de {duracao} {modelo}.\")\n",
    "        else:\n",
    "            print(f\"O aluguel de {self.qtd} bicicletas ficou em R$ {valor},00 pelo período de {duracao} {modelo}.\")\n",
    "\n",
    "\n",
    "\n",
    "        self.loja.estoque += self.qtd\n",
    "        self.loja = ''\n",
    "        self.qtd = ''\n",
    "        self.tipo = ''\n",
    "        self.data_aluguel = ''\n",
    "        self.desconto = False\n",
    "        self.data_devolucao = ''\n"
   ]
  },
  {
   "cell_type": "code",
   "execution_count": 684,
   "metadata": {},
   "outputs": [],
   "source": [
    "#%%writefile './classeLoja.py'\n",
    "#import classeCliente\n",
    "import datetime as dt\n",
    "import math\n",
    "#from math import ceil\n",
    "\n",
    "class Loja:\n",
    "    def __init__(self, nome, estoque):\n",
    "        self.nome = nome\n",
    "        self.estoque = estoque\n",
    "\n",
    "    def calcular_valor(self, qtd, tipo, data_hora_aluguel, data_hora_devolucao):\n",
    "        \n",
    "        valor_hora = 5\n",
    "        valor_dia = 25\n",
    "        valor_semana = 100\n",
    "\n",
    "        duracao_aluguel = data_hora_devolucao - data_hora_aluguel\n",
    "        duracao_horas = (duracao_aluguel.days * 24) + (duracao_aluguel.seconds / 3600)\n",
    "        duracao_dias = duracao_horas / 24\n",
    "        duracao_semanas = (duracao_dias / 7)\n",
    "        \n",
    "        if tipo == 'H':\n",
    "            custo_hora = valor_hora * math.ceil(duracao_horas)\n",
    "            #print(f\"O custo do aluguel ficou em R$ {custo_hora},00\")\n",
    "            return custo_hora, math.ceil(duracao_horas), 'horas'\n",
    "        \n",
    "        elif tipo == 'D':\n",
    "            custo_dia = valor_dia * math.ceil(duracao_dias)\n",
    "            #print(f\"O custo do aluguel ficou em R$ {custo_dia},00\")\n",
    "            return custo_dia, math.ceil(duracao_dias), 'dias'\n",
    "\n",
    "        elif tipo == 'S':\n",
    "            custo_semana = valor_semana * math.ceil(duracao_semanas)\n",
    "            #print(f\"O custo do aluguel ficou em R$ {custo_semana},00\")\n",
    "            return custo_semana, math.ceil(duracao_semanas), 'semanas'\n",
    "\n",
    "        # print(duracao_aluguel)\n",
    "        # print(duracao_horas)\n",
    "        # print(duracao_dias)\n",
    "        # print(duracao_semanas)\n",
    "        # print(f'Duração em horas: {math.ceil(duracao_horas)}')\n",
    "        # print(f'Duração em dias: {math.ceil(duracao_dias)}')\n",
    "        # print(f'Duração em semanas: {math.ceil(duracao_semanas)}')\n",
    "\n",
    "            \n",
    "    # def ver_estoque(self):\n",
    "    #     print(f\"O estoque da loja {self.nome} é de {self.estoque} bicicleta(s).\")\n",
    "\n",
    "    # def receber_pedido(self):\n",
    "    #     pass\n",
    "\n"
   ]
  },
  {
   "cell_type": "code",
   "execution_count": 685,
   "metadata": {},
   "outputs": [
    {
     "name": "stdout",
     "output_type": "stream",
     "text": [
      "Nome da loja: Rapha's Bike.\n",
      "Estoque da loja Rapha's Bike: 10\n"
     ]
    }
   ],
   "source": [
    "loja_1 = Loja(\"Rapha's Bike\", 10)\n",
    "print(f\"Nome da loja: {loja_1.nome}.\")\n",
    "print(f\"Estoque da loja {loja_1.nome}: {loja_1.estoque}\")"
   ]
  },
  {
   "cell_type": "code",
   "execution_count": 686,
   "metadata": {},
   "outputs": [
    {
     "name": "stdout",
     "output_type": "stream",
     "text": [
      "Nome do cliente: Rapha\n"
     ]
    }
   ],
   "source": [
    "cliente_1 = Cliente(\"Rapha\")\n",
    "print(f\"Nome do cliente: {cliente_1.nome}\")"
   ]
  },
  {
   "cell_type": "code",
   "execution_count": 687,
   "metadata": {},
   "outputs": [
    {
     "name": "stdout",
     "output_type": "stream",
     "text": [
      "O estoque da loja Rapha's Bike é de 10 bicicleta(s).\n",
      "\n",
      "*** LOG ***\n",
      "Classe: Cliente\n",
      "Método: ver_estoque\n",
      "Parâmetros recebidos: ('Rapha', \"Rapha's Bike\")\n",
      "Data: 19/02/2022 20:16:36\n",
      "\n"
     ]
    }
   ],
   "source": [
    "cliente_1.ver_estoque(loja_1)\n",
    "#loja_1.calcular_valor\n"
   ]
  },
  {
   "cell_type": "code",
   "execution_count": 688,
   "metadata": {},
   "outputs": [
    {
     "name": "stdout",
     "output_type": "stream",
     "text": [
      "Aluguel liberado.\n",
      " Modalidade: S\n",
      " Quantidade: 4 bicicleta(s).\n",
      "Estoque da loja Rapha's Bike atualizado para 6 bicicleta(s) em estoque.\n",
      "Parabéns, você ganhou um desconto de 30% no aluguel de 4 bicicletas.\n"
     ]
    }
   ],
   "source": [
    "cliente_1.alugar_bicicleta(loja_1, 4, 's', dt.datetime(2021, 2, 11, 17, 34))"
   ]
  },
  {
   "cell_type": "code",
   "execution_count": 689,
   "metadata": {},
   "outputs": [
    {
     "name": "stdout",
     "output_type": "stream",
     "text": [
      "Oba!\n",
      "Por ter alugado 4 bicicletas você ganhou um desconto de 30% e o aluguel ficou em R$ 840,00 pelo período de 3 semanas.\n"
     ]
    }
   ],
   "source": [
    "cliente_1.devolver_bicicleta(dt.datetime(2021, 2, 25, 17, 34, 1))"
   ]
  },
  {
   "cell_type": "code",
   "execution_count": 690,
   "metadata": {},
   "outputs": [
    {
     "data": {
      "text/plain": [
       "{'nome': 'Rapha',\n",
       " 'loja': '',\n",
       " 'qtd': '',\n",
       " 'tipo': '',\n",
       " 'data_aluguel': '',\n",
       " 'desconto': False,\n",
       " 'data_devolucao': ''}"
      ]
     },
     "execution_count": 690,
     "metadata": {},
     "output_type": "execute_result"
    }
   ],
   "source": [
    "vars(cliente_1)\n"
   ]
  },
  {
   "cell_type": "code",
   "execution_count": 691,
   "metadata": {},
   "outputs": [],
   "source": [
    "data_10 = dt.datetime(2021, 3, 11, 17, 34)\n",
    "data_11 = dt.datetime(2021, 3, 25, 17, 34, 1)"
   ]
  },
  {
   "cell_type": "code",
   "execution_count": 692,
   "metadata": {},
   "outputs": [
    {
     "name": "stdout",
     "output_type": "stream",
     "text": [
      "14 days, 0:00:01\n",
      "336.0002777777778\n",
      "14.000011574074074\n",
      "2.0000016534391536\n",
      "337\n",
      "15\n",
      "3\n"
     ]
    },
    {
     "data": {
      "text/plain": [
       "datetime.timedelta(days=14, seconds=1)"
      ]
     },
     "execution_count": 692,
     "metadata": {},
     "output_type": "execute_result"
    }
   ],
   "source": [
    "diferenca = data_11 - data_10\n",
    "print(diferenca)\n",
    "# duracao_horas = math.ceil((diferenca.days * 24) + (diferenca.seconds / 3600))\n",
    "# duracao_dias = math.ceil(diferenca.days + ((diferenca.seconds / 3600) / 24))\n",
    "#duracao_semanas = math.ceil((diferenca.days / 7) + (((diferenca.seconds / 3600) / 24) / 7))\n",
    "duracao_horas = (diferenca.days * 24) + (diferenca.seconds / 3600)\n",
    "duracao_dias = duracao_horas / 24\n",
    "duracao_semanas = (duracao_dias / 7)\n",
    "\n",
    "print(duracao_horas)\n",
    "print(duracao_dias)\n",
    "print(duracao_semanas)\n",
    "print(math.ceil(duracao_horas))\n",
    "print(math.ceil(duracao_dias))\n",
    "print(math.ceil(duracao_semanas))\n",
    "\n",
    "diferenca"
   ]
  },
  {
   "cell_type": "code",
   "execution_count": 693,
   "metadata": {},
   "outputs": [
    {
     "ename": "AttributeError",
     "evalue": "'str' object has no attribute 'calcular_valor'",
     "output_type": "error",
     "traceback": [
      "\u001b[1;31m---------------------------------------------------------------------------\u001b[0m",
      "\u001b[1;31mAttributeError\u001b[0m                            Traceback (most recent call last)",
      "\u001b[1;32m~\\AppData\\Local\\Temp/ipykernel_11148/2869133366.py\u001b[0m in \u001b[0;36m<module>\u001b[1;34m\u001b[0m\n\u001b[1;32m----> 1\u001b[1;33m \u001b[0mcliente_1\u001b[0m\u001b[1;33m.\u001b[0m\u001b[0mdevolver_bicicleta\u001b[0m\u001b[1;33m(\u001b[0m\u001b[0mdt\u001b[0m\u001b[1;33m.\u001b[0m\u001b[0mdatetime\u001b[0m\u001b[1;33m(\u001b[0m\u001b[1;36m2022\u001b[0m\u001b[1;33m,\u001b[0m \u001b[1;36m2\u001b[0m\u001b[1;33m,\u001b[0m \u001b[1;36m12\u001b[0m\u001b[1;33m,\u001b[0m \u001b[1;36m17\u001b[0m\u001b[1;33m,\u001b[0m \u001b[1;36m34\u001b[0m\u001b[1;33m)\u001b[0m\u001b[1;33m)\u001b[0m\u001b[1;33m\u001b[0m\u001b[1;33m\u001b[0m\u001b[0m\n\u001b[0m",
      "\u001b[1;32m~\\AppData\\Local\\Temp/ipykernel_11148/3588137243.py\u001b[0m in \u001b[0;36mdevolver_bicicleta\u001b[1;34m(self, data_hora)\u001b[0m\n\u001b[0;32m     44\u001b[0m     \u001b[1;32mdef\u001b[0m \u001b[0mdevolver_bicicleta\u001b[0m\u001b[1;33m(\u001b[0m\u001b[0mself\u001b[0m\u001b[1;33m,\u001b[0m \u001b[0mdata_hora\u001b[0m\u001b[1;33m)\u001b[0m\u001b[1;33m:\u001b[0m\u001b[1;33m\u001b[0m\u001b[1;33m\u001b[0m\u001b[0m\n\u001b[0;32m     45\u001b[0m         \u001b[0mself\u001b[0m\u001b[1;33m.\u001b[0m\u001b[0mdata_devolucao\u001b[0m \u001b[1;33m=\u001b[0m \u001b[0mdata_hora\u001b[0m\u001b[1;33m\u001b[0m\u001b[1;33m\u001b[0m\u001b[0m\n\u001b[1;32m---> 46\u001b[1;33m         \u001b[0mvalor\u001b[0m\u001b[1;33m,\u001b[0m \u001b[0mduracao\u001b[0m\u001b[1;33m,\u001b[0m \u001b[0mmodelo\u001b[0m \u001b[1;33m=\u001b[0m \u001b[0mself\u001b[0m\u001b[1;33m.\u001b[0m\u001b[0mloja\u001b[0m\u001b[1;33m.\u001b[0m\u001b[0mcalcular_valor\u001b[0m\u001b[1;33m(\u001b[0m\u001b[0mself\u001b[0m\u001b[1;33m.\u001b[0m\u001b[0mqtd\u001b[0m\u001b[1;33m,\u001b[0m \u001b[0mself\u001b[0m\u001b[1;33m.\u001b[0m\u001b[0mtipo\u001b[0m\u001b[1;33m,\u001b[0m \u001b[0mself\u001b[0m\u001b[1;33m.\u001b[0m\u001b[0mdata_aluguel\u001b[0m\u001b[1;33m,\u001b[0m \u001b[0mself\u001b[0m\u001b[1;33m.\u001b[0m\u001b[0mdata_devolucao\u001b[0m\u001b[1;33m)\u001b[0m\u001b[1;33m\u001b[0m\u001b[1;33m\u001b[0m\u001b[0m\n\u001b[0m\u001b[0;32m     47\u001b[0m         \u001b[1;32mif\u001b[0m \u001b[0mself\u001b[0m\u001b[1;33m.\u001b[0m\u001b[0mqtd\u001b[0m \u001b[1;33m>=\u001b[0m \u001b[1;36m3\u001b[0m\u001b[1;33m:\u001b[0m\u001b[1;33m\u001b[0m\u001b[1;33m\u001b[0m\u001b[0m\n\u001b[0;32m     48\u001b[0m             \u001b[0mvalor\u001b[0m \u001b[1;33m=\u001b[0m \u001b[1;33m(\u001b[0m\u001b[0mvalor\u001b[0m \u001b[1;33m*\u001b[0m \u001b[0mself\u001b[0m\u001b[1;33m.\u001b[0m\u001b[0mqtd\u001b[0m\u001b[1;33m)\u001b[0m \u001b[1;33m*\u001b[0m \u001b[1;36m0.7\u001b[0m\u001b[1;33m\u001b[0m\u001b[1;33m\u001b[0m\u001b[0m\n",
      "\u001b[1;31mAttributeError\u001b[0m: 'str' object has no attribute 'calcular_valor'"
     ]
    }
   ],
   "source": [
    "cliente_1.devolver_bicicleta(dt.datetime(2022, 2, 12, 17, 34))"
   ]
  },
  {
   "cell_type": "code",
   "execution_count": null,
   "metadata": {},
   "outputs": [],
   "source": [
    "print(isinstance(cliente_1.data_aluguel, dt.datetime))\n",
    "print(cliente_1.data_aluguel)\n",
    "print(cliente_1.data_devolucao)\n",
    "print(isinstance(cliente_1.loja, Loja))"
   ]
  },
  {
   "cell_type": "code",
   "execution_count": null,
   "metadata": {},
   "outputs": [],
   "source": [
    "data_1 = dt.datetime(2022, 2, 15, 14, 12)\n",
    "data_2 = dt.datetime(2022, 2, 16, 19, 12)\n",
    "isinstance(data_1, dt.datetime)"
   ]
  },
  {
   "cell_type": "code",
   "execution_count": null,
   "metadata": {},
   "outputs": [],
   "source": [
    "diferenca = data_2 - data_1\n",
    "print(diferenca)\n",
    "diferenca\n",
    "math.ceil(25/7)"
   ]
  },
  {
   "cell_type": "code",
   "execution_count": null,
   "metadata": {},
   "outputs": [],
   "source": [
    "valor = 300\n",
    "print(f'{valor * 0.7:.0f}')"
   ]
  },
  {
   "cell_type": "code",
   "execution_count": null,
   "metadata": {},
   "outputs": [],
   "source": [
    "print(Cliente.ver_estoque.__name__)"
   ]
  }
 ],
 "metadata": {
  "interpreter": {
   "hash": "ac59ebe37160ed0dfa835113d9b8498d9f09ceb179beaac4002f036b9467c963"
  },
  "kernelspec": {
   "display_name": "Python 3.9.6 64-bit",
   "language": "python",
   "name": "python3"
  },
  "language_info": {
   "codemirror_mode": {
    "name": "ipython",
    "version": 3
   },
   "file_extension": ".py",
   "mimetype": "text/x-python",
   "name": "python",
   "nbconvert_exporter": "python",
   "pygments_lexer": "ipython3",
   "version": "3.9.6"
  },
  "orig_nbformat": 4
 },
 "nbformat": 4,
 "nbformat_minor": 2
}
