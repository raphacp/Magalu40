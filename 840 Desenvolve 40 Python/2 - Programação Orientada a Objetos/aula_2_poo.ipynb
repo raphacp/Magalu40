{
 "cells": [
  {
   "cell_type": "markdown",
   "metadata": {},
   "source": [
    "# Introdução Programação orientada a objetos\n",
    "Na última aula começamos a ver os primeiros conceitos de POO\n",
    "- Classes\n",
    "\n",
    "> As classes são os \"moldes\" dos objetos, as entidades abstratas. Elas contêm as informações e os comportamentos que os objetos terão. Todos os objetos pertencentes a uma mesma classe terão características em comum. **Ex: Pessoa**\n",
    "\n",
    "- Objetos\n",
    "\n",
    "> Os objetos são as instâncias concretas das classes, que são abstratas. Os objetos contêm as características comuns à classe, mas cada um tem suas particularidades. **Ex: você!**\n",
    "\n",
    "\n",
    "- Atributos\n",
    "\n",
    "> Cada objeto particular de uma mesma classe tem valores diferentes para as variáveis internas da classe. Essas \"variáveis do objeto\" chamamos de atributos. **Ex: a cor do seu cabelo**\n",
    "\n",
    "- Métodos\n",
    "\n",
    "> Métodos são funções dentro da classe, que não podem ser executadas arbitrariamente, mas deverão ser chamadas necessariamente pelos objetos. Os métodos podem utilizar os atributos e até mesmo alterá-los. **Ex: você pintar seu cabelo para mudar a cor** "
   ]
  },
  {
   "cell_type": "markdown",
   "metadata": {},
   "source": [
    "##### Pep8\n",
    "module_name, package_name, ClassName, method_name, ExceptionName, function_name, GLOBAL_CONSTANT_NAME, global_var_name, instance_var_name, function_parameter_name, local_var_name.\n"
   ]
  },
  {
   "cell_type": "markdown",
   "metadata": {},
   "source": [
    "##### Listando todos os objetos de uma classe que foram criados\n",
    "\n",
    "```python\n",
    "for i in dir():\n",
    "    if isinstance(eval(i), Pessoa):\n",
    "        print(i)\n",
    "```"
   ]
  },
  {
   "cell_type": "markdown",
   "metadata": {},
   "source": [
    "### Exercício\n",
    "Crie uma classe ``Ponto``. Os objetos da classe devem ter como atributo suas coordenadas X e Y.\n",
    "A classe deve incluir os métodos:\n",
    "- Um método para exibir as coordenadas de um ponto\n",
    "- Um método para alterar as coordenadas de um ponto\n",
    "- Um método para calcular a distância euclidiana entre dois pontos"
   ]
  },
  {
   "cell_type": "code",
   "execution_count": null,
   "metadata": {},
   "outputs": [],
   "source": [
    "class ponto:\n",
    "    \n",
    "    def __init__(self, x, y):\n",
    "        self.x = x\n",
    "        self.y = y\n",
    "\n",
    "    def exibir_coordenadas(self):\n",
    "        print(f\"A coordenada X é: {self.x}\")\n",
    "        print(f\"A coordenada Y é: {self.y}\")\n",
    "\n",
    "        # print(f\"Eixo X = {x}, eixo Y = {y}\")\n",
    "\n",
    "    def altera_coordenadas(self, x_novo, y_novo):\n",
    "        self.x = x_novo\n",
    "        self.y = y_novo\n",
    "    \n",
    "    def calcula_distancia(self, outro_ponto):\n",
    "\n",
    "        if isinstance(outro_ponto, ponto) == True:\n",
    "\n",
    "            dist_x = (self.x - outro_ponto.x) ** 2\n",
    "            dist_y = (self.y - outro_ponto.y) ** 2\n",
    "            dist_euc = (dist_x + dist_y) ** 0.5\n",
    "\n",
    "            return dist_euc\n",
    "\n",
    "        else:\n",
    "            return \"Erro\"\n",
    "\n",
    "\n"
   ]
  },
  {
   "cell_type": "code",
   "execution_count": null,
   "metadata": {},
   "outputs": [],
   "source": [
    "x = float(input(\"Digite a coordenada do eixo X: \"))\n",
    "y = float(input(\"Digite a coordenada do eixo Y: \"))\n",
    "\n",
    "ponto1 = ponto(x, y)\n"
   ]
  },
  {
   "cell_type": "code",
   "execution_count": null,
   "metadata": {},
   "outputs": [],
   "source": [
    "isinstance(ponto1, ponto)\n",
    "\n",
    "ponto1.__dict__"
   ]
  },
  {
   "cell_type": "code",
   "execution_count": null,
   "metadata": {},
   "outputs": [],
   "source": [
    "ponto.exibir_coordenadas(ponto1)"
   ]
  },
  {
   "cell_type": "code",
   "execution_count": null,
   "metadata": {},
   "outputs": [],
   "source": [
    "x = float(input(\"Digite a coordenada do eixo X: \"))\n",
    "y = float(input(\"Digite a coordenada do eixo Y: \"))\n",
    "\n",
    "ponto2 = ponto(x, y)"
   ]
  },
  {
   "cell_type": "code",
   "execution_count": null,
   "metadata": {},
   "outputs": [],
   "source": [
    "ponto2.__dict__"
   ]
  },
  {
   "cell_type": "code",
   "execution_count": null,
   "metadata": {},
   "outputs": [],
   "source": [
    "ponto.exibir_coordenadas(ponto2)"
   ]
  },
  {
   "cell_type": "code",
   "execution_count": null,
   "metadata": {},
   "outputs": [],
   "source": [
    "ponto.altera_coordenadas(ponto2, 20, 30)"
   ]
  },
  {
   "cell_type": "code",
   "execution_count": null,
   "metadata": {},
   "outputs": [],
   "source": [
    "ponto.calcula_distancia(ponto1, ponto2)"
   ]
  },
  {
   "cell_type": "markdown",
   "metadata": {},
   "source": [
    "### Exercício\n",
    "Crie uma classe ``Elevador`` para armazenar as informações de um elevador dentro de um prédio. A classe deve armazenar o andar atual (térreo = 0), total de andares no prédio, além do térreo, capacidade do elevador e quantas pessoas estão presentes nele.\n",
    "\n",
    "A classe deve disponibilizar os seguintes métodos:\n",
    "- Construtor: deve receber como parâmetros a capacidade do elevador e o total de andares. O elevador sempre começa no térreo e vazio\n",
    "\n",
    "- entra: para acrescentar uma pessoa no elevador (só deve acrescentar se ainda houver espaço)\n",
    "- sai: para remover uma pessoa do elevador (só deve remover se houver alguém nele)\n",
    "- sobe: para subir um andar (se possível)\n",
    "- desce: para descer um andar (se não estiver no térreo)"
   ]
  },
  {
   "cell_type": "code",
   "execution_count": null,
   "metadata": {},
   "outputs": [],
   "source": [
    "class Elevador:\n",
    "    \n",
    "    def __init__(self, andares, capacidade):\n",
    "        \n",
    "        \n",
    "        self.andares = andares\n",
    "        self.capacidade = capacidade\n",
    "        self.andar = 0\n",
    "        self.qtd_pessoas = 0\n",
    "\n",
    "    def entra(self, n_pessoas):\n",
    "        if self.qtd_pessoas + n_pessoas <= self.capacidade:\n",
    "            self.qtd_pessoas += n_pessoas\n",
    "        else:\n",
    "            print(\"O elevador está cheio.\")\n",
    "    \n",
    "    def sai(self, n_pessoas):\n",
    "        if self.qtd_pessoas == 0:\n",
    "            print(\"O Elevador está vazio.\")\n",
    "        elif n_pessoas > self.qtd_pessoas:\n",
    "            print(f\"O elevador só tem {self.qtd_pessoas} pessoas.\")\n",
    "        else:\n",
    "            self.qtd_pessoas -= n_pessoas\n",
    "\n",
    "    def sobe(self, sobe_andar):\n",
    "        if sobe_andar + self.andar > self.andares:\n",
    "            print(\"Você não pode andar tantos andares.\")\n",
    "        else:\n",
    "            self.andar += sobe_andar\n",
    "            print(f\"O elevador subiu {sobe_andar} andar(s).\")\n",
    "\n",
    "    def desce(self, desce_andar):\n",
    "        if self.andar - desce_andar < 0:\n",
    "            print(\"Você não pode descer tantos andares.\")\n",
    "        else:\n",
    "            self.andar -= desce_andar\n",
    "            print(f\"O elevador desceu {desce_andar} andar(s).\")\n",
    "    \n",
    "    def exibe(self):\n",
    "        print(f\"O prédio tem {self.andares} andares.\")\n",
    "        print(f\"O elevador tem a capacidade de {self.capacidade} pessoas.\")\n",
    "        print(f\"O elevador está no {self.andar} andar, e com {self.qtd_pessoas} pessoas.\")\n",
    "    \n"
   ]
  },
  {
   "cell_type": "code",
   "execution_count": null,
   "metadata": {},
   "outputs": [],
   "source": [
    "elevador1 = Elevador(10, 6)"
   ]
  },
  {
   "cell_type": "code",
   "execution_count": null,
   "metadata": {},
   "outputs": [],
   "source": [
    "elevador1.__dict__"
   ]
  },
  {
   "cell_type": "code",
   "execution_count": null,
   "metadata": {},
   "outputs": [],
   "source": [
    "Elevador.exibe(elevador1)"
   ]
  },
  {
   "cell_type": "code",
   "execution_count": null,
   "metadata": {},
   "outputs": [],
   "source": [
    "elevador1.entra(2)\n",
    "Elevador.exibe(elevador1)"
   ]
  },
  {
   "cell_type": "code",
   "execution_count": null,
   "metadata": {},
   "outputs": [],
   "source": [
    "elevador1.sai(1)\n",
    "elevador1.exibe"
   ]
  },
  {
   "cell_type": "code",
   "execution_count": null,
   "metadata": {},
   "outputs": [],
   "source": [
    "elevador1.sobe(2)\n",
    "elevador1.exibe()"
   ]
  },
  {
   "cell_type": "code",
   "execution_count": null,
   "metadata": {},
   "outputs": [],
   "source": [
    "elevador1.desce(1)\n",
    "elevador1.exibe()\n"
   ]
  },
  {
   "cell_type": "markdown",
   "metadata": {},
   "source": [
    "## Atributos e métodos estáticos\n",
    "\n",
    "Se quisermos criar atributos e métodos que pertençam **à classe**, e não exatamente a um objeto instanciado desta, usamos suas versões **estáticas**\n",
    "\n",
    "- Para criar um atributo estático, basta **criar uma variável (atribuindo um valor inicial a ela) dentro da classe**, mas **fora de qualquer um de seus métodos**;\n",
    "- Para criar um método estático, use antes de sua criação **@staticmethod**"
   ]
  },
  {
   "cell_type": "code",
   "execution_count": null,
   "metadata": {},
   "outputs": [],
   "source": []
  },
  {
   "cell_type": "code",
   "execution_count": null,
   "metadata": {},
   "outputs": [],
   "source": []
  },
  {
   "cell_type": "code",
   "execution_count": null,
   "metadata": {},
   "outputs": [],
   "source": []
  },
  {
   "cell_type": "code",
   "execution_count": null,
   "metadata": {},
   "outputs": [],
   "source": []
  },
  {
   "cell_type": "code",
   "execution_count": null,
   "metadata": {},
   "outputs": [],
   "source": []
  },
  {
   "cell_type": "code",
   "execution_count": null,
   "metadata": {},
   "outputs": [],
   "source": []
  },
  {
   "cell_type": "markdown",
   "metadata": {},
   "source": [
    "### Exercício\n",
    "Crie uma classe ``Agenda`` em que cada objeto pode armazenar 10 pessoas e seja capaz de realizar as seguintes operações:\n",
    "\n",
    "- adiciona_pessoa - Adiciona uma pessoa na agenda. Recebe o nome, o telefone e o endereço\n",
    "- remove_pessoa - Remove uma pessoa se ela estiver na agenda. Recebe o nome.\n",
    "- busca_pessoa - Informa em que posição da agenda está a pessoa se ela estiver na agenda. Recebe o nome.\n",
    "- imprime_agenda - Imprime os dados de todas as pessoas da agenda\n",
    "- imprime_pessoa - Imprime os dados da pessoa que está na posição i da agenda. Recebe a posição.\n"
   ]
  },
  {
   "cell_type": "code",
   "execution_count": null,
   "metadata": {},
   "outputs": [],
   "source": []
  },
  {
   "cell_type": "code",
   "execution_count": null,
   "metadata": {},
   "outputs": [],
   "source": []
  },
  {
   "cell_type": "markdown",
   "metadata": {},
   "source": [
    "### Exercício\n",
    "Crie uma classe ``ContaBancaria`` com os seguintes atributos: número da conta, nome e saldo.\n",
    "Crie os seguintes métodos:\n",
    "- deposito - faz um depósito na conta\n",
    "- saque - faz um saque se o valor estiver disponível\n",
    "- aplica_tarifas - reduz do saldo as tarifas bancárias\n",
    "- Crie um método que exiba os detalhes da conta. Existe algum método padrão para fazermos isso?"
   ]
  },
  {
   "cell_type": "code",
   "execution_count": null,
   "metadata": {},
   "outputs": [],
   "source": []
  },
  {
   "cell_type": "code",
   "execution_count": null,
   "metadata": {},
   "outputs": [],
   "source": []
  },
  {
   "cell_type": "code",
   "execution_count": null,
   "metadata": {},
   "outputs": [],
   "source": []
  },
  {
   "cell_type": "code",
   "execution_count": null,
   "metadata": {},
   "outputs": [],
   "source": []
  },
  {
   "cell_type": "code",
   "execution_count": null,
   "metadata": {},
   "outputs": [],
   "source": []
  },
  {
   "cell_type": "code",
   "execution_count": null,
   "metadata": {},
   "outputs": [],
   "source": []
  },
  {
   "cell_type": "code",
   "execution_count": null,
   "metadata": {},
   "outputs": [],
   "source": []
  }
 ],
 "metadata": {
  "interpreter": {
   "hash": "9e1544ece40983b9dcb10e0aa1f5d0cdb8d9e539b9b8df5e9e5017ad7f05ebe2"
  },
  "kernelspec": {
   "display_name": "Python 3.9.2 64-bit",
   "language": "python",
   "name": "python3"
  },
  "language_info": {
   "codemirror_mode": {
    "name": "ipython",
    "version": 3
   },
   "file_extension": ".py",
   "mimetype": "text/x-python",
   "name": "python",
   "nbconvert_exporter": "python",
   "pygments_lexer": "ipython3",
   "version": "3.9.6"
  },
  "orig_nbformat": 4
 },
 "nbformat": 4,
 "nbformat_minor": 2
}
