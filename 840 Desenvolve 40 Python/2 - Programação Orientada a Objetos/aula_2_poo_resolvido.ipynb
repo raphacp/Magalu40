{
 "cells": [
  {
   "cell_type": "markdown",
   "metadata": {},
   "source": [
    "# Introdução Programação orientada a objetos\n",
    "Na última aula começamos a ver os primeiros conceitos de POO\n",
    "- Classes\n",
    "\n",
    "> As classes são os \"moldes\" dos objetos, as entidades abstratas. Elas contêm as informações e os comportamentos que os objetos terão. Todos os objetos pertencentes a uma mesma classe terão características em comum. **Ex: Pessoa**\n",
    "\n",
    "- Objetos\n",
    "\n",
    "> Os objetos são as instâncias concretas das classes, que são abstratas. Os objetos contêm as características comuns à classe, mas cada um tem suas particularidades. **Ex: você!**\n",
    "\n",
    "\n",
    "- Atributos\n",
    "\n",
    "> Cada objeto particular de uma mesma classe tem valores diferentes para as variáveis internas da classe. Essas \"variáveis do objeto\" chamamos de atributos. **Ex: a cor do seu cabelo**\n",
    "\n",
    "- Métodos\n",
    "\n",
    "> Métodos são funções dentro da classe, que não podem ser executadas arbitrariamente, mas deverão ser chamadas necessariamente pelos objetos. Os métodos podem utilizar os atributos e até mesmo alterá-los. **Ex: você pintar seu cabelo para mudar a cor** "
   ]
  },
  {
   "cell_type": "markdown",
   "metadata": {},
   "source": [
    "##### Pep8\n",
    "module_name, package_name, ClassName, method_name, ExceptionName, function_name, GLOBAL_CONSTANT_NAME, global_var_name, instance_var_name, function_parameter_name, local_var_name.\n"
   ]
  },
  {
   "cell_type": "markdown",
   "metadata": {},
   "source": [
    "##### Listando todos os objetos de uma classe que foram criados\n",
    "\n",
    "```python\n",
    "for i in dir():\n",
    "    if isinstance(eval(i), Pessoa):\n",
    "        print(i)\n",
    "```"
   ]
  },
  {
   "cell_type": "code",
   "execution_count": 26,
   "metadata": {},
   "outputs": [
    {
     "data": {
      "text/plain": [
       "['In',\n",
       " 'Out',\n",
       " 'Pessoa',\n",
       " '_',\n",
       " '_1',\n",
       " '_10',\n",
       " '_12',\n",
       " '_13',\n",
       " '_15',\n",
       " '_18',\n",
       " '_19',\n",
       " '_21',\n",
       " '_22',\n",
       " '_3',\n",
       " '_6',\n",
       " '_9',\n",
       " '__',\n",
       " '___',\n",
       " '__builtin__',\n",
       " '__builtins__',\n",
       " '__doc__',\n",
       " '__loader__',\n",
       " '__name__',\n",
       " '__package__',\n",
       " '__spec__',\n",
       " '__vsc_ipynb_file__',\n",
       " '_dh',\n",
       " '_i',\n",
       " '_i1',\n",
       " '_i10',\n",
       " '_i11',\n",
       " '_i12',\n",
       " '_i13',\n",
       " '_i14',\n",
       " '_i15',\n",
       " '_i16',\n",
       " '_i17',\n",
       " '_i18',\n",
       " '_i19',\n",
       " '_i2',\n",
       " '_i20',\n",
       " '_i21',\n",
       " '_i22',\n",
       " '_i23',\n",
       " '_i24',\n",
       " '_i25',\n",
       " '_i26',\n",
       " '_i3',\n",
       " '_i4',\n",
       " '_i5',\n",
       " '_i6',\n",
       " '_i7',\n",
       " '_i8',\n",
       " '_i9',\n",
       " '_ih',\n",
       " '_ii',\n",
       " '_iii',\n",
       " '_oh',\n",
       " 'exit',\n",
       " 'get_ipython',\n",
       " 'i',\n",
       " 'lista',\n",
       " 'number',\n",
       " 'os',\n",
       " 'outra',\n",
       " 'pessoa_1',\n",
       " 'pessoa_2',\n",
       " 'quit',\n",
       " 'site',\n",
       " 'sys',\n",
       " 'var1',\n",
       " 'variavel',\n",
       " 'variavel_teste',\n",
       " 'x',\n",
       " 'y']"
      ]
     },
     "execution_count": 26,
     "metadata": {},
     "output_type": "execute_result"
    }
   ],
   "source": [
    "dir()\n",
    "isinstance('pessoa_1', Pessoa)\n",
    "isinstance(eval('pessoa_1'), Pessoa)"
   ]
  },
  {
   "cell_type": "code",
   "execution_count": 16,
   "metadata": {},
   "outputs": [
    {
     "name": "stdout",
     "output_type": "stream",
     "text": [
      "12\n"
     ]
    }
   ],
   "source": [
    "x = 12\n",
    "print(eval('x'))"
   ]
  },
  {
   "cell_type": "code",
   "execution_count": 18,
   "metadata": {},
   "outputs": [
    {
     "data": {
      "text/plain": [
       "True"
      ]
     },
     "execution_count": 18,
     "metadata": {},
     "output_type": "execute_result"
    }
   ],
   "source": [
    "variavel_teste = 1\n",
    "isinstance(variavel_teste, int)"
   ]
  },
  {
   "cell_type": "code",
   "execution_count": 19,
   "metadata": {},
   "outputs": [
    {
     "data": {
      "text/plain": [
       "False"
      ]
     },
     "execution_count": 19,
     "metadata": {},
     "output_type": "execute_result"
    }
   ],
   "source": [
    "variavel_teste = 1\n",
    "isinstance(variavel_teste, float)"
   ]
  },
  {
   "cell_type": "code",
   "execution_count": 21,
   "metadata": {},
   "outputs": [
    {
     "data": {
      "text/plain": [
       "False"
      ]
     },
     "execution_count": 21,
     "metadata": {},
     "output_type": "execute_result"
    }
   ],
   "source": [
    "variavel_teste = 1\n",
    "isinstance(variavel_teste, Pessoa)"
   ]
  },
  {
   "cell_type": "code",
   "execution_count": 22,
   "metadata": {},
   "outputs": [
    {
     "data": {
      "text/plain": [
       "True"
      ]
     },
     "execution_count": 22,
     "metadata": {},
     "output_type": "execute_result"
    }
   ],
   "source": [
    "variavel_teste = True\n",
    "isinstance(variavel_teste, bool)"
   ]
  },
  {
   "cell_type": "code",
   "execution_count": 20,
   "metadata": {},
   "outputs": [],
   "source": [
    "class Pessoa:\n",
    "    def __init__(self, nome):\n",
    "        self.nome = nome\n",
    "pessoa_1 = Pessoa('Marcos')\n",
    "pessoa_2 = Pessoa('Marcelo')"
   ]
  },
  {
   "cell_type": "code",
   "execution_count": 25,
   "metadata": {},
   "outputs": [
    {
     "name": "stdout",
     "output_type": "stream",
     "text": [
      "Marcos\n",
      "Marcelo\n"
     ]
    }
   ],
   "source": [
    "for i in dir():\n",
    "    if isinstance(eval(i), Pessoa):\n",
    "        print(eval(i).nome)"
   ]
  },
  {
   "cell_type": "markdown",
   "metadata": {},
   "source": [
    "### Exercício\n",
    "Crie uma classe ``Ponto``. Os objetos da classe devem ter como atributo suas coordenadas X e Y.\n",
    "A classe deve incluir, além do construtor, os métodos:\n",
    "- Um método para exibir as coordenadas de um ponto\n",
    "- Um método para alterar as coordenadas de um ponto\n",
    "- Um método para calcular a distância euclidiana entre dois pontos"
   ]
  },
  {
   "cell_type": "code",
   "execution_count": 79,
   "metadata": {},
   "outputs": [],
   "source": [
    "class Ponto:\n",
    "    def __init__(self, x, y):\n",
    "        self.x = x\n",
    "        self.y = y\n",
    "\n",
    "    def exibe(self):\n",
    "        print(f'Cordenada x = {self.x}')\n",
    "        print(f'Cordenada y = {self.y}')\n",
    "    \n",
    "    def altera(self, x_novo, y_novo):\n",
    "        self.x = x_novo\n",
    "        self.y = y_novo\n",
    "\n",
    "    def calcula_distancia(self, outro_ponto):\n",
    "        if isinstance(outro_ponto, Ponto) == True:\n",
    "            dist_x = (self.x - outro_ponto.x) ** 2\n",
    "            dist_y = (self.y - outro_ponto.y) ** 2\n",
    "            dist_euc = (dist_x + dist_y) ** 0.5\n",
    "            return dist_euc\n",
    "        elif isinstance(outro_ponto, list):\n",
    "            if len(outro_ponto) == 2:\n",
    "                dist_x = (self.x - outro_ponto[0]) ** 2\n",
    "                dist_y = (self.y - outro_ponto[1]) ** 2\n",
    "                dist_euc = (dist_x + dist_y) ** 0.5\n",
    "                return dist_euc\n",
    "            else:\n",
    "                return 'Erro'\n",
    "        else:\n",
    "            return 'Erro'"
   ]
  },
  {
   "cell_type": "code",
   "execution_count": 67,
   "metadata": {},
   "outputs": [
    {
     "data": {
      "text/plain": [
       "{'x': 0, 'y': 0}"
      ]
     },
     "execution_count": 67,
     "metadata": {},
     "output_type": "execute_result"
    }
   ],
   "source": [
    "p_1 = Ponto(0, 0)\n",
    "p_1.__dict__"
   ]
  },
  {
   "cell_type": "code",
   "execution_count": 68,
   "metadata": {},
   "outputs": [
    {
     "data": {
      "text/plain": [
       "True"
      ]
     },
     "execution_count": 68,
     "metadata": {},
     "output_type": "execute_result"
    }
   ],
   "source": [
    "isinstance(p_1, Ponto)"
   ]
  },
  {
   "cell_type": "code",
   "execution_count": 69,
   "metadata": {},
   "outputs": [
    {
     "name": "stdout",
     "output_type": "stream",
     "text": [
      "Cordenada x = 0\n",
      "Cordenada y = 0\n"
     ]
    }
   ],
   "source": [
    "p_1.exibe()"
   ]
  },
  {
   "cell_type": "code",
   "execution_count": 70,
   "metadata": {},
   "outputs": [],
   "source": [
    "p_1.altera(3, 4)"
   ]
  },
  {
   "cell_type": "code",
   "execution_count": 71,
   "metadata": {},
   "outputs": [
    {
     "name": "stdout",
     "output_type": "stream",
     "text": [
      "Cordenada x = 3\n",
      "Cordenada y = 4\n"
     ]
    }
   ],
   "source": [
    "p_1.exibe()"
   ]
  },
  {
   "cell_type": "code",
   "execution_count": 72,
   "metadata": {},
   "outputs": [],
   "source": [
    "p_2 = Ponto(0, 0)"
   ]
  },
  {
   "cell_type": "code",
   "execution_count": 73,
   "metadata": {},
   "outputs": [
    {
     "name": "stdout",
     "output_type": "stream",
     "text": [
      "Aqui\n"
     ]
    },
    {
     "data": {
      "text/plain": [
       "5.0"
      ]
     },
     "execution_count": 73,
     "metadata": {},
     "output_type": "execute_result"
    }
   ],
   "source": [
    "distancia = p_1.calcula_distancia(p_2)\n",
    "distancia"
   ]
  },
  {
   "cell_type": "code",
   "execution_count": 76,
   "metadata": {},
   "outputs": [
    {
     "name": "stdout",
     "output_type": "stream",
     "text": [
      "Aqui\n"
     ]
    },
    {
     "data": {
      "text/plain": [
       "5.0"
      ]
     },
     "execution_count": 76,
     "metadata": {},
     "output_type": "execute_result"
    }
   ],
   "source": [
    "distancia = p_2.calcula_distancia(p_1)\n",
    "distancia"
   ]
  },
  {
   "cell_type": "code",
   "execution_count": 63,
   "metadata": {},
   "outputs": [
    {
     "data": {
      "text/plain": [
       "'Erro'"
      ]
     },
     "execution_count": 63,
     "metadata": {},
     "output_type": "execute_result"
    }
   ],
   "source": [
    "distancia = p_1.calcula_distancia(1)\n",
    "distancia"
   ]
  },
  {
   "cell_type": "code",
   "execution_count": 74,
   "metadata": {},
   "outputs": [
    {
     "data": {
      "text/plain": [
       "'Erro'"
      ]
     },
     "execution_count": 74,
     "metadata": {},
     "output_type": "execute_result"
    }
   ],
   "source": [
    "distancia = p_1.calcula_distancia('a')\n",
    "distancia"
   ]
  },
  {
   "cell_type": "code",
   "execution_count": 78,
   "metadata": {},
   "outputs": [
    {
     "data": {
      "text/plain": [
       "5.0"
      ]
     },
     "execution_count": 78,
     "metadata": {},
     "output_type": "execute_result"
    }
   ],
   "source": [
    "distancia = p_1.calcula_distancia([0, 0])\n",
    "distancia"
   ]
  },
  {
   "cell_type": "markdown",
   "metadata": {},
   "source": [
    "### Exercício\n",
    "Crie uma classe ``Elevador`` para armazenar as informações de um elevador dentro de um prédio. A classe deve armazenar o andar atual (térreo = 0), total de andares no prédio, além do térreo, capacidade do elevador e quantas pessoas estão presentes nele.\n",
    "\n",
    "A classe deve disponibilizar os seguintes métodos:\n",
    "- Construtor: deve receber como parâmetros a capacidade do elevador e o total de andares. O elevador sempre começa no térreo e vazio\n",
    "\n",
    "- entra: para acrescentar uma pessoa no elevador (só deve acrescentar se ainda houver espaço)\n",
    "- sai: para remover uma pessoa do elevador (só deve remover se houver alguém nele)\n",
    "- sobe: para subir um andar (se possível)\n",
    "- desce: para descer um andar (se não estiver no térreo)"
   ]
  },
  {
   "cell_type": "code",
   "execution_count": 93,
   "metadata": {},
   "outputs": [],
   "source": [
    "class Elevador:\n",
    "    def __init__(self, total_andares, capacidade_pessoas):\n",
    "        self.total_andares = total_andares\n",
    "        self.capacidade_pessoas = capacidade_pessoas\n",
    "        self.andar_atual = 0\n",
    "        self.qtd_pessoas = 0\n",
    "\n",
    "    def entra(self, n_pessoas):\n",
    "        # Só deixo as pessoas entrarem se não for estourar a capacidade máxima\n",
    "        if self.qtd_pessoas + n_pessoas <= self.capacidade_pessoas:\n",
    "            self.qtd_pessoas += n_pessoas\n",
    "        else:\n",
    "            print(f'A capacidade máxima do elevador é {self.capacidade_pessoas}')\n",
    "        \n",
    "    def sai(self, n_pessoas):\n",
    "        # Exibe erro se o elevador estiver vazio\n",
    "        if self.qtd_pessoas == 0:\n",
    "            print('O elevador está vazio!')\n",
    "        # Se eu tentar tirar mais pessoas do que quantas estão lá, exibe um erro\n",
    "        elif n_pessoas > self.qtd_pessoas:\n",
    "            print(f'O elevador só tem {self.qtd_pessoas} pessoas!')\n",
    "        # Caso contrário, removo as pessoas\n",
    "        else:\n",
    "            self.qtd_pessoas -= n_pessoas\n",
    "\n",
    "    def sobe(self, sobe_andares):\n",
    "        # Exibe erro se tentar subir mais do que a quantidade de andares\n",
    "        if sobe_andares + self.andar_atual > self.total_andares:\n",
    "            print('Você não pode subir tantos andares!')\n",
    "        else:\n",
    "            self.andar_atual += sobe_andares\n",
    "\n",
    "    def desce(self, desce_andares):\n",
    "        # Exibe erro se tentar descer mais do que o térreo\n",
    "        if self.andar_atual - desce_andares < 0: # O 0 representa o térreo\n",
    "            print('Você não pode descer tantos andares!')\n",
    "        else:\n",
    "            self.andar_atual -= desce_andares\n",
    "\n",
    "    def exibe_elevador(self):\n",
    "        print(f'O elevador está com {self.qtd_pessoas} pessoas e está no {self.andar_atual}º andar')\n",
    "        "
   ]
  },
  {
   "cell_type": "code",
   "execution_count": 94,
   "metadata": {},
   "outputs": [
    {
     "data": {
      "text/plain": [
       "{'total_andares': 10,\n",
       " 'capacidade_pessoas': 10,\n",
       " 'andar_atual': 0,\n",
       " 'qtd_pessoas': 0}"
      ]
     },
     "execution_count": 94,
     "metadata": {},
     "output_type": "execute_result"
    }
   ],
   "source": [
    "meu_elevador = Elevador(10, 10)\n",
    "meu_elevador.__dict__"
   ]
  },
  {
   "cell_type": "code",
   "execution_count": 95,
   "metadata": {},
   "outputs": [
    {
     "name": "stdout",
     "output_type": "stream",
     "text": [
      "O elevador está com 3 pessoas e está no 0º andar\n"
     ]
    }
   ],
   "source": [
    "meu_elevador.entra(3)\n",
    "meu_elevador.exibe_elevador()"
   ]
  },
  {
   "cell_type": "code",
   "execution_count": 96,
   "metadata": {},
   "outputs": [
    {
     "name": "stdout",
     "output_type": "stream",
     "text": [
      "Você não pode descer tantos andares!\n",
      "O elevador está com 3 pessoas e está no 0º andar\n"
     ]
    }
   ],
   "source": [
    "meu_elevador.desce(1)\n",
    "meu_elevador.exibe_elevador()"
   ]
  },
  {
   "cell_type": "code",
   "execution_count": 97,
   "metadata": {},
   "outputs": [
    {
     "name": "stdout",
     "output_type": "stream",
     "text": [
      "O elevador está com 3 pessoas e está no 5º andar\n"
     ]
    }
   ],
   "source": [
    "meu_elevador.sobe(5)\n",
    "meu_elevador.exibe_elevador()"
   ]
  },
  {
   "cell_type": "code",
   "execution_count": 99,
   "metadata": {},
   "outputs": [
    {
     "name": "stdout",
     "output_type": "stream",
     "text": [
      "O elevador está com 1 pessoas e está no 5º andar\n"
     ]
    }
   ],
   "source": [
    "meu_elevador.sai(2)\n",
    "meu_elevador.exibe_elevador()"
   ]
  },
  {
   "cell_type": "code",
   "execution_count": 101,
   "metadata": {},
   "outputs": [
    {
     "name": "stdout",
     "output_type": "stream",
     "text": [
      "O elevador está com 10 pessoas e está no 5º andar\n"
     ]
    }
   ],
   "source": [
    "meu_elevador.entra(9)\n",
    "meu_elevador.exibe_elevador()"
   ]
  },
  {
   "cell_type": "code",
   "execution_count": 103,
   "metadata": {},
   "outputs": [
    {
     "name": "stdout",
     "output_type": "stream",
     "text": [
      "O elevador está com 10 pessoas e está no 10º andar\n"
     ]
    }
   ],
   "source": [
    "meu_elevador.sobe(5)\n",
    "meu_elevador.exibe_elevador()"
   ]
  },
  {
   "cell_type": "code",
   "execution_count": null,
   "metadata": {},
   "outputs": [],
   "source": [
    "# Voltamos 21:07"
   ]
  },
  {
   "cell_type": "code",
   "execution_count": null,
   "metadata": {},
   "outputs": [],
   "source": []
  },
  {
   "cell_type": "code",
   "execution_count": 80,
   "metadata": {},
   "outputs": [
    {
     "data": {
      "text/plain": [
       "21"
      ]
     },
     "execution_count": 80,
     "metadata": {},
     "output_type": "execute_result"
    }
   ],
   "source": [
    "numero = 20\n",
    "numero = numero + 1\n",
    "numero"
   ]
  },
  {
   "cell_type": "code",
   "execution_count": 81,
   "metadata": {},
   "outputs": [
    {
     "data": {
      "text/plain": [
       "21"
      ]
     },
     "execution_count": 81,
     "metadata": {},
     "output_type": "execute_result"
    }
   ],
   "source": [
    "numero = 20\n",
    "numero += 1\n",
    "numero"
   ]
  },
  {
   "cell_type": "code",
   "execution_count": 83,
   "metadata": {},
   "outputs": [
    {
     "data": {
      "text/plain": [
       "10.0"
      ]
     },
     "execution_count": 83,
     "metadata": {},
     "output_type": "execute_result"
    }
   ],
   "source": [
    "numero = 20\n",
    "numero /= 2\n",
    "numero"
   ]
  },
  {
   "cell_type": "code",
   "execution_count": 84,
   "metadata": {},
   "outputs": [
    {
     "data": {
      "text/plain": [
       "40"
      ]
     },
     "execution_count": 84,
     "metadata": {},
     "output_type": "execute_result"
    }
   ],
   "source": [
    "numero = 20\n",
    "numero *= 2\n",
    "numero"
   ]
  },
  {
   "cell_type": "code",
   "execution_count": 85,
   "metadata": {},
   "outputs": [
    {
     "data": {
      "text/plain": [
       "18"
      ]
     },
     "execution_count": 85,
     "metadata": {},
     "output_type": "execute_result"
    }
   ],
   "source": [
    "numero = 20\n",
    "numero -= 2\n",
    "numero"
   ]
  },
  {
   "cell_type": "code",
   "execution_count": null,
   "metadata": {},
   "outputs": [],
   "source": []
  },
  {
   "cell_type": "markdown",
   "metadata": {},
   "source": [
    "## Atributos e métodos estáticos\n",
    "\n",
    "Se quisermos criar atributos e métodos que pertençam **à classe**, e não exatamente a um objeto instanciado desta, usamos suas versões **estáticas**\n",
    "\n",
    "- Para criar um atributo estático, basta **criar uma variável (atribuindo um valor inicial a ela) dentro da classe**, mas **fora de qualquer um de seus métodos**;\n",
    "- Para criar um método estático, use antes de sua criação **@staticmethod**"
   ]
  },
  {
   "cell_type": "code",
   "execution_count": null,
   "metadata": {},
   "outputs": [],
   "source": []
  },
  {
   "cell_type": "code",
   "execution_count": null,
   "metadata": {},
   "outputs": [],
   "source": []
  },
  {
   "cell_type": "code",
   "execution_count": null,
   "metadata": {},
   "outputs": [],
   "source": []
  },
  {
   "cell_type": "code",
   "execution_count": null,
   "metadata": {},
   "outputs": [],
   "source": []
  },
  {
   "cell_type": "code",
   "execution_count": null,
   "metadata": {},
   "outputs": [],
   "source": []
  },
  {
   "cell_type": "code",
   "execution_count": null,
   "metadata": {},
   "outputs": [],
   "source": []
  },
  {
   "cell_type": "markdown",
   "metadata": {},
   "source": [
    "### Exercício\n",
    "Crie uma classe ``Agenda`` em que cada objeto pode armazenar 10 pessoas e seja capaz de realizar as seguintes operações:\n",
    "\n",
    "- adiciona_pessoa - Adiciona uma pessoa na agenda. Recebe o nome, o telefone e o endereço\n",
    "- remove_pessoa - Remove uma pessoa se ela estiver na agenda. Recebe o nome.\n",
    "- busca_pessoa - Informa em que posição da agenda está a pessoa se ela estiver na agenda. Recebe o nome.\n",
    "- imprime_agenda - Imprime os dados de todas as pessoas da agenda\n",
    "- imprime_pessoa - Imprime os dados da pessoa que está na posição i da agenda. Recebe a posição.\n"
   ]
  },
  {
   "cell_type": "code",
   "execution_count": null,
   "metadata": {},
   "outputs": [],
   "source": []
  },
  {
   "cell_type": "code",
   "execution_count": null,
   "metadata": {},
   "outputs": [],
   "source": []
  },
  {
   "cell_type": "markdown",
   "metadata": {},
   "source": [
    "### Exercício\n",
    "Crie uma classe ``ContaBancaria`` com os seguintes atributos: número da conta, nome do cliente e saldo.\n",
    "Crie os seguintes métodos:\n",
    "- deposito - faz um depósito na conta\n",
    "- saque - faz um saque se o valor estiver disponível\n",
    "- aplica_tarifas - reduz do saldo as tarifas bancárias\n",
    "- Crie um método que exiba os detalhes da conta. Existe algum método padrão para fazermos isso?"
   ]
  },
  {
   "cell_type": "code",
   "execution_count": 150,
   "metadata": {},
   "outputs": [],
   "source": [
    "class ContaBancaria:\n",
    "    # O atributo saldo é iniciado com zero caso o usuário não especifique algum valor\n",
    "    def __init__(self, numero_conta, nome_cliente, saldo = 0):\n",
    "        self.numero_conta = numero_conta\n",
    "        self.nome_cliente = nome_cliente\n",
    "        self.saldo = saldo\n",
    "\n",
    "    def deposito(self, valor):\n",
    "        # Primeiro verifica se o valor é numérico\n",
    "        if type(valor) == int or type(valor) == float:\n",
    "            # Se for numérico, verifico se é positivo\n",
    "            if valor >= 0:\n",
    "                self.saldo += valor\n",
    "            else:\n",
    "                print('Valor negativo inválido. O saldo não foi modificado')\n",
    "        else:\n",
    "            print('Tipo de dado inválido. O valor deve ser numérico e positivo')\n",
    "\n",
    "    def saque(self, valor):\n",
    "        # Primeiro verifica se o valor é numérico\n",
    "        if type(valor) == int or type(valor) == float:\n",
    "            # Se for numérico, verifico se é positivo\n",
    "            if valor > 0:\n",
    "                # Verifica se tenho saldo para sacar\n",
    "                if valor <= self.saldo:\n",
    "                    self.saldo -= valor\n",
    "                else:\n",
    "                    print('Valor excede o saldo')\n",
    "            else:\n",
    "                print('Valor negativo inválido. O saldo não foi modificado')\n",
    "        else:\n",
    "            print('Tipo de dado inválido. O valor deve ser numérico e positivo')\n",
    "    \n",
    "    def aplica_tarifas(self):\n",
    "        valor_tarifa = float(input('Digite o percentual da tarifa: '))\n",
    "        valor_descontado = self.saldo * (valor_tarifa / 100)\n",
    "        self.saldo -= valor_descontado\n",
    "\n",
    "    def __repr__(self):\n",
    "        texto = 'Cliente: ' + self.nome_cliente\n",
    "        texto += ' - Número da conta: ' + str(self.numero_conta)\n",
    "        texto += ' - Saldo: R$' + str(self.saldo)   \n",
    "        return texto"
   ]
  },
  {
   "cell_type": "code",
   "execution_count": 151,
   "metadata": {},
   "outputs": [],
   "source": [
    "conta = ContaBancaria(123, 'Octávio')"
   ]
  },
  {
   "cell_type": "code",
   "execution_count": 152,
   "metadata": {},
   "outputs": [
    {
     "name": "stdout",
     "output_type": "stream",
     "text": [
      "Cliente: Octávio - Número da conta: 123 - Saldo: R$0\n"
     ]
    }
   ],
   "source": [
    "print(conta)"
   ]
  },
  {
   "cell_type": "code",
   "execution_count": 153,
   "metadata": {},
   "outputs": [
    {
     "name": "stdout",
     "output_type": "stream",
     "text": [
      "Valor negativo inválido. O saldo não foi modificado\n",
      "Cliente: Octávio - Número da conta: 123 - Saldo: R$0\n"
     ]
    }
   ],
   "source": [
    "conta.deposito(-10)\n",
    "print(conta)"
   ]
  },
  {
   "cell_type": "code",
   "execution_count": 154,
   "metadata": {},
   "outputs": [
    {
     "name": "stdout",
     "output_type": "stream",
     "text": [
      "Cliente: Octávio - Número da conta: 123 - Saldo: R$0\n"
     ]
    }
   ],
   "source": [
    "conta.deposito(0)\n",
    "print(conta)"
   ]
  },
  {
   "cell_type": "code",
   "execution_count": 155,
   "metadata": {},
   "outputs": [
    {
     "name": "stdout",
     "output_type": "stream",
     "text": [
      "Tipo de dado inválido. O valor deve ser numérico e positivo\n",
      "Cliente: Octávio - Número da conta: 123 - Saldo: R$0\n"
     ]
    }
   ],
   "source": [
    "conta.deposito('a')\n",
    "print(conta)"
   ]
  },
  {
   "cell_type": "code",
   "execution_count": 156,
   "metadata": {},
   "outputs": [
    {
     "name": "stdout",
     "output_type": "stream",
     "text": [
      "Cliente: Octávio - Número da conta: 123 - Saldo: R$1000\n"
     ]
    }
   ],
   "source": [
    "conta.deposito(1000)\n",
    "print(conta)"
   ]
  },
  {
   "cell_type": "code",
   "execution_count": 157,
   "metadata": {},
   "outputs": [
    {
     "name": "stdout",
     "output_type": "stream",
     "text": [
      "Cliente: Octávio - Número da conta: 123 - Saldo: R$2000\n"
     ]
    }
   ],
   "source": [
    "conta.deposito(1000)\n",
    "print(conta)"
   ]
  },
  {
   "cell_type": "code",
   "execution_count": 158,
   "metadata": {},
   "outputs": [
    {
     "name": "stdout",
     "output_type": "stream",
     "text": [
      "Cliente: Octávio - Número da conta: 123 - Saldo: R$2001.5\n"
     ]
    }
   ],
   "source": [
    "conta.deposito(1.50)\n",
    "print(conta)"
   ]
  },
  {
   "cell_type": "code",
   "execution_count": 159,
   "metadata": {},
   "outputs": [
    {
     "name": "stdout",
     "output_type": "stream",
     "text": [
      "Valor negativo inválido. O saldo não foi modificado\n",
      "Cliente: Octávio - Número da conta: 123 - Saldo: R$2001.5\n"
     ]
    }
   ],
   "source": [
    "conta.saque(-5)\n",
    "print(conta)"
   ]
  },
  {
   "cell_type": "code",
   "execution_count": 160,
   "metadata": {},
   "outputs": [
    {
     "name": "stdout",
     "output_type": "stream",
     "text": [
      "Tipo de dado inválido. O valor deve ser numérico e positivo\n",
      "Cliente: Octávio - Número da conta: 123 - Saldo: R$2001.5\n"
     ]
    }
   ],
   "source": [
    "conta.saque('a')\n",
    "print(conta)"
   ]
  },
  {
   "cell_type": "code",
   "execution_count": 161,
   "metadata": {},
   "outputs": [
    {
     "name": "stdout",
     "output_type": "stream",
     "text": [
      "Valor excede o saldo\n",
      "Cliente: Octávio - Número da conta: 123 - Saldo: R$2001.5\n"
     ]
    }
   ],
   "source": [
    "conta.saque(5000)\n",
    "print(conta)"
   ]
  },
  {
   "cell_type": "code",
   "execution_count": 162,
   "metadata": {},
   "outputs": [
    {
     "name": "stdout",
     "output_type": "stream",
     "text": [
      "Cliente: Octávio - Número da conta: 123 - Saldo: R$2000.0\n"
     ]
    }
   ],
   "source": [
    "conta.saque(1.5)\n",
    "print(conta)"
   ]
  },
  {
   "cell_type": "code",
   "execution_count": 163,
   "metadata": {},
   "outputs": [
    {
     "name": "stdout",
     "output_type": "stream",
     "text": [
      "Cliente: Octávio - Número da conta: 123 - Saldo: R$1800.0\n"
     ]
    }
   ],
   "source": [
    "conta.aplica_tarifas()\n",
    "print(conta)"
   ]
  },
  {
   "cell_type": "code",
   "execution_count": null,
   "metadata": {},
   "outputs": [],
   "source": []
  },
  {
   "cell_type": "code",
   "execution_count": null,
   "metadata": {},
   "outputs": [],
   "source": []
  }
 ],
 "metadata": {
  "interpreter": {
   "hash": "9e1544ece40983b9dcb10e0aa1f5d0cdb8d9e539b9b8df5e9e5017ad7f05ebe2"
  },
  "kernelspec": {
   "display_name": "Python 3.9.2 64-bit",
   "language": "python",
   "name": "python3"
  },
  "language_info": {
   "codemirror_mode": {
    "name": "ipython",
    "version": 3
   },
   "file_extension": ".py",
   "mimetype": "text/x-python",
   "name": "python",
   "nbconvert_exporter": "python",
   "pygments_lexer": "ipython3",
   "version": "3.9.2"
  },
  "orig_nbformat": 4
 },
 "nbformat": 4,
 "nbformat_minor": 2
}
