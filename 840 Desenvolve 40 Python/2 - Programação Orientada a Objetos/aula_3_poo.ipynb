{
 "cells": [
  {
   "cell_type": "markdown",
   "metadata": {},
   "source": [
    "# Programação orientada a objetos"
   ]
  },
  {
   "cell_type": "markdown",
   "metadata": {},
   "source": [
    "## Atributos e métodos estáticos\n",
    "\n",
    "Se quisermos criar atributos e métodos que pertençam **à classe**, e não exatamente a um objeto instanciado desta, usamos suas versões **estáticas**\n",
    "\n",
    "- Para criar um atributo estático, basta **criar uma variável (atribuindo um valor inicial a ela) dentro da classe**, mas **fora de qualquer um de seus métodos**;\n",
    "- Para criar um método estático, use antes de sua criação **@staticmethod**"
   ]
  },
  {
   "cell_type": "markdown",
   "metadata": {},
   "source": [
    "### Exercício\n",
    "Crie uma classe ``Pizza`` em que os objetos possuem o atributo sabor e tamanho (P, M ou G).\n",
    "\n",
    "Crie um método para calcular a área da pizza utlizando os seguintes valores de raio:\n",
    "- P: 5 cm\n",
    "- M: 10 cm\n",
    "- G: 15 cm"
   ]
  },
  {
   "cell_type": "code",
   "execution_count": 4,
   "metadata": {},
   "outputs": [],
   "source": [
    "import math\n",
    "\n",
    "class Pizza: \n",
    "    def __init__(self, sabor, tamanho):\n",
    "        self.sabor = sabor\n",
    "        self.tamanho = tamanho\n",
    "    \n",
    "        def calcula_area(self, raio):\n",
    "        return math.pi * (raio **2)\n",
    "    \n",
    "    def area_pizza(self):\n",
    "        if self.tamanho == 'P':\n",
    "            self.area = self.calcula_area(5)\n",
    "        elif self.tamanho == 'M':\n",
    "            self.area = self.calcula_area(10)\n",
    "        elif self.tamanho == 'G':\n",
    "            self.area = self.calcula_area(15)\n",
    "            \n",
    "\n"
   ]
  },
  {
   "cell_type": "code",
   "execution_count": 5,
   "metadata": {},
   "outputs": [
    {
     "data": {
      "text/plain": [
       "{'sabor': 'presunto', 'tamanho': 'P'}"
      ]
     },
     "execution_count": 5,
     "metadata": {},
     "output_type": "execute_result"
    }
   ],
   "source": [
    "pizza1 = Pizza('presunto', 'P')\n",
    "pizza1.__dict__"
   ]
  },
  {
   "cell_type": "code",
   "execution_count": 7,
   "metadata": {},
   "outputs": [
    {
     "data": {
      "text/plain": [
       "{'sabor': 'presunto', 'tamanho': 'P', 'area': 78.53981633974483}"
      ]
     },
     "execution_count": 7,
     "metadata": {},
     "output_type": "execute_result"
    }
   ],
   "source": [
    "pizza1.area_pizza()\n",
    "pizza1.__dict__"
   ]
  },
  {
   "cell_type": "code",
   "execution_count": null,
   "metadata": {},
   "outputs": [],
   "source": []
  },
  {
   "cell_type": "code",
   "execution_count": 31,
   "metadata": {},
   "outputs": [],
   "source": [
    "import math\n",
    "\n",
    "# Mesma classe só que com a criação de um método estático\n",
    "class Pizza_static: \n",
    "    def __init__(self, sabor, tamanho):\n",
    "        self.sabor = sabor\n",
    "        self.tamanho = tamanho\n",
    "    \n",
    "# Para criar um método estático tem que colocar o @staticmethod e não usar o \"self.\" no método.\n",
    "# Ele é chamado através da classe e não do objeto: Pizza_static.calcula_area(5)\n",
    "    @staticmethod\n",
    "    def calcula_area(raio):   \n",
    "        return math.pi * (raio **2)\n",
    "    \n",
    "    def area_pizza(self):\n",
    "        if self.tamanho == 'P':\n",
    "            self.area = self.calcula_area(5)\n",
    "        elif self.tamanho == 'M':\n",
    "            self.area = self.calcula_area(10)\n",
    "        elif self.tamanho == 'G':\n",
    "            self.area = self.calcula_area(15)"
   ]
  },
  {
   "cell_type": "code",
   "execution_count": 36,
   "metadata": {},
   "outputs": [
    {
     "data": {
      "text/plain": [
       "{'sabor': 'Calabresa', 'tamanho': 'M', 'area': 314.1592653589793}"
      ]
     },
     "execution_count": 36,
     "metadata": {},
     "output_type": "execute_result"
    }
   ],
   "source": [
    "pizza2 = Pizza_static(\"Calabresa\", \"M\")\n",
    "pizza2.area_pizza()\n",
    "pizza2.__dict__"
   ]
  },
  {
   "cell_type": "code",
   "execution_count": 37,
   "metadata": {},
   "outputs": [
    {
     "data": {
      "text/plain": [
       "{'sabor': 'Calabresa', 'tamanho': 'M', 'area': 314.1592653589793}"
      ]
     },
     "execution_count": 37,
     "metadata": {},
     "output_type": "execute_result"
    }
   ],
   "source": []
  },
  {
   "cell_type": "markdown",
   "metadata": {},
   "source": [
    "### Exercício\n",
    "Crie uma classe ``Agenda`` em que cada objeto pode armazenar 10 pessoas e seja capaz de realizar as seguintes operações:\n",
    "\n",
    "- adiciona_pessoa - Adiciona uma pessoa na agenda. Recebe o nome, o telefone e o endereço\n",
    "- remove_pessoa - Remove uma pessoa se ela estiver na agenda. Recebe o nome.\n",
    "- busca_pessoa - Informa em que posição da agenda está a pessoa se ela estiver na agenda. Recebe o nome.\n",
    "- imprime_agenda - Imprime os dados de todas as pessoas da agenda\n",
    "- imprime_pessoa - Imprime os dados da pessoa que está na posição i da agenda. Recebe a posição.\n"
   ]
  },
  {
   "cell_type": "code",
   "execution_count": null,
   "metadata": {},
   "outputs": [],
   "source": []
  },
  {
   "cell_type": "code",
   "execution_count": null,
   "metadata": {},
   "outputs": [],
   "source": []
  },
  {
   "cell_type": "code",
   "execution_count": null,
   "metadata": {},
   "outputs": [],
   "source": []
  },
  {
   "cell_type": "code",
   "execution_count": null,
   "metadata": {},
   "outputs": [],
   "source": []
  },
  {
   "cell_type": "code",
   "execution_count": null,
   "metadata": {},
   "outputs": [],
   "source": []
  },
  {
   "cell_type": "code",
   "execution_count": null,
   "metadata": {},
   "outputs": [],
   "source": []
  },
  {
   "cell_type": "code",
   "execution_count": null,
   "metadata": {},
   "outputs": [],
   "source": []
  },
  {
   "cell_type": "markdown",
   "metadata": {},
   "source": [
    "## Métodos mágicos\n",
    "\n",
    "Como o python entende que o sinal \"+\", quando aplicado à objetos da classe `str` deve **concatenar** as duas strings, ao invés de fazer alguma outra operação estranha de soma?\n",
    "\n",
    "Isso é feito a partir dos **métodos mágicos**\n",
    "\n",
    "Para ilustrar os usos desses métodos, vamos criar uma classe de horário:"
   ]
  },
  {
   "cell_type": "markdown",
   "metadata": {},
   "source": [
    "### Métodos aritméticos\n",
    "\n",
    "Como o \"+\" é entendido como concatenação entre objetos da classe `str`?\n",
    "\n",
    "Isso se faz através dos __métodos mágicos aritméticos__, que substituem os símbolos aritméticos pelas operações que forem definidas dentro da classe!\n",
    "\n",
    "Temos os seguintes métodos mágicos aritméticos:\n",
    "\n",
    "- \\__add\\__:  soma: +\n",
    "- \\__sub\\__:  subtração: -\n",
    "- \\__mul\\__:  multiplicação: *\n",
    "- \\__truediv\\__:  divisão: /\n",
    "- \\__floordiv\\__:  divisão inteira: //\n",
    "- \\__mod\\__:  resto de divisão: %\n",
    "- \\__pow\\__:  potência: **"
   ]
  },
  {
   "cell_type": "code",
   "execution_count": null,
   "metadata": {},
   "outputs": [],
   "source": []
  },
  {
   "cell_type": "code",
   "execution_count": null,
   "metadata": {},
   "outputs": [],
   "source": []
  },
  {
   "cell_type": "code",
   "execution_count": null,
   "metadata": {},
   "outputs": [],
   "source": []
  },
  {
   "cell_type": "markdown",
   "metadata": {},
   "source": [
    "### Métodos lógicos\n",
    "\n",
    "Da mesma forma que há metódos mágicos para operações aritméticas, há também para **operações lógicas!**\n",
    "\n",
    "Naturalmente, estes métodos retornaram True ou False.\n",
    "\n",
    "Os métodos lógicos são:\n",
    "\n",
    "- \\__gt\\__: maior que (greater than): >\n",
    "- \\__ge\\__: maior ou igual (greater or equal): >=\n",
    "- \\__lt\\__: menor que (less than): <\n",
    "- \\__le\\__: menor ou igual (less or equal): <=\n",
    "- \\__eq\\__: igual (equal): ==\n",
    "- \\__ne\\__: diferente (not equal): !=\n"
   ]
  },
  {
   "cell_type": "code",
   "execution_count": null,
   "metadata": {},
   "outputs": [],
   "source": []
  }
 ],
 "metadata": {
  "interpreter": {
   "hash": "9e1544ece40983b9dcb10e0aa1f5d0cdb8d9e539b9b8df5e9e5017ad7f05ebe2"
  },
  "kernelspec": {
   "display_name": "Python 3.9.2 64-bit",
   "language": "python",
   "name": "python3"
  },
  "language_info": {
   "codemirror_mode": {
    "name": "ipython",
    "version": 3
   },
   "file_extension": ".py",
   "mimetype": "text/x-python",
   "name": "python",
   "nbconvert_exporter": "python",
   "pygments_lexer": "ipython3",
   "version": "3.9.6"
  },
  "orig_nbformat": 4
 },
 "nbformat": 4,
 "nbformat_minor": 2
}
