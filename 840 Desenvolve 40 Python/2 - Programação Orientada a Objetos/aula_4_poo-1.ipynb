{
 "cells": [
  {
   "cell_type": "markdown",
   "metadata": {},
   "source": [
    "# Programação orientada a objetos"
   ]
  },
  {
   "cell_type": "markdown",
   "metadata": {},
   "source": [
    "## Métodos mágicos\n",
    "\n",
    "Como o python entende que o sinal \"+\", quando aplicado à objetos da classe `str` deve **concatenar** as duas strings, ao invés de fazer alguma outra operação estranha de soma?\n",
    "\n",
    "Isso é feito a partir dos **métodos mágicos**"
   ]
  },
  {
   "cell_type": "code",
   "execution_count": 27,
   "metadata": {},
   "outputs": [],
   "source": [
    "class Cachorro:\n",
    "    qtd_patas = 4\n",
    "    def __init__(self, nome, raca):\n",
    "        self.nome = nome\n",
    "        self.raca = raca\n",
    "\n",
    "    def recebe_peso(self, valor):\n",
    "        self.peso = valor\n",
    "\n",
    "    def calcula_porte(self):\n",
    "        if self.peso <= 5:\n",
    "            self.porte = 'P'\n",
    "        elif self.peso <= 15:\n",
    "            self.porte = 'M'\n",
    "        else:\n",
    "            self.porte = 'G'\n",
    "        \n",
    "    @staticmethod\n",
    "    def calcula_metade_peso(peso):\n",
    "        return peso / 2\n",
    "\n",
    "    def __repr__(self):\n",
    "        return 'Cachorro'\n",
    "            "
   ]
  },
  {
   "cell_type": "code",
   "execution_count": 28,
   "metadata": {},
   "outputs": [],
   "source": [
    "cachorro_1 = Cachorro('Tobby', 'Poodle')\n",
    "cachorro_1.recebe_peso(4)\n",
    "cachorro_1.calcula_porte()"
   ]
  },
  {
   "cell_type": "code",
   "execution_count": 29,
   "metadata": {},
   "outputs": [
    {
     "data": {
      "text/plain": [
       "{'nome': 'Tobby', 'raca': 'Poodle', 'peso': 4, 'porte': 'P'}"
      ]
     },
     "execution_count": 29,
     "metadata": {},
     "output_type": "execute_result"
    }
   ],
   "source": [
    "cachorro_1.__dict__"
   ]
  },
  {
   "cell_type": "code",
   "execution_count": 30,
   "metadata": {},
   "outputs": [
    {
     "data": {
      "text/plain": [
       "4"
      ]
     },
     "execution_count": 30,
     "metadata": {},
     "output_type": "execute_result"
    }
   ],
   "source": [
    "cachorro_1.qtd_patas"
   ]
  },
  {
   "cell_type": "code",
   "execution_count": 31,
   "metadata": {},
   "outputs": [],
   "source": [
    "metade_peso = Cachorro.calcula_metade_peso(cachorro_1.peso)"
   ]
  },
  {
   "cell_type": "code",
   "execution_count": 32,
   "metadata": {},
   "outputs": [],
   "source": [
    "metade_peso = Cachorro.calcula_metade_peso(5)"
   ]
  },
  {
   "cell_type": "code",
   "execution_count": 33,
   "metadata": {},
   "outputs": [
    {
     "data": {
      "text/plain": [
       "2.5"
      ]
     },
     "execution_count": 33,
     "metadata": {},
     "output_type": "execute_result"
    }
   ],
   "source": [
    "metade_peso"
   ]
  },
  {
   "cell_type": "code",
   "execution_count": 34,
   "metadata": {},
   "outputs": [
    {
     "name": "stdout",
     "output_type": "stream",
     "text": [
      "Cachorro\n"
     ]
    }
   ],
   "source": [
    "print(cachorro_1)"
   ]
  },
  {
   "cell_type": "code",
   "execution_count": 9,
   "metadata": {},
   "outputs": [
    {
     "data": {
      "text/plain": [
       "{'nome': 'Pudim', 'raca': 'Vira-Lata'}"
      ]
     },
     "execution_count": 9,
     "metadata": {},
     "output_type": "execute_result"
    }
   ],
   "source": [
    "cachorro_2 = Cachorro('Pudim', 'Vira-Lata')\n",
    "cachorro_2.__dict__"
   ]
  },
  {
   "cell_type": "code",
   "execution_count": null,
   "metadata": {},
   "outputs": [],
   "source": []
  },
  {
   "cell_type": "code",
   "execution_count": 35,
   "metadata": {},
   "outputs": [],
   "source": [
    "lista_1 = [1, 2, 3]\n",
    "lista_2 = [4, 5, 6]"
   ]
  },
  {
   "cell_type": "code",
   "execution_count": 37,
   "metadata": {},
   "outputs": [
    {
     "data": {
      "text/plain": [
       "[1, 2, 3, 4, 5, 6]"
      ]
     },
     "execution_count": 37,
     "metadata": {},
     "output_type": "execute_result"
    }
   ],
   "source": [
    "lista_1 + lista_2"
   ]
  },
  {
   "cell_type": "code",
   "execution_count": 38,
   "metadata": {},
   "outputs": [
    {
     "data": {
      "text/plain": [
       "[1, 2, 3, 4, 5, 6]"
      ]
     },
     "execution_count": 38,
     "metadata": {},
     "output_type": "execute_result"
    }
   ],
   "source": [
    "lista_1.__add__(lista_2)"
   ]
  },
  {
   "cell_type": "code",
   "execution_count": 39,
   "metadata": {},
   "outputs": [
    {
     "data": {
      "text/plain": [
       "'ab'"
      ]
     },
     "execution_count": 39,
     "metadata": {},
     "output_type": "execute_result"
    }
   ],
   "source": [
    "str1 = 'a'\n",
    "str2 = 'b'\n",
    "str1 + str2"
   ]
  },
  {
   "cell_type": "markdown",
   "metadata": {},
   "source": [
    "### Métodos aritméticos\n",
    "\n",
    "Como o \"+\" é entendido como concatenação entre objetos da classe `str`?\n",
    "\n",
    "Isso se faz através dos __métodos mágicos aritméticos__, que substituem os símbolos aritméticos pelas operações que forem definidas dentro da classe!\n",
    "\n",
    "Temos os seguintes métodos mágicos aritméticos:\n",
    "\n",
    "- \\__add\\__:  soma: +\n",
    "- \\__sub\\__:  subtração: -\n",
    "- \\__mul\\__:  multiplicação: *\n",
    "- \\__truediv\\__:  divisão: /\n",
    "- \\__floordiv\\__:  divisão inteira: //\n",
    "- \\__mod\\__:  resto de divisão: %\n",
    "- \\__pow\\__:  potência: **"
   ]
  },
  {
   "cell_type": "code",
   "execution_count": 40,
   "metadata": {},
   "outputs": [],
   "source": [
    "class Ponto:\n",
    "    def __init__(self, x, y):\n",
    "        self.x = x\n",
    "        self.y = y"
   ]
  },
  {
   "cell_type": "code",
   "execution_count": 47,
   "metadata": {},
   "outputs": [],
   "source": [
    "ponto_1 = Ponto(2, 3)\n",
    "ponto_2 = Ponto(8, 5)"
   ]
  },
  {
   "cell_type": "code",
   "execution_count": 48,
   "metadata": {},
   "outputs": [
    {
     "data": {
      "text/plain": [
       "10"
      ]
     },
     "execution_count": 48,
     "metadata": {},
     "output_type": "execute_result"
    }
   ],
   "source": [
    "ponto_1.x + ponto_2.x"
   ]
  },
  {
   "cell_type": "code",
   "execution_count": 49,
   "metadata": {},
   "outputs": [
    {
     "data": {
      "text/plain": [
       "8"
      ]
     },
     "execution_count": 49,
     "metadata": {},
     "output_type": "execute_result"
    }
   ],
   "source": [
    "ponto_1.y + ponto_2.y"
   ]
  },
  {
   "cell_type": "code",
   "execution_count": 50,
   "metadata": {},
   "outputs": [
    {
     "data": {
      "text/plain": [
       "7"
      ]
     },
     "execution_count": 50,
     "metadata": {},
     "output_type": "execute_result"
    }
   ],
   "source": [
    "ponto_1.x + ponto_2.y"
   ]
  },
  {
   "cell_type": "code",
   "execution_count": 51,
   "metadata": {},
   "outputs": [
    {
     "ename": "TypeError",
     "evalue": "unsupported operand type(s) for +: 'Ponto' and 'Ponto'",
     "output_type": "error",
     "traceback": [
      "\u001b[1;31m---------------------------------------------------------------------------\u001b[0m",
      "\u001b[1;31mTypeError\u001b[0m                                 Traceback (most recent call last)",
      "\u001b[1;32m<ipython-input-51-92cd8c3c988d>\u001b[0m in \u001b[0;36m<module>\u001b[1;34m\u001b[0m\n\u001b[1;32m----> 1\u001b[1;33m \u001b[0mponto_1\u001b[0m \u001b[1;33m+\u001b[0m \u001b[0mponto_2\u001b[0m\u001b[1;33m\u001b[0m\u001b[1;33m\u001b[0m\u001b[0m\n\u001b[0m",
      "\u001b[1;31mTypeError\u001b[0m: unsupported operand type(s) for +: 'Ponto' and 'Ponto'"
     ]
    }
   ],
   "source": [
    "ponto_1 + ponto_2"
   ]
  },
  {
   "cell_type": "code",
   "execution_count": 52,
   "metadata": {},
   "outputs": [],
   "source": [
    "class Ponto:\n",
    "    def __init__(self, x, y):\n",
    "        self.x = x\n",
    "        self.y = y\n",
    "\n",
    "    def __add__(self, outro_ponto):\n",
    "        # personalizando o que fazer caso o sinal de + seja usado entre dois objetos da classe\n",
    "        x_ponto = self.x\n",
    "        y_ponto = self.y\n",
    "        x_outro_ponto = outro_ponto.x\n",
    "        y_outro_ponto = outro_ponto.y\n",
    "        return [x_ponto + x_outro_ponto, y_ponto + y_outro_ponto]"
   ]
  },
  {
   "cell_type": "code",
   "execution_count": 53,
   "metadata": {},
   "outputs": [
    {
     "data": {
      "text/plain": [
       "[4, 6]"
      ]
     },
     "execution_count": 53,
     "metadata": {},
     "output_type": "execute_result"
    }
   ],
   "source": [
    "ponto_1 = Ponto(1, 2)\n",
    "ponto_2 = Ponto(3, 4)\n",
    "soma = ponto_1 + ponto_2"
   ]
  },
  {
   "cell_type": "code",
   "execution_count": 55,
   "metadata": {},
   "outputs": [],
   "source": [
    "class Ponto:\n",
    "    def __init__(self, x, y):\n",
    "        self.x = x\n",
    "        self.y = y\n",
    "\n",
    "    def __add__(self, outro_ponto):\n",
    "        # personalizando o que fazer caso o sinal de + seja usado entre dois objetos da classe\n",
    "        x_ponto = self.x\n",
    "        y_ponto = self.y\n",
    "        x_outro_ponto = outro_ponto.x\n",
    "        y_outro_ponto = outro_ponto.y\n",
    "        return Ponto(x_ponto + x_outro_ponto, y_ponto + y_outro_ponto)"
   ]
  },
  {
   "cell_type": "code",
   "execution_count": 60,
   "metadata": {},
   "outputs": [],
   "source": [
    "ponto_1 = Ponto(3, 5)\n",
    "ponto_2 = Ponto(10, 20)\n",
    "ponto_3 = ponto_1 + ponto_2"
   ]
  },
  {
   "cell_type": "code",
   "execution_count": 57,
   "metadata": {},
   "outputs": [
    {
     "data": {
      "text/plain": [
       "__main__.Ponto"
      ]
     },
     "execution_count": 57,
     "metadata": {},
     "output_type": "execute_result"
    }
   ],
   "source": [
    "type(ponto_3)"
   ]
  },
  {
   "cell_type": "code",
   "execution_count": 58,
   "metadata": {},
   "outputs": [
    {
     "data": {
      "text/plain": [
       "{'x': 13, 'y': 25}"
      ]
     },
     "execution_count": 58,
     "metadata": {},
     "output_type": "execute_result"
    }
   ],
   "source": [
    "ponto_3.__dict__"
   ]
  },
  {
   "cell_type": "code",
   "execution_count": 74,
   "metadata": {},
   "outputs": [],
   "source": [
    "class Ponto:\n",
    "    def __init__(self, x, y):\n",
    "        self.x = x\n",
    "        self.y = y\n",
    "\n",
    "    def __add__(self, outro_ponto):\n",
    "        # personalizando o que fazer caso o sinal de + seja usado entre dois objetos da classe\n",
    "        if isinstance(outro_ponto, Ponto) == True:\n",
    "            return Ponto(self.x + outro_ponto.x, self.y + outro_ponto.y)\n",
    "        # personalizando o que fazer caso o sinal de + seja usado entre um ponto e uma lista/tupla\n",
    "        elif (isinstance(outro_ponto, list) or isinstance(outro_ponto, tuple)) and len(outro_ponto) == 2:\n",
    "            return Ponto(self.x + outro_ponto[0], self.y + outro_ponto[1])\n",
    "        # personalizando o que fazer caso o sinal de + seja usado entre um ponto e um número\n",
    "        elif (isinstance(outro_ponto, int) or isinstance(outro_ponto, float)):\n",
    "            return Ponto(self.x + outro_ponto, self.y + outro_ponto)\n",
    "        # personalizando o que fazer caso o sinal de + seja usado entre um ponto e um dicionário\n",
    "        elif isinstance(outro_ponto, dict) and list(outro_ponto.keys()) == ['x', 'y']:\n",
    "            return Ponto(self.x + outro_ponto['x'], self.y + outro_ponto['y'])\n",
    "        # não altera o objeto para todos os outros casos\n",
    "        else:\n",
    "            return Ponto(self.x, self.y)\n",
    "\n",
    "\n",
    "    def __mul__(self, outro_ponto):\n",
    "        # personalizando o que fazer caso o sinal de + seja usado entre dois objetos da classe\n",
    "        if isinstance(outro_ponto, Ponto) == True:\n",
    "            return (self.x * outro_ponto.x, self.y * outro_ponto.y)\n",
    "        # personalizando o que fazer caso o sinal de + seja usado entre um ponto e uma lista/tupla\n",
    "        elif (isinstance(outro_ponto, list) or isinstance(outro_ponto, tuple)) and len(outro_ponto) == 2:\n",
    "            return (self.x * outro_ponto[0], self.y * outro_ponto[1])\n",
    "        # personalizando o que fazer caso o sinal de + seja usado entre um ponto e um número\n",
    "        elif (isinstance(outro_ponto, int) or isinstance(outro_ponto, float)):\n",
    "            return (self.x * outro_ponto, self.y * outro_ponto)\n",
    "        # não altera o objeto para todos os outros casos\n",
    "        else:\n",
    "            return (self.x, self.y)\n",
    "    "
   ]
  },
  {
   "cell_type": "code",
   "execution_count": 75,
   "metadata": {},
   "outputs": [
    {
     "name": "stdout",
     "output_type": "stream",
     "text": [
      "{'x': 4, 'y': 6} <class '__main__.Ponto'>\n"
     ]
    }
   ],
   "source": [
    "ponto_1 = Ponto(1, 2)\n",
    "ponto_2 = Ponto(3, 4)\n",
    "ponto_3 = ponto_1 + ponto_2\n",
    "print(ponto_3.__dict__, type(ponto_3))"
   ]
  },
  {
   "cell_type": "code",
   "execution_count": 76,
   "metadata": {},
   "outputs": [
    {
     "name": "stdout",
     "output_type": "stream",
     "text": [
      "{'x': 4, 'y': 6} <class '__main__.Ponto'>\n"
     ]
    }
   ],
   "source": [
    "ponto_1 = Ponto(1, 2)\n",
    "ponto_2 = [3, 4]\n",
    "ponto_3 = ponto_1 + ponto_2\n",
    "print(ponto_3.__dict__, type(ponto_3))"
   ]
  },
  {
   "cell_type": "code",
   "execution_count": 77,
   "metadata": {},
   "outputs": [
    {
     "name": "stdout",
     "output_type": "stream",
     "text": [
      "{'x': 4, 'y': 6} <class '__main__.Ponto'>\n"
     ]
    }
   ],
   "source": [
    "ponto_1 = Ponto(1, 2)\n",
    "ponto_2 = (3, 4)\n",
    "ponto_3 = ponto_1 + ponto_2\n",
    "print(ponto_3.__dict__, type(ponto_3))"
   ]
  },
  {
   "cell_type": "code",
   "execution_count": 78,
   "metadata": {},
   "outputs": [
    {
     "name": "stdout",
     "output_type": "stream",
     "text": [
      "{'x': 6, 'y': 7} <class '__main__.Ponto'>\n"
     ]
    }
   ],
   "source": [
    "ponto_1 = Ponto(1, 2)\n",
    "ponto_2 = 5\n",
    "ponto_3 = ponto_1 + ponto_2\n",
    "print(ponto_3.__dict__, type(ponto_3))"
   ]
  },
  {
   "cell_type": "code",
   "execution_count": 79,
   "metadata": {},
   "outputs": [
    {
     "name": "stdout",
     "output_type": "stream",
     "text": [
      "{'x': 6.5, 'y': 7.5} <class '__main__.Ponto'>\n"
     ]
    }
   ],
   "source": [
    "ponto_1 = Ponto(1, 2)\n",
    "ponto_2 = 5.5\n",
    "ponto_3 = ponto_1 + ponto_2\n",
    "print(ponto_3.__dict__, type(ponto_3))"
   ]
  },
  {
   "cell_type": "code",
   "execution_count": 82,
   "metadata": {},
   "outputs": [
    {
     "name": "stdout",
     "output_type": "stream",
     "text": [
      "{'x': 3, 'y': 5} <class '__main__.Ponto'>\n"
     ]
    }
   ],
   "source": [
    "ponto_1 = Ponto(1, 2)\n",
    "ponto_2 = {'x': 2, 'y': 3}\n",
    "ponto_3 = ponto_1 + ponto_2\n",
    "print(ponto_3.__dict__, type(ponto_3))"
   ]
  },
  {
   "cell_type": "code",
   "execution_count": 69,
   "metadata": {},
   "outputs": [
    {
     "name": "stdout",
     "output_type": "stream",
     "text": [
      "{'x': 1, 'y': 2} <class '__main__.Ponto'>\n"
     ]
    }
   ],
   "source": [
    "ponto_1 = Ponto(1, 2)\n",
    "ponto_2 = [1, 2, 3]\n",
    "ponto_3 = ponto_1 + ponto_2\n",
    "print(ponto_3.__dict__, type(ponto_3))"
   ]
  },
  {
   "cell_type": "code",
   "execution_count": 70,
   "metadata": {},
   "outputs": [
    {
     "name": "stdout",
     "output_type": "stream",
     "text": [
      "{'x': 1, 'y': 2} <class '__main__.Ponto'>\n"
     ]
    }
   ],
   "source": [
    "ponto_1 = Ponto(1, 2)\n",
    "ponto_2 = '[1, 2]'\n",
    "ponto_3 = ponto_1 + ponto_2\n",
    "print(ponto_3.__dict__, type(ponto_3))"
   ]
  },
  {
   "cell_type": "markdown",
   "metadata": {},
   "source": [
    "Testando a multiplicação:"
   ]
  },
  {
   "cell_type": "code",
   "execution_count": 84,
   "metadata": {},
   "outputs": [
    {
     "name": "stdout",
     "output_type": "stream",
     "text": [
      "(2, 10) <class 'tuple'>\n"
     ]
    }
   ],
   "source": [
    "ponto_1 = Ponto(1, 2)\n",
    "ponto_2 = Ponto(2, 5)\n",
    "ponto_3 = ponto_1 * ponto_2\n",
    "print(ponto_3, type(ponto_3))"
   ]
  },
  {
   "cell_type": "code",
   "execution_count": 85,
   "metadata": {},
   "outputs": [
    {
     "name": "stdout",
     "output_type": "stream",
     "text": [
      "(3, 12) <class 'tuple'>\n"
     ]
    }
   ],
   "source": [
    "ponto_1 = Ponto(1, 2)\n",
    "ponto_2 = [3, 6]\n",
    "ponto_3 = ponto_1 * ponto_2\n",
    "print(ponto_3, type(ponto_3))"
   ]
  },
  {
   "cell_type": "code",
   "execution_count": 86,
   "metadata": {},
   "outputs": [
    {
     "name": "stdout",
     "output_type": "stream",
     "text": [
      "(-9, -18) <class 'tuple'>\n"
     ]
    }
   ],
   "source": [
    "ponto_1 = Ponto(1, 2)\n",
    "ponto_2 = -9\n",
    "ponto_3 = ponto_1 * ponto_2\n",
    "print(ponto_3, type(ponto_3))"
   ]
  },
  {
   "cell_type": "markdown",
   "metadata": {},
   "source": [
    "Explicando o isinstance\n",
    "\n",
    "Essa função verifica se uma determinada variável é de um determinado tipo/classe"
   ]
  },
  {
   "cell_type": "code",
   "execution_count": 92,
   "metadata": {},
   "outputs": [
    {
     "data": {
      "text/plain": [
       "True"
      ]
     },
     "execution_count": 92,
     "metadata": {},
     "output_type": "execute_result"
    }
   ],
   "source": [
    "ponto_2 = Ponto(1, 2)\n",
    "isinstance(ponto_2, Ponto)"
   ]
  },
  {
   "cell_type": "code",
   "execution_count": 96,
   "metadata": {},
   "outputs": [
    {
     "data": {
      "text/plain": [
       "False"
      ]
     },
     "execution_count": 96,
     "metadata": {},
     "output_type": "execute_result"
    }
   ],
   "source": [
    "variavel = 5\n",
    "isinstance(variavel, float)"
   ]
  },
  {
   "cell_type": "markdown",
   "metadata": {},
   "source": [
    "### Métodos lógicos\n",
    "\n",
    "Da mesma forma que há metódos mágicos para operações aritméticas, há também para **operações lógicas!**\n",
    "\n",
    "Naturalmente, estes métodos retornaram True ou False.\n",
    "\n",
    "Os métodos lógicos são:\n",
    "\n",
    "- \\__gt\\__: maior que (greater than): >\n",
    "- \\__ge\\__: maior ou igual (greater or equal): >=\n",
    "- \\__lt\\__: menor que (less than): <\n",
    "- \\__le\\__: menor ou igual (less or equal): <=\n",
    "- \\__eq\\__: igual (equal): ==\n",
    "- \\__ne\\__: diferente (not equal): !=\n"
   ]
  },
  {
   "cell_type": "code",
   "execution_count": 113,
   "metadata": {},
   "outputs": [],
   "source": [
    "class Pessoa:\n",
    "    def __init__(self, nome, altura):\n",
    "        self.nome = nome\n",
    "        self.altura = altura\n",
    "\n",
    "    def __gt__(self, outra_pessoa):\n",
    "        if isinstance(outra_pessoa, Pessoa):\n",
    "            return self.altura > outra_pessoa.altura\n",
    "        elif isinstance(outra_pessoa, int) or isinstance(outra_pessoa, float):\n",
    "            return self.altura > outra_pessoa\n",
    "        else:\n",
    "            return None\n",
    "            \n",
    "    def __ge__(self, outra_pessoa):\n",
    "        return self.altura >= outra_pessoa.altura\n",
    "\n",
    "    def __lt__(self, outra_pessoa):\n",
    "        return self.altura < outra_pessoa.altura\n",
    "\n",
    "    def __le__(self, outra_pessoa):\n",
    "        return self.altura <= outra_pessoa.altura\n",
    "\n",
    "    def __eq__(self, outra_pessoa):\n",
    "        return self.altura == outra_pessoa.altura\n",
    "\n",
    "    def __ne__(self, outra_pessoa):\n",
    "        return self.altura != outra_pessoa.altura"
   ]
  },
  {
   "cell_type": "code",
   "execution_count": 114,
   "metadata": {},
   "outputs": [],
   "source": [
    "pessoa_1 = Pessoa('Raphael', 1.95)\n",
    "pessoa_2 = Pessoa('Anderson', 1.85)"
   ]
  },
  {
   "cell_type": "code",
   "execution_count": 116,
   "metadata": {},
   "outputs": [
    {
     "data": {
      "text/plain": [
       "True"
      ]
     },
     "execution_count": 116,
     "metadata": {},
     "output_type": "execute_result"
    }
   ],
   "source": [
    "pessoa_1 > 1.58"
   ]
  },
  {
   "cell_type": "code",
   "execution_count": 117,
   "metadata": {},
   "outputs": [
    {
     "ename": "AttributeError",
     "evalue": "'int' object has no attribute 'altura'",
     "output_type": "error",
     "traceback": [
      "\u001b[1;31m---------------------------------------------------------------------------\u001b[0m",
      "\u001b[1;31mAttributeError\u001b[0m                            Traceback (most recent call last)",
      "\u001b[1;32m<ipython-input-117-0f3a5858a8f1>\u001b[0m in \u001b[0;36m<module>\u001b[1;34m\u001b[0m\n\u001b[1;32m----> 1\u001b[1;33m \u001b[0mpessoa_1\u001b[0m \u001b[1;33m<\u001b[0m \u001b[1;36m2\u001b[0m\u001b[1;33m\u001b[0m\u001b[1;33m\u001b[0m\u001b[0m\n\u001b[0m",
      "\u001b[1;32m<ipython-input-113-d96d764d01c3>\u001b[0m in \u001b[0;36m__lt__\u001b[1;34m(self, outra_pessoa)\u001b[0m\n\u001b[0;32m     16\u001b[0m \u001b[1;33m\u001b[0m\u001b[0m\n\u001b[0;32m     17\u001b[0m     \u001b[1;32mdef\u001b[0m \u001b[0m__lt__\u001b[0m\u001b[1;33m(\u001b[0m\u001b[0mself\u001b[0m\u001b[1;33m,\u001b[0m \u001b[0moutra_pessoa\u001b[0m\u001b[1;33m)\u001b[0m\u001b[1;33m:\u001b[0m\u001b[1;33m\u001b[0m\u001b[1;33m\u001b[0m\u001b[0m\n\u001b[1;32m---> 18\u001b[1;33m         \u001b[1;32mreturn\u001b[0m \u001b[0mself\u001b[0m\u001b[1;33m.\u001b[0m\u001b[0maltura\u001b[0m \u001b[1;33m<\u001b[0m \u001b[0moutra_pessoa\u001b[0m\u001b[1;33m.\u001b[0m\u001b[0maltura\u001b[0m\u001b[1;33m\u001b[0m\u001b[1;33m\u001b[0m\u001b[0m\n\u001b[0m\u001b[0;32m     19\u001b[0m \u001b[1;33m\u001b[0m\u001b[0m\n\u001b[0;32m     20\u001b[0m     \u001b[1;32mdef\u001b[0m \u001b[0m__le__\u001b[0m\u001b[1;33m(\u001b[0m\u001b[0mself\u001b[0m\u001b[1;33m,\u001b[0m \u001b[0moutra_pessoa\u001b[0m\u001b[1;33m)\u001b[0m\u001b[1;33m:\u001b[0m\u001b[1;33m\u001b[0m\u001b[1;33m\u001b[0m\u001b[0m\n",
      "\u001b[1;31mAttributeError\u001b[0m: 'int' object has no attribute 'altura'"
     ]
    }
   ],
   "source": [
    "pessoa_1 < 2"
   ]
  },
  {
   "cell_type": "code",
   "execution_count": 110,
   "metadata": {},
   "outputs": [
    {
     "name": "stdout",
     "output_type": "stream",
     "text": [
      "True\n",
      "True\n",
      "False\n",
      "False\n",
      "False\n",
      "True\n"
     ]
    }
   ],
   "source": [
    "print(pessoa_1 > pessoa_2) # True\n",
    "print(pessoa_1 >= pessoa_2) # True\n",
    "print(pessoa_1 < pessoa_2) # False\n",
    "print(pessoa_1 <= pessoa_2) # False\n",
    "print(pessoa_1 == pessoa_2) # False\n",
    "print(pessoa_1 != pessoa_2) # True"
   ]
  },
  {
   "cell_type": "code",
   "execution_count": 103,
   "metadata": {},
   "outputs": [
    {
     "data": {
      "text/plain": [
       "False"
      ]
     },
     "execution_count": 103,
     "metadata": {},
     "output_type": "execute_result"
    }
   ],
   "source": []
  },
  {
   "cell_type": "markdown",
   "metadata": {},
   "source": [
    "Classe Bomba de Combustível: Faça um programa completo utilizando classes e métodos que:\n",
    "\n",
    "Possua uma classe chamada bombaCombustível, com no mínimo esses atributos:\n",
    "\n",
    "- tipoCombustivel.\n",
    "\n",
    "- valorLitro\n",
    "\n",
    "- quantidadeCombustivel\n",
    "\n",
    "\n",
    "Possua no mínimo esses métodos:\n",
    "- abastecerPorValor( ) – método onde é informado o valor a ser abastecido e mostra a quantidade de litros que foi colocada no veículo\n",
    "\n",
    "- abastecerPorLitro( ) – método onde é informado a quantidade em litros de combustível e mostra o valor a ser pago pelo cliente.\n",
    "\n",
    "- alterarValor( ) – altera o valor do litro do combustível.\n",
    "\n",
    "- alterarCombustivel( ) – altera o tipo do combustível.\n",
    "\n",
    "- alterarQuantidadeCombustivel( ) – altera a quantidade de combustível restante na bomba.\n",
    "\n",
    "OBS: Sempre que acontecer um abastecimento é necessário atualizar a quantidade de combustível total na bomba.\n",
    "\n",
    "\n",
    "Imagine que voce é o dono do posto e quer juntar o conteúdo de combustível que está em um reservatório e com o conteúdo do reservatório que outra bomba acessa.\n",
    "- Qual a condição para essa junção poder acontecer?\n",
    "- Qual será o novo valor por litro?\n",
    "- Qual será a quantidade final de combustível?"
   ]
  },
  {
   "cell_type": "code",
   "execution_count": 131,
   "metadata": {},
   "outputs": [],
   "source": [
    "class BombaCombustivel:\n",
    "\n",
    "    def __init__(self, tipo_combustivel, valor_litro, qtd_combustivel):\n",
    "        self.tipo_combustivel = tipo_combustivel\n",
    "        self.valor_litro = valor_litro\n",
    "        self.qtd_combustivel = qtd_combustivel\n",
    "\n",
    "    def altera_quantidade(self, qtd):\n",
    "        self.qtd_combustivel += qtd\n",
    "        \n",
    "    def abastecer_valor(self, valor):\n",
    "        if (valor / self.valor_litro) <= self.qtd_combustivel:\n",
    "            self.altera_quantidade(-(valor / self.valor_litro))\n",
    "            return valor / self.valor_litro\n",
    "        else:\n",
    "            return 'Quantidade indisponível'\n",
    "\n",
    "    def abastecer_litro(self, qtd):\n",
    "        if qtd <= self.qtd_combustivel:\n",
    "            self.altera_quantidade(-qtd)\n",
    "            return qtd * self.valor_litro\n",
    "        else:\n",
    "            return 'Quantidade indisponível'\n",
    "\n",
    "    def altera_valor(self, novo_valor):\n",
    "        self.valor_litro = novo_valor\n",
    "\n",
    "    def altera_tipo(self, novo_combustivel):\n",
    "        self.tipo_combustivel = novo_combustivel\n",
    "\n",
    "    def __add__(self, outra_bomba):\n",
    "        if self.tipo_combustivel == outra_bomba.tipo_combustivel:\n",
    "            novo_total = self.qtd_combustivel + outra_bomba.qtd_combustivel\n",
    "            novo_preco = round((self.valor_litro * self.qtd_combustivel + outra_bomba.valor_litro * outra_bomba.qtd_combustivel) / (self.qtd_combustivel + outra_bomba.qtd_combustivel), 2)\n",
    "            return BombaCombustivel(self.tipo_combustivel, novo_preco, novo_total)\n",
    "        else:\n",
    "            return 'Erro: tipos inválidos'\n",
    "    "
   ]
  },
  {
   "cell_type": "code",
   "execution_count": 122,
   "metadata": {},
   "outputs": [
    {
     "data": {
      "text/plain": [
       "{'tipo_combustivel': 'G', 'valor_litro': 6.5, 'qtd_combustivel': 10000}"
      ]
     },
     "execution_count": 122,
     "metadata": {},
     "output_type": "execute_result"
    }
   ],
   "source": [
    "bomba_1 = BombaCombustivel('G', 6.50, 10000)\n",
    "bomba_1.__dict__"
   ]
  },
  {
   "cell_type": "code",
   "execution_count": 123,
   "metadata": {},
   "outputs": [
    {
     "name": "stdout",
     "output_type": "stream",
     "text": [
      "10.0\n"
     ]
    },
    {
     "data": {
      "text/plain": [
       "{'tipo_combustivel': 'G', 'valor_litro': 6.5, 'qtd_combustivel': 9990.0}"
      ]
     },
     "execution_count": 123,
     "metadata": {},
     "output_type": "execute_result"
    }
   ],
   "source": [
    "total_litros = bomba_1.abastecer_valor(65)\n",
    "print(total_litros)\n",
    "bomba_1.__dict__"
   ]
  },
  {
   "cell_type": "code",
   "execution_count": 124,
   "metadata": {},
   "outputs": [
    {
     "name": "stdout",
     "output_type": "stream",
     "text": [
      "130.0\n"
     ]
    },
    {
     "data": {
      "text/plain": [
       "{'tipo_combustivel': 'G', 'valor_litro': 6.5, 'qtd_combustivel': 9970.0}"
      ]
     },
     "execution_count": 124,
     "metadata": {},
     "output_type": "execute_result"
    }
   ],
   "source": [
    "total_valor = bomba_1.abastecer_litro(20)\n",
    "print(total_valor)\n",
    "bomba_1.__dict__"
   ]
  },
  {
   "cell_type": "code",
   "execution_count": 125,
   "metadata": {},
   "outputs": [
    {
     "data": {
      "text/plain": [
       "{'tipo_combustivel': 'G', 'valor_litro': 6.6, 'qtd_combustivel': 9970.0}"
      ]
     },
     "execution_count": 125,
     "metadata": {},
     "output_type": "execute_result"
    }
   ],
   "source": [
    "bomba_1.altera_valor(6.6)\n",
    "bomba_1.__dict__"
   ]
  },
  {
   "cell_type": "code",
   "execution_count": 126,
   "metadata": {},
   "outputs": [
    {
     "data": {
      "text/plain": [
       "{'tipo_combustivel': 'A', 'valor_litro': 6.6, 'qtd_combustivel': 9970.0}"
      ]
     },
     "execution_count": 126,
     "metadata": {},
     "output_type": "execute_result"
    }
   ],
   "source": [
    "bomba_1.altera_tipo('A')\n",
    "bomba_1.__dict__"
   ]
  },
  {
   "cell_type": "code",
   "execution_count": 127,
   "metadata": {},
   "outputs": [
    {
     "data": {
      "text/plain": [
       "{'tipo_combustivel': 'A', 'valor_litro': 6.6, 'qtd_combustivel': 10000.0}"
      ]
     },
     "execution_count": 127,
     "metadata": {},
     "output_type": "execute_result"
    }
   ],
   "source": [
    "bomba_1.altera_quantidade(30)\n",
    "bomba_1.__dict__"
   ]
  },
  {
   "cell_type": "markdown",
   "metadata": {},
   "source": [
    "Testando a soma"
   ]
  },
  {
   "cell_type": "code",
   "execution_count": 132,
   "metadata": {},
   "outputs": [],
   "source": [
    "bomba_1 = BombaCombustivel('G', 6.50, 10000)\n",
    "bomba_2 = BombaCombustivel('G', 6.75, 5000)"
   ]
  },
  {
   "cell_type": "code",
   "execution_count": 133,
   "metadata": {},
   "outputs": [
    {
     "data": {
      "text/plain": [
       "{'tipo_combustivel': 'G', 'valor_litro': 6.58, 'qtd_combustivel': 15000}"
      ]
     },
     "execution_count": 133,
     "metadata": {},
     "output_type": "execute_result"
    }
   ],
   "source": [
    "bomba_3 = bomba_1 + bomba_2\n",
    "bomba_3.__dict__"
   ]
  },
  {
   "cell_type": "code",
   "execution_count": 135,
   "metadata": {},
   "outputs": [
    {
     "data": {
      "text/plain": [
       "'Erro: tipos inválidos'"
      ]
     },
     "execution_count": 135,
     "metadata": {},
     "output_type": "execute_result"
    }
   ],
   "source": [
    "bomba_1 = BombaCombustivel('G', 6.50, 10000)\n",
    "bomba_2 = BombaCombustivel('A', 6.75, 5000)\n",
    "bomba_3 = bomba_1 + bomba_2\n",
    "bomba_3"
   ]
  },
  {
   "cell_type": "code",
   "execution_count": null,
   "metadata": {},
   "outputs": [],
   "source": []
  }
 ],
 "metadata": {
  "interpreter": {
   "hash": "9e1544ece40983b9dcb10e0aa1f5d0cdb8d9e539b9b8df5e9e5017ad7f05ebe2"
  },
  "kernelspec": {
   "display_name": "Python 3.9.2 64-bit",
   "language": "python",
   "name": "python3"
  },
  "language_info": {
   "codemirror_mode": {
    "name": "ipython",
    "version": 3
   },
   "file_extension": ".py",
   "mimetype": "text/x-python",
   "name": "python",
   "nbconvert_exporter": "python",
   "pygments_lexer": "ipython3",
   "version": "3.9.2"
  },
  "orig_nbformat": 4
 },
 "nbformat": 4,
 "nbformat_minor": 2
}
