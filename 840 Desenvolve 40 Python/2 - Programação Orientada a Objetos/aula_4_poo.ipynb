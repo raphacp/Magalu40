{
 "cells": [
  {
   "cell_type": "markdown",
   "metadata": {},
   "source": [
    "# Programação orientada a objetos"
   ]
  },
  {
   "cell_type": "markdown",
   "metadata": {},
   "source": [
    "## Métodos mágicos\n",
    "\n",
    "Como o python entende que o sinal \"+\", quando aplicado à objetos da classe `str` deve **concatenar** as duas strings, ao invés de fazer alguma outra operação estranha de soma?\n",
    "\n",
    "Isso é feito a partir dos **métodos mágicos**\n",
    "\n",
    "Para ilustrar os usos desses métodos, vamos criar uma classe de horário:"
   ]
  },
  {
   "cell_type": "markdown",
   "metadata": {},
   "source": [
    "### Métodos aritméticos\n",
    "\n",
    "Como o \"+\" é entendido como concatenação entre objetos da classe `str`?\n",
    "\n",
    "Isso se faz através dos __métodos mágicos aritméticos__, que substituem os símbolos aritméticos pelas operações que forem definidas dentro da classe!\n",
    "\n",
    "Temos os seguintes métodos mágicos aritméticos:\n",
    "\n",
    "- \\__add\\__:  soma: +\n",
    "- \\__sub\\__:  subtração: -\n",
    "- \\__mul\\__:  multiplicação: *\n",
    "- \\__truediv\\__:  divisão: /\n",
    "- \\__floordiv\\__:  divisão inteira: //\n",
    "- \\__mod\\__:  resto de divisão: %\n",
    "- \\__pow\\__:  potência: **"
   ]
  },
  {
   "cell_type": "code",
   "execution_count": 6,
   "metadata": {},
   "outputs": [],
   "source": [
    "class Cachorro:\n",
    "    def __init__(self, nome, raca):\n",
    "        self.nome = nome\n",
    "        self.raca = raca\n",
    "\n",
    "    def recebe_peso(self, valor):\n",
    "        self.peso = valor\n",
    "\n",
    "    def calcula_porte(self):\n",
    "        if self.peso <= 5:\n",
    "            self.porte = \"P\"\n",
    "        elif self.peso <= 15:\n",
    "            self_porte = \"M\"\n",
    "        else:\n",
    "            self_porte = \"G\"\n",
    "\n",
    "    @staticmethod\n",
    "\n",
    "    def calcula_metade_peso(peso):\n",
    "        return peso / 2"
   ]
  },
  {
   "cell_type": "code",
   "execution_count": 7,
   "metadata": {},
   "outputs": [
    {
     "data": {
      "text/plain": [
       "5.0"
      ]
     },
     "execution_count": 7,
     "metadata": {},
     "output_type": "execute_result"
    }
   ],
   "source": [
    "cachorro1 = Cachorro(\"Minnie\", \"SRD\")\n",
    "cachorro1.recebe_peso(10)\n",
    "cachorro1.calcula_porte()\n",
    "cachorro1.__dict__\n",
    "cachorro1.calcula_metade_peso(10)"
   ]
  },
  {
   "cell_type": "code",
   "execution_count": 5,
   "metadata": {},
   "outputs": [
    {
     "data": {
      "text/plain": [
       "{'nome': 'Bella', 'raca': 'Fox', 'peso': 5, 'porte': 'P'}"
      ]
     },
     "execution_count": 5,
     "metadata": {},
     "output_type": "execute_result"
    }
   ],
   "source": [
    "cachorro1 = Cachorro(\"Bella\", \"Fox\")\n",
    "cachorro1.recebe_peso(5)\n",
    "cachorro1.calcula_porte()\n",
    "cachorro1.__dict__"
   ]
  },
  {
   "cell_type": "code",
   "execution_count": 17,
   "metadata": {},
   "outputs": [],
   "source": [
    "class Ponto:\n",
    "\n",
    "    def __init__(self, x, y):\n",
    "        self.x = x\n",
    "        self.y = y\n",
    "\n",
    "# definindo um método mágico de soma para esta classe (Ponto)\n",
    "    def __add__(self, outro_ponto):\n",
    "        # x_ponto = self.x\n",
    "        # y_ponto = self.y\n",
    "        # x_outro_ponto = outro_ponto.x\n",
    "        # y_outro_ponto = outro_ponto.y\n",
    "\n",
    "        # return [x_ponto + x_outro_ponto, y_ponto + y_outro_ponto]\n",
    "\n",
    "        if isinstance(outro_ponto, Ponto) == True:\n",
    "            return Ponto(self.x + outro_ponto.x, self.y + outro_ponto.y)\n"
   ]
  },
  {
   "cell_type": "code",
   "execution_count": 18,
   "metadata": {},
   "outputs": [],
   "source": [
    "ponto_1 = Ponto(2, 3)\n",
    "ponto_2 = Ponto(8, 5)"
   ]
  },
  {
   "cell_type": "code",
   "execution_count": 19,
   "metadata": {},
   "outputs": [
    {
     "data": {
      "text/plain": [
       "7"
      ]
     },
     "execution_count": 19,
     "metadata": {},
     "output_type": "execute_result"
    }
   ],
   "source": [
    "ponto_1.x + ponto_2.y"
   ]
  },
  {
   "cell_type": "code",
   "execution_count": 25,
   "metadata": {},
   "outputs": [
    {
     "name": "stdout",
     "output_type": "stream",
     "text": [
      "<class '__main__.Ponto'>\n"
     ]
    },
    {
     "data": {
      "text/plain": [
       "{'x': 10, 'y': 8}"
      ]
     },
     "execution_count": 25,
     "metadata": {},
     "output_type": "execute_result"
    }
   ],
   "source": [
    "ponto_3 = ponto_1 + ponto_2\n",
    "print(type(ponto_3))\n",
    "ponto_3.__dict__"
   ]
  },
  {
   "cell_type": "markdown",
   "metadata": {},
   "source": [
    "### Métodos lógicos\n",
    "\n",
    "Da mesma forma que há metódos mágicos para operações aritméticas, há também para **operações lógicas!**\n",
    "\n",
    "Naturalmente, estes métodos retornaram True ou False.\n",
    "\n",
    "Os métodos lógicos são:\n",
    "\n",
    "- \\__gt\\__: maior que (greater than): >\n",
    "- \\__ge\\__: maior ou igual (greater or equal): >=\n",
    "- \\__lt\\__: menor que (less than): <\n",
    "- \\__le\\__: menor ou igual (less or equal): <=\n",
    "- \\__eq\\__: igual (equal): ==\n",
    "- \\__ne\\__: diferente (not equal): !=\n"
   ]
  },
  {
   "cell_type": "code",
   "execution_count": 32,
   "metadata": {},
   "outputs": [],
   "source": [
    "class Pessoa:\n",
    "\n",
    "    def __init__(self, nome, altura):\n",
    "        self.nome = nome\n",
    "        self.altura = altura\n",
    "\n",
    "    def __gt__(self, outra_pessoa):\n",
    "        return self.altura > outra_pessoa.altura\n",
    "    \n",
    "    def __ge__(self, outra_pessoa):\n",
    "        return self.altura >= outra_pessoa.altura\n",
    "    \n",
    "    def __lt__(self, outra_pessoa):\n",
    "        return self.altura < outra_pessoa.altura\n",
    "    \n",
    "    def __le__(self, outra_pessoa):\n",
    "        return self.altura <= outra_pessoa.altura\n",
    "    \n",
    "    def __eq__(self, outra_pessoa):\n",
    "        return self.altura == outra_pessoa.altura\n",
    "    \n",
    "    def __ne__(self, outra_pessoa):\n",
    "        return self.altura != outra_pessoa.altura\n",
    "    \n"
   ]
  },
  {
   "cell_type": "code",
   "execution_count": 33,
   "metadata": {},
   "outputs": [],
   "source": [
    "pessoa1 = Pessoa(\"Raphael\", 1.95)\n",
    "pessoa2 = Pessoa(\"Anderson\", 1.85)"
   ]
  },
  {
   "cell_type": "code",
   "execution_count": 37,
   "metadata": {},
   "outputs": [
    {
     "name": "stdout",
     "output_type": "stream",
     "text": [
      "True\n",
      "True\n",
      "False\n",
      "False\n",
      "False\n",
      "True\n"
     ]
    }
   ],
   "source": [
    "print(pessoa1 > pessoa2)\n",
    "print(pessoa1 >= pessoa2)\n",
    "print(pessoa1 < pessoa2)\n",
    "print(pessoa1 <= pessoa2)\n",
    "print(pessoa1 == pessoa2)\n",
    "print(pessoa1 != pessoa2)"
   ]
  },
  {
   "cell_type": "code",
   "execution_count": 62,
   "metadata": {},
   "outputs": [],
   "source": [
    "class bombaCombustivel:\n",
    "    \n",
    "    def __init__(self, tipoCombustivel, valorLitro, quantidadeCombustivel):\n",
    "        self.tipoCombustivel = tipoCombustivel\n",
    "        self.valorLitro = valorLitro\n",
    "        self.quantidadeCombustivel = quantidadeCombustivel\n",
    "\n",
    "    def alterarQuantidadeCombustivel(self, qtd_combustivel):\n",
    "        self.quantidadeCombustivel += qtd_combustivel\n",
    "\n",
    "\n",
    "    def abastecerPorValor(self, valor):\n",
    "        litros = valor / self.valorLitro\n",
    "        if self.quantidadeCombustivel >= litros:\n",
    "            # self.quantidadeCombustivel -= litros\n",
    "            self.alterarQuantidadeCombustivel(-litros)\n",
    "            return litros\n",
    "        else:\n",
    "            print(\"Quantidade insuficiente de combustível.\")\n",
    "\n",
    "    def abastecerPorLitro(self, qtd_Litros):\n",
    "        if self.quantidadeCombustivel >= qtd_Litros:\n",
    "            valor = qtd_Litros * self.valorLitro\n",
    "            # self.quantidadeCombustivel -= qtd_Litros\n",
    "            self.alterarQuantidadeCombustivel(-qtd_Litros)\n",
    "            return valor\n",
    "        else:\n",
    "            print(\"Quantidade insuficiente de combustível.\")\n",
    "\n",
    "    def alterarValor(self, novo_valor):\n",
    "        self.valorLitro = novo_valor\n",
    "\n",
    "    def alterarCombustivel(self, novo_combustivel):\n",
    "        self.tipoCombustivel = novo_combustivel\n",
    "\n",
    "    def __add__(self, outra_bomba):\n",
    "        if self.tipoCombustivel == outra_bomba.tipoCombustivel:\n",
    "            novo_total = self.quantidadeCombustivel + outra_bomba.quantidadeCombustivel\n",
    "            #round((self.valor_litro * self.qtd_combustivel + outra_bomba.valor_litro * outra_bomba.qtd_combustivel) / (self.qtd_combustivel + outra_bomba.qtd_combustivel), 2)\n",
    "            novo_preco = round((self.valorLitro * self.quantidadeCombustivel + outra_bomba.valor_litro * outra_bomba.quantidadeCombustivel) / (self.quantidadeCombustivel + outra_bomba.quantidadeCombustivel), 2)\n",
    "            return bombaCombustivel(self.tipoCombustivel, novo_preco, novo_total)\n",
    "        else:\n",
    "            return 'Erro: tipos inválidos'\n",
    "     \n",
    "    "
   ]
  },
  {
   "cell_type": "code",
   "execution_count": 56,
   "metadata": {},
   "outputs": [
    {
     "data": {
      "text/plain": [
       "{'tipoCombustivel': 'G', 'valorLitro': 5.0, 'quantidadeCombustivel': 1000}"
      ]
     },
     "execution_count": 56,
     "metadata": {},
     "output_type": "execute_result"
    }
   ],
   "source": [
    "bomba1 = bombaCombustivel('G', 5.00, 1000)\n",
    "bomba1.__dict__"
   ]
  },
  {
   "cell_type": "code",
   "execution_count": 57,
   "metadata": {},
   "outputs": [
    {
     "name": "stdout",
     "output_type": "stream",
     "text": [
      "210.0\n"
     ]
    }
   ],
   "source": [
    "print(bomba1.abastecerPorValor(1050))"
   ]
  },
  {
   "cell_type": "code",
   "execution_count": 60,
   "metadata": {},
   "outputs": [
    {
     "name": "stdout",
     "output_type": "stream",
     "text": [
      "Quantidade insuficiente de combustível.\n",
      "None\n"
     ]
    }
   ],
   "source": [
    "print(bomba1.abastecerPorLitro(2000))"
   ]
  },
  {
   "cell_type": "code",
   "execution_count": 58,
   "metadata": {},
   "outputs": [
    {
     "data": {
      "text/plain": [
       "{'tipoCombustivel': 'G', 'valorLitro': 5.0, 'quantidadeCombustivel': 790.0}"
      ]
     },
     "execution_count": 58,
     "metadata": {},
     "output_type": "execute_result"
    }
   ],
   "source": [
    "bomba1.__dict__"
   ]
  },
  {
   "cell_type": "code",
   "execution_count": null,
   "metadata": {},
   "outputs": [],
   "source": []
  }
 ],
 "metadata": {
  "interpreter": {
   "hash": "9e1544ece40983b9dcb10e0aa1f5d0cdb8d9e539b9b8df5e9e5017ad7f05ebe2"
  },
  "kernelspec": {
   "display_name": "Python 3.9.2 64-bit",
   "language": "python",
   "name": "python3"
  },
  "language_info": {
   "codemirror_mode": {
    "name": "ipython",
    "version": 3
   },
   "file_extension": ".py",
   "mimetype": "text/x-python",
   "name": "python",
   "nbconvert_exporter": "python",
   "pygments_lexer": "ipython3",
   "version": "3.9.6"
  },
  "orig_nbformat": 4
 },
 "nbformat": 4,
 "nbformat_minor": 2
}
