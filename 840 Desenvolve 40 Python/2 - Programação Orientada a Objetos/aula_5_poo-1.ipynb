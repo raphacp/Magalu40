{
 "cells": [
  {
   "cell_type": "markdown",
   "metadata": {},
   "source": [
    "# Programação orientada a objetos: Herança e Polimorfismo"
   ]
  },
  {
   "cell_type": "markdown",
   "metadata": {},
   "source": [
    "____\n",
    "____\n",
    "____"
   ]
  },
  {
   "cell_type": "markdown",
   "metadata": {},
   "source": [
    "Imagine que você tenha várias classes com os mesmos atributos, os mesmos métodos e mesmos parâmetros. \n",
    "\n",
    "Reescrevê-los várias vezes é um desperdício de tempo! Além disso, se pecisarmos atualizar um método, precisaremos fazer a modificação múltiplas vezes. \n",
    "\n",
    "Para solucionar esta questão, trateremos dos conceitos de **herança** e **polimorfismo**."
   ]
  },
  {
   "cell_type": "markdown",
   "metadata": {},
   "source": [
    "### Herança\n",
    "\n",
    "É possível criar **classes filhas** que herdem atributos e métodos de uma **classe mãe** através de **herança**.\n",
    "\n",
    "Para herdar, colocamos o **nome da classe mãe entre parênteses** na frente do nome da classe filha em sua definição.\n",
    "\n",
    "Se necessário, podemos redefinir um método na classe filha."
   ]
  },
  {
   "cell_type": "code",
   "execution_count": 48,
   "metadata": {},
   "outputs": [],
   "source": [
    "# Criação de uma classe Animal que será minha classe mãe\n",
    "class Animal:\n",
    "    def __init__(self, nome):\n",
    "        self.nome = nome\n",
    "\n",
    "    def falar(self):\n",
    "        print(f'{self.nome} está falando')\n",
    "\n",
    "# Criação de uma classe Gato que herda tudo que foi criado na classe mãe\n",
    "# Nenhum método ou atributo será criado na classe nova, apenas utilizará\n",
    "#  o que foi feito na classe mãe\n",
    "class Gato(Animal):\n",
    "    pass # O comando pass serve para indicar que nada será executado."
   ]
  },
  {
   "cell_type": "code",
   "execution_count": 49,
   "metadata": {},
   "outputs": [
    {
     "data": {
      "text/plain": [
       "{'nome': 'Jujuba'}"
      ]
     },
     "execution_count": 49,
     "metadata": {},
     "output_type": "execute_result"
    }
   ],
   "source": [
    "meu_animal = Animal('Jujuba')\n",
    "meu_animal.__dict__\n",
    "vars(meu_animal)"
   ]
  },
  {
   "cell_type": "code",
   "execution_count": 50,
   "metadata": {},
   "outputs": [
    {
     "name": "stdout",
     "output_type": "stream",
     "text": [
      "Jujuba está falando\n"
     ]
    }
   ],
   "source": [
    "meu_animal.falar()"
   ]
  },
  {
   "cell_type": "code",
   "execution_count": 51,
   "metadata": {},
   "outputs": [],
   "source": [
    "meu_gato = Gato('Floquinho')"
   ]
  },
  {
   "cell_type": "code",
   "execution_count": 52,
   "metadata": {},
   "outputs": [
    {
     "name": "stdout",
     "output_type": "stream",
     "text": [
      "Floquinho está falando\n"
     ]
    }
   ],
   "source": [
    "# Como os objetos da classe gato herdam o que foi feito na classe mãe,\n",
    "# podemos usar os métodos da classe mãe nos objetos da classe gato\n",
    "meu_gato.falar()"
   ]
  },
  {
   "cell_type": "code",
   "execution_count": 53,
   "metadata": {},
   "outputs": [
    {
     "data": {
      "text/plain": [
       "__main__.Gato"
      ]
     },
     "execution_count": 53,
     "metadata": {},
     "output_type": "execute_result"
    }
   ],
   "source": [
    "type(meu_gato)"
   ]
  },
  {
   "cell_type": "code",
   "execution_count": 54,
   "metadata": {},
   "outputs": [
    {
     "name": "stdout",
     "output_type": "stream",
     "text": [
      "True\n",
      "False\n",
      "True\n",
      "True\n"
     ]
    }
   ],
   "source": [
    "# Verificando que todo objeto da classe animal pertence à classe animal, mas não a classe gato\n",
    "# Mas todo objeto da classe Gato também pertence à classe Animal\n",
    "print(isinstance(meu_animal, Animal))\n",
    "print(isinstance(meu_animal, Gato))\n",
    "print(isinstance(meu_gato, Animal))\n",
    "print(isinstance(meu_gato, Gato))"
   ]
  },
  {
   "cell_type": "code",
   "execution_count": 55,
   "metadata": {},
   "outputs": [],
   "source": [
    "class Animal:\n",
    "    def __init__(self, nome):\n",
    "        self.nome = nome\n",
    "\n",
    "    def falar(self):\n",
    "        print(f'{self.nome} está falando')\n",
    "\n",
    "# Como não quero criar nenhum atributo novo na classe gato, posso simplesmente aproveitar\n",
    "# o método construtor criado na classe mãe. Vou apenas criar um novo método que pode ser\n",
    "# utilizado pelos objetos da classe Gato\n",
    "class Gato(Animal):\n",
    "    def miar(self):\n",
    "        print(f'{self.nome} está miando')"
   ]
  },
  {
   "cell_type": "code",
   "execution_count": 58,
   "metadata": {},
   "outputs": [
    {
     "name": "stdout",
     "output_type": "stream",
     "text": [
      "Jujuba está falando\n"
     ]
    }
   ],
   "source": [
    "meu_animal = Animal('Jujuba')\n",
    "meu_animal.falar()"
   ]
  },
  {
   "cell_type": "code",
   "execution_count": 59,
   "metadata": {},
   "outputs": [
    {
     "ename": "AttributeError",
     "evalue": "'Animal' object has no attribute 'miar'",
     "output_type": "error",
     "traceback": [
      "\u001b[1;31m---------------------------------------------------------------------------\u001b[0m",
      "\u001b[1;31mAttributeError\u001b[0m                            Traceback (most recent call last)",
      "\u001b[1;32m<ipython-input-59-45f5af03f26b>\u001b[0m in \u001b[0;36m<module>\u001b[1;34m\u001b[0m\n\u001b[0;32m      1\u001b[0m \u001b[1;31m# Como meu animal pertece à classe mãe, não podemos executar os métodos da classe filha\u001b[0m\u001b[1;33m\u001b[0m\u001b[1;33m\u001b[0m\u001b[1;33m\u001b[0m\u001b[0m\n\u001b[1;32m----> 2\u001b[1;33m \u001b[0mmeu_animal\u001b[0m\u001b[1;33m.\u001b[0m\u001b[0mmiar\u001b[0m\u001b[1;33m(\u001b[0m\u001b[1;33m)\u001b[0m\u001b[1;33m\u001b[0m\u001b[1;33m\u001b[0m\u001b[0m\n\u001b[0m",
      "\u001b[1;31mAttributeError\u001b[0m: 'Animal' object has no attribute 'miar'"
     ]
    }
   ],
   "source": [
    "# Como meu animal pertece à classe mãe, não podemos executar os métodos da classe filha\n",
    "meu_animal.miar() "
   ]
  },
  {
   "cell_type": "code",
   "execution_count": 60,
   "metadata": {},
   "outputs": [
    {
     "name": "stdout",
     "output_type": "stream",
     "text": [
      "Floquinho está falando\n"
     ]
    }
   ],
   "source": [
    "meu_gato = Gato('Floquinho')\n",
    "meu_gato.falar()"
   ]
  },
  {
   "cell_type": "code",
   "execution_count": 61,
   "metadata": {},
   "outputs": [
    {
     "name": "stdout",
     "output_type": "stream",
     "text": [
      "Floquinho está miando\n"
     ]
    }
   ],
   "source": [
    "meu_gato.miar()"
   ]
  },
  {
   "cell_type": "code",
   "execution_count": null,
   "metadata": {},
   "outputs": [],
   "source": []
  },
  {
   "cell_type": "markdown",
   "metadata": {},
   "source": [
    "Imagine agora que queremos herdar um método, com a possibilidade de alterá-lo.\n",
    "\n",
    "Para isso, usamos o método `super()`"
   ]
  },
  {
   "cell_type": "code",
   "execution_count": 62,
   "metadata": {},
   "outputs": [],
   "source": [
    "class Animal:\n",
    "    def __init__(self, nome):\n",
    "        self.nome = nome\n",
    "\n",
    "    def falar(self):\n",
    "        print(f'{self.nome} está falando')\n",
    "\n",
    "class Cachorro(Animal):\n",
    "    def __init__(self, nome, raca):\n",
    "        # Como a criação do atributo nome é igual ao que foi feito na classe mãe,\n",
    "        # Podemos simplesmente executar o método construtor da classe mãe passando\n",
    "        # o parâmetro nome\n",
    "        super().__init__(nome) # self.nome = nome\n",
    "        self.raca = raca\n",
    "\n",
    "    # Criando um método novo que pode ser usado por objetos da classe Cachorro\n",
    "    def latir(self):\n",
    "        print(f'{self.nome} está latindo')"
   ]
  },
  {
   "cell_type": "code",
   "execution_count": 63,
   "metadata": {},
   "outputs": [
    {
     "data": {
      "text/plain": [
       "{'nome': 'Lilica', 'raca': 'Vira-lata'}"
      ]
     },
     "execution_count": 63,
     "metadata": {},
     "output_type": "execute_result"
    }
   ],
   "source": [
    "meu_cachorro = Cachorro('Lilica', 'Vira-lata')\n",
    "vars(meu_cachorro)"
   ]
  },
  {
   "cell_type": "code",
   "execution_count": 64,
   "metadata": {},
   "outputs": [
    {
     "name": "stdout",
     "output_type": "stream",
     "text": [
      "Lilica está latindo\n"
     ]
    }
   ],
   "source": [
    "meu_cachorro.latir()"
   ]
  },
  {
   "cell_type": "code",
   "execution_count": 65,
   "metadata": {},
   "outputs": [],
   "source": [
    "# Outro exemplo para passar a ideia de que não precisamos reescrever o código para a criação\n",
    "# do atributo porte. Podemos usar o que foi feito na classe mãe e apenas executá-lo.\n",
    "class Animal:\n",
    "    def __init__(self, nome, peso):\n",
    "        self.nome = nome\n",
    "        if peso < 10:\n",
    "            self.porte = 'P'\n",
    "        elif peso < 20:\n",
    "            self.porte = 'M'\n",
    "        else:\n",
    "            self.porte = 'G'\n",
    "\n",
    "    def falar(self):\n",
    "        print(f'{self.nome} está falando')\n",
    "\n",
    "class Cachorro(Animal):\n",
    "    def __init__(self, nome, peso, raca):\n",
    "        # Executando o construtor da classe mãe para criar o atributo porte.\n",
    "        super().__init__(nome, peso)\n",
    "        self.raca = raca\n",
    "\n",
    "    def latir(self):\n",
    "        print(f'{self.nome} está latindo')"
   ]
  },
  {
   "cell_type": "code",
   "execution_count": 66,
   "metadata": {},
   "outputs": [
    {
     "data": {
      "text/plain": [
       "{'nome': 'Fufi', 'porte': 'M'}"
      ]
     },
     "execution_count": 66,
     "metadata": {},
     "output_type": "execute_result"
    }
   ],
   "source": [
    "animal = Animal('Fufi', 15)\n",
    "vars(animal)"
   ]
  },
  {
   "cell_type": "code",
   "execution_count": 67,
   "metadata": {},
   "outputs": [
    {
     "data": {
      "text/plain": [
       "{'nome': 'Floquinho', 'porte': 'P', 'raca': 'Poodle'}"
      ]
     },
     "execution_count": 67,
     "metadata": {},
     "output_type": "execute_result"
    }
   ],
   "source": [
    "meu_cachorro = Cachorro('Floquinho', 8, 'Poodle')\n",
    "vars(meu_cachorro)"
   ]
  },
  {
   "cell_type": "code",
   "execution_count": 68,
   "metadata": {},
   "outputs": [],
   "source": [
    "class Animal:\n",
    "    def __init__(self, nome, peso):\n",
    "        self.nome = nome\n",
    "        if peso < 10:\n",
    "            self.porte = 'P'\n",
    "        elif peso < 20:\n",
    "            self.porte = 'M'\n",
    "        else:\n",
    "            self.porte = 'G'\n",
    "\n",
    "    def falar(self):\n",
    "        print(f'{self.nome} está falando')\n",
    "\n",
    "class Cachorro(Animal):\n",
    "    def __init__(self, peso, raca):\n",
    "        # Caso queiramos aproveitar o construtor da classe mãe apenas para calcular o porte,\n",
    "        # podemos executá-lo passando um valor genérico para o parâmetro nome e depois removemos\n",
    "        # o atributo que foi criado\n",
    "        super().__init__('Nome', peso) # self.nome = nome\n",
    "        del self.nome\n",
    "        self.raca = raca\n",
    "\n",
    "    def latir(self):\n",
    "        print(f'{self.nome} está latindo')"
   ]
  },
  {
   "cell_type": "code",
   "execution_count": 69,
   "metadata": {},
   "outputs": [],
   "source": [
    "dog = Cachorro(10, 'Raça')"
   ]
  },
  {
   "cell_type": "code",
   "execution_count": 70,
   "metadata": {},
   "outputs": [
    {
     "data": {
      "text/plain": [
       "{'porte': 'M', 'raca': 'Raça'}"
      ]
     },
     "execution_count": 70,
     "metadata": {},
     "output_type": "execute_result"
    }
   ],
   "source": [
    "vars(dog)"
   ]
  },
  {
   "cell_type": "markdown",
   "metadata": {},
   "source": [
    "### Exercício\n",
    "Você trabalha em um banco que possui dois tipos de conta: poupança e corrente. As contas poupança só permitem sacar valor disponíveis em saldo. As contas correntes permitem que o cliente tenham um limite de crédito e que o cliente façam saques deste valor, além do saldo.\n",
    "\n",
    "* Crie uma classe Conta que recebe os atributos\n",
    "    - Agência\n",
    "    - Conta\n",
    "    - Saldo\n",
    "    \n",
    "* Métodos:\n",
    "    - Depositar\n",
    "    - Printar um objeto da classe\n",
    "    \n",
    "\n",
    "\n",
    "* Crie uma classe ContaPoupanca, filha de Conta, com o método para sacar\n",
    "* Crie uma classe ContaCorrente, também filha de Conta, com o método para sacar e incluir o limite no método construtor"
   ]
  },
  {
   "cell_type": "code",
   "execution_count": 77,
   "metadata": {},
   "outputs": [],
   "source": [
    "class Conta:\n",
    "    def __init__(self, agencia, conta, saldo = 0):\n",
    "        self.agencia = agencia\n",
    "        self.conta = conta\n",
    "        self.saldo = saldo\n",
    "\n",
    "    def depositar(self, valor):\n",
    "        self.saldo += valor\n",
    "        print(self)\n",
    "\n",
    "    def __repr__(self):\n",
    "        return f'''Dados da conta:\n",
    "Agência: {self.agencia}\n",
    "Conta: {self.conta}\n",
    "Saldo: {self.saldo}'''\n"
   ]
  },
  {
   "cell_type": "code",
   "execution_count": 116,
   "metadata": {},
   "outputs": [],
   "source": [
    "class ContaPoupanca(Conta):\n",
    "    def sacar_poup(self, valor):\n",
    "        if valor > self.saldo:\n",
    "            print('Saldo insuficiente\\n')\n",
    "        else:\n",
    "            self.saldo -= valor\n",
    "        print(self)"
   ]
  },
  {
   "cell_type": "code",
   "execution_count": 222,
   "metadata": {},
   "outputs": [],
   "source": [
    "class ContaCorrente(Conta):\n",
    "    def __init__(self, agencia, conta, saldo, limite):\n",
    "        super().__init__(agencia, conta, saldo)\n",
    "        self.limite = limite\n",
    "        self.limite_disp = limite\n",
    "        \n",
    "    def sacando_cc(self, valor):\n",
    "        if self.saldo > 0:\n",
    "            if valor > (self.saldo + self.limite_disp):\n",
    "                print('Saldo insuficiente\\n')\n",
    "            elif valor <= self.saldo:\n",
    "                self.saldo -= valor\n",
    "            elif valor > self.saldo:\n",
    "                self.limite_disp -= (valor - self.saldo)\n",
    "                self.saldo -= valor\n",
    "                               \n",
    "        else:\n",
    "            if valor > self.limite_disp:\n",
    "                print('Saldo insuficiente\\n')\n",
    "            else:\n",
    "                self.saldo -= valor\n",
    "                self.limite_disp -= valor\n",
    "        print(self)\n",
    "\n",
    "    def __repr__(self):\n",
    "        return f'''Dados da conta:\n",
    "Agência: {self.agencia}\n",
    "Conta: {self.conta}\n",
    "Saldo: {self.saldo}\n",
    "Limite: {self.limite}\n",
    "Limite disponível: {self.limite_disp}'''"
   ]
  },
  {
   "cell_type": "code",
   "execution_count": 223,
   "metadata": {},
   "outputs": [],
   "source": [
    "conta_1 = Conta(123, 456, 1000)"
   ]
  },
  {
   "cell_type": "code",
   "execution_count": 224,
   "metadata": {},
   "outputs": [
    {
     "name": "stdout",
     "output_type": "stream",
     "text": [
      "Dados da conta:\n",
      "Agência: 123\n",
      "Conta: 456\n",
      "Saldo: 1000\n"
     ]
    }
   ],
   "source": [
    "print(conta_1)"
   ]
  },
  {
   "cell_type": "code",
   "execution_count": 225,
   "metadata": {},
   "outputs": [
    {
     "name": "stdout",
     "output_type": "stream",
     "text": [
      "Dados da conta:\n",
      "Agência: 123\n",
      "Conta: 456\n",
      "Saldo: 5000\n"
     ]
    }
   ],
   "source": [
    "conta_1.depositar(4000)"
   ]
  },
  {
   "cell_type": "code",
   "execution_count": 204,
   "metadata": {},
   "outputs": [],
   "source": [
    "conta_poupanca = ContaPoupanca(789, 654, 5000)"
   ]
  },
  {
   "cell_type": "code",
   "execution_count": 205,
   "metadata": {},
   "outputs": [
    {
     "name": "stdout",
     "output_type": "stream",
     "text": [
      "Dados da conta:\n",
      "Agência: 789\n",
      "Conta: 654\n",
      "Saldo: 5000\n"
     ]
    }
   ],
   "source": [
    "print(conta_poupanca)"
   ]
  },
  {
   "cell_type": "code",
   "execution_count": 206,
   "metadata": {},
   "outputs": [
    {
     "name": "stdout",
     "output_type": "stream",
     "text": [
      "Dados da conta:\n",
      "Agência: 789\n",
      "Conta: 654\n",
      "Saldo: 5100\n"
     ]
    }
   ],
   "source": [
    "conta_poupanca.depositar(100)"
   ]
  },
  {
   "cell_type": "code",
   "execution_count": 207,
   "metadata": {},
   "outputs": [
    {
     "name": "stdout",
     "output_type": "stream",
     "text": [
      "Saldo insuficiente\n",
      "\n",
      "Dados da conta:\n",
      "Agência: 789\n",
      "Conta: 654\n",
      "Saldo: 5100\n"
     ]
    }
   ],
   "source": [
    "conta_poupanca.sacar_poup(10000)"
   ]
  },
  {
   "cell_type": "code",
   "execution_count": 208,
   "metadata": {},
   "outputs": [
    {
     "name": "stdout",
     "output_type": "stream",
     "text": [
      "Dados da conta:\n",
      "Agência: 789\n",
      "Conta: 654\n",
      "Saldo: 5000\n"
     ]
    }
   ],
   "source": [
    "conta_poupanca.sacar_poup(100)"
   ]
  },
  {
   "cell_type": "code",
   "execution_count": 233,
   "metadata": {},
   "outputs": [
    {
     "data": {
      "text/plain": [
       "{'agencia': 856,\n",
       " 'conta': 963,\n",
       " 'saldo': 500,\n",
       " 'limite': 5000,\n",
       " 'limite_disp': 5000}"
      ]
     },
     "execution_count": 233,
     "metadata": {},
     "output_type": "execute_result"
    }
   ],
   "source": [
    "conta_corrente = ContaCorrente(856, 963, 500, 5000)\n",
    "conta_corrente.__dict__"
   ]
  },
  {
   "cell_type": "code",
   "execution_count": 234,
   "metadata": {},
   "outputs": [
    {
     "name": "stdout",
     "output_type": "stream",
     "text": [
      "Dados da conta:\n",
      "Agência: 856\n",
      "Conta: 963\n",
      "Saldo: 500\n",
      "Limite: 5000\n",
      "Limite disponível: 5000\n"
     ]
    }
   ],
   "source": [
    "print(conta_corrente)"
   ]
  },
  {
   "cell_type": "code",
   "execution_count": 235,
   "metadata": {},
   "outputs": [
    {
     "name": "stdout",
     "output_type": "stream",
     "text": [
      "Dados da conta:\n",
      "Agência: 856\n",
      "Conta: 963\n",
      "Saldo: 3000\n",
      "Limite: 5000\n",
      "Limite disponível: 5000\n"
     ]
    }
   ],
   "source": [
    "conta_corrente.depositar(2500)"
   ]
  },
  {
   "cell_type": "code",
   "execution_count": 236,
   "metadata": {},
   "outputs": [
    {
     "name": "stdout",
     "output_type": "stream",
     "text": [
      "Dados da conta:\n",
      "Agência: 856\n",
      "Conta: 963\n",
      "Saldo: 2000\n",
      "Limite: 5000\n",
      "Limite disponível: 5000\n"
     ]
    }
   ],
   "source": [
    "conta_corrente.sacando_cc(1000)"
   ]
  },
  {
   "cell_type": "code",
   "execution_count": 238,
   "metadata": {},
   "outputs": [
    {
     "name": "stdout",
     "output_type": "stream",
     "text": [
      "Dados da conta:\n",
      "Agência: 856\n",
      "Conta: 963\n",
      "Saldo: -2000\n",
      "Limite: 5000\n",
      "Limite disponível: 3000\n"
     ]
    }
   ],
   "source": [
    "conta_corrente.sacando_cc(4000)"
   ]
  },
  {
   "cell_type": "code",
   "execution_count": 239,
   "metadata": {},
   "outputs": [
    {
     "name": "stdout",
     "output_type": "stream",
     "text": [
      "Dados da conta:\n",
      "Agência: 856\n",
      "Conta: 963\n",
      "Saldo: -4500\n",
      "Limite: 5000\n",
      "Limite disponível: 500\n"
     ]
    }
   ],
   "source": [
    "conta_corrente.sacando_cc(2500)"
   ]
  },
  {
   "cell_type": "code",
   "execution_count": 244,
   "metadata": {},
   "outputs": [],
   "source": [
    "class Automovel:\n",
    "    def acelerar(self):\n",
    "        print('Acerelando!')\n",
    "\n",
    "class Moto(Automovel):\n",
    "    def acelerar(self):\n",
    "        super().acelerar()\n",
    "        print('Bora empinar!')"
   ]
  },
  {
   "cell_type": "code",
   "execution_count": 245,
   "metadata": {},
   "outputs": [
    {
     "name": "stdout",
     "output_type": "stream",
     "text": [
      "Acerelando!\n"
     ]
    }
   ],
   "source": [
    "carro = Automovel()\n",
    "carro.acelerar()"
   ]
  },
  {
   "cell_type": "code",
   "execution_count": 243,
   "metadata": {},
   "outputs": [
    {
     "name": "stdout",
     "output_type": "stream",
     "text": [
      "Acerelando!\n",
      "Bora empinar!\n"
     ]
    }
   ],
   "source": [
    "moto = Moto()\n",
    "moto.acelerar()"
   ]
  },
  {
   "cell_type": "markdown",
   "metadata": {},
   "source": [
    "### Polimorfismo\n",
    "\n",
    "Do grego, **\"várias formas\"**. A ideia é que um objeto de uma certa classe pode se comportar como objeto de outras classes. \n",
    "\n",
    "Mais especificamente, **objetos de uma classe filha podem também ser tratados como se pertencessem à classe mãe**.\n"
   ]
  },
  {
   "cell_type": "code",
   "execution_count": 247,
   "metadata": {},
   "outputs": [],
   "source": [
    "class Funcionario:\n",
    "    def __init__(self, nome, cpf, salario):\n",
    "        self.nome = nome\n",
    "        self.cpf = cpf\n",
    "        self.salario = salario\n",
    "\n",
    "    def calcula_bonus(self):\n",
    "        return self.salario * 0.1"
   ]
  },
  {
   "cell_type": "code",
   "execution_count": 248,
   "metadata": {},
   "outputs": [],
   "source": [
    "class Gerente(Funcionario):\n",
    "    def __init__(self, nome, cpf, salario, mebros_equipe):\n",
    "        super().__init__(nome, cpf, salario)\n",
    "        self.mebros_equipe = mebros_equipe\n",
    "\n",
    "    def calcula_bonus(self):\n",
    "        return self.salario * 0.25"
   ]
  },
  {
   "cell_type": "code",
   "execution_count": 254,
   "metadata": {},
   "outputs": [],
   "source": [
    "class ControleBonus:\n",
    "    def __init__(self, total_bonificacoes = 0):\n",
    "        self.total_bonificacoes = total_bonificacoes\n",
    "\n",
    "    def registra(self, funcionario):\n",
    "        self.total_bonificacoes += funcionario.calcula_bonus()"
   ]
  },
  {
   "cell_type": "code",
   "execution_count": 255,
   "metadata": {},
   "outputs": [],
   "source": [
    "atendente = Funcionario('Marcos', 123, 1000)\n",
    "chefe = Gerente('Maria', 456, 1000, 5)\n",
    "controle_bonus = ControleBonus()"
   ]
  },
  {
   "cell_type": "code",
   "execution_count": 256,
   "metadata": {},
   "outputs": [],
   "source": [
    "controle_bonus.registra(atendente)"
   ]
  },
  {
   "cell_type": "code",
   "execution_count": 257,
   "metadata": {},
   "outputs": [
    {
     "data": {
      "text/plain": [
       "100.0"
      ]
     },
     "execution_count": 257,
     "metadata": {},
     "output_type": "execute_result"
    }
   ],
   "source": [
    "controle_bonus.total_bonificacoes"
   ]
  },
  {
   "cell_type": "code",
   "execution_count": 258,
   "metadata": {},
   "outputs": [
    {
     "data": {
      "text/plain": [
       "350.0"
      ]
     },
     "execution_count": 258,
     "metadata": {},
     "output_type": "execute_result"
    }
   ],
   "source": [
    "controle_bonus.registra(chefe)\n",
    "controle_bonus.total_bonificacoes"
   ]
  },
  {
   "cell_type": "markdown",
   "metadata": {},
   "source": [
    "#### Herdando dados de mais de uma classe"
   ]
  },
  {
   "cell_type": "code",
   "execution_count": 261,
   "metadata": {},
   "outputs": [],
   "source": [
    "class Funcionario:\n",
    "    def __init__(self, nome, id):\n",
    "        self.nome = nome\n",
    "        self.id = id\n",
    "\n",
    "class Trabalhador:\n",
    "    def __init__(self, salario, cargo):\n",
    "        self.salario = salario\n",
    "        self.cargo = cargo\n",
    "\n",
    "class Gerente(Funcionario, Trabalhador):\n",
    "    def __init__(self, nome, id, salario, cargo, membros_equipe):\n",
    "        self.membros_equipe = membros_equipe\n",
    "        Funcionario.__init__(self, nome, id)\n",
    "        Trabalhador.__init__(self, salario, cargo)\n",
    "\n",
    "    # Trabalhador.meu_metodo()\n",
    "    def __repr__(self):\n",
    "        return f'''Dados:\n",
    "Nome: {self.nome}\n",
    "ID: {self.id}\n",
    "Salário: {self.salario}\n",
    "Cargo: {self.cargo}\n",
    "Número de funcionários: {self.membros_equipe}'''"
   ]
  },
  {
   "cell_type": "code",
   "execution_count": 262,
   "metadata": {},
   "outputs": [
    {
     "name": "stdout",
     "output_type": "stream",
     "text": [
      "Dados:\n",
      "Nome: José\n",
      "ID: 123\n",
      "Salário: 10000\n",
      "Cargo: Gerente de Compras\n",
      "Número de funcionários: 10\n"
     ]
    }
   ],
   "source": [
    "gerente = Gerente('José', 123, 10000, 'Gerente de Compras', 10)\n",
    "print(gerente)"
   ]
  },
  {
   "cell_type": "markdown",
   "metadata": {},
   "source": [
    "### Exercício\n",
    "Você trabalha em um restaurante que serve pratos e bebidas aos seus clientes. Todos os itens do menu possuem um título/nome e um preço.\n",
    "* Crie uma classe ItemMenu que recebe os atributos\n",
    "    - titulo\n",
    "    - preco\n",
    "    \n",
    "* Métodos:\n",
    "    - Printar um objeto da classe\n",
    "\n",
    "* Crie uma classe Prato, filha de ItemMenu, que possui os atributos porcao (int) e ingredientes (list) e atualize o método de representação\n",
    "\n",
    "* Crie uma classe Bebida, filha de ItemMenu, que possui os atributos alcoólica (bool) e quant_ml (float) e atualize o método de representação"
   ]
  },
  {
   "cell_type": "code",
   "execution_count": 265,
   "metadata": {},
   "outputs": [],
   "source": [
    "class ItemMenu:\n",
    "    # Criando o construtor da classe mãe\n",
    "    def __init__(self, nome, preco):\n",
    "        self.nome = nome\n",
    "        self.preco = preco\n",
    "    # Criando representação para o print\n",
    "    def __repr__(self):\n",
    "        return '{} -------- R$ {:.2f}'.format(self.nome, self.preco)"
   ]
  },
  {
   "cell_type": "code",
   "execution_count": 270,
   "metadata": {},
   "outputs": [],
   "source": [
    "class Prato(ItemMenu):\n",
    "    def __init__(self, nome, preco, porcao, ingredientes):\n",
    "        super().__init__(nome, preco)\n",
    "        self.porcao = porcao\n",
    "        self.ingredientes = ingredientes\n",
    "\n",
    "    def __repr__(self):\n",
    "        return f'''{super().__repr__()}\n",
    "Serve {self.porcao} pessoa(s)\n",
    "Ingredientes: {', '.join(self.ingredientes)}'''"
   ]
  },
  {
   "cell_type": "code",
   "execution_count": 274,
   "metadata": {},
   "outputs": [],
   "source": [
    "class Bebida(ItemMenu):\n",
    "    def __init__(self, nome, preco, alcoolico, qtd_ml):\n",
    "        super().__init__(nome, preco)\n",
    "        if alcoolico == True:\n",
    "            self.alcoolico = 'Alcoólico'\n",
    "        else:\n",
    "            self.alcoolico = 'Não-Alcoólico'\n",
    "        self.qtd_ml = qtd_ml\n",
    "        # {'Alcoólico' if self.alcoolico == True else 'Não-Alcoólico'}\n",
    "\n",
    "    def __repr__(self):\n",
    "        return f'''{super().__repr__()}\n",
    "{self.alcoolico}\n",
    "Volume em ml: {self.qtd_ml}'''"
   ]
  },
  {
   "cell_type": "code",
   "execution_count": 271,
   "metadata": {},
   "outputs": [
    {
     "name": "stdout",
     "output_type": "stream",
     "text": [
      "Strogonoff -------- R$ 30.00\n"
     ]
    }
   ],
   "source": [
    "item_generico = ItemMenu('Strogonoff', 30)\n",
    "print(item_generico)"
   ]
  },
  {
   "cell_type": "code",
   "execution_count": 272,
   "metadata": {},
   "outputs": [
    {
     "name": "stdout",
     "output_type": "stream",
     "text": [
      "Strogonoff -------- R$ 30.00\n",
      "Serve 1 pessoa(s)\n",
      "Ingredientes: Arroz, Frango, Molho Tomate, Batata Palha\n"
     ]
    }
   ],
   "source": [
    "prato_1 = Prato('Strogonoff', 30, 1, ['Arroz', 'Frango', 'Molho Tomate', 'Batata Palha'])\n",
    "print(prato_1)"
   ]
  },
  {
   "cell_type": "code",
   "execution_count": 275,
   "metadata": {},
   "outputs": [
    {
     "name": "stdout",
     "output_type": "stream",
     "text": [
      "Martini -------- R$ 45.00\n",
      "Alcoólico\n",
      "Volume em ml: 200\n"
     ]
    }
   ],
   "source": [
    "bebida_1 = Bebida('Martini', 45, True, 200)\n",
    "print(bebida_1)"
   ]
  },
  {
   "cell_type": "code",
   "execution_count": 276,
   "metadata": {},
   "outputs": [
    {
     "data": {
      "text/plain": [
       "['Meu', 'cachorro', 'se', 'chama', 'Fufi']"
      ]
     },
     "execution_count": 276,
     "metadata": {},
     "output_type": "execute_result"
    }
   ],
   "source": [
    "texto = 'Meu cachorro se chama Fufi'\n",
    "lista = texto.split()\n",
    "lista"
   ]
  },
  {
   "cell_type": "code",
   "execution_count": 278,
   "metadata": {},
   "outputs": [
    {
     "data": {
      "text/plain": [
       "'Meu cachorro se chama Fufi'"
      ]
     },
     "execution_count": 278,
     "metadata": {},
     "output_type": "execute_result"
    }
   ],
   "source": [
    "lista = ['Meu', 'cachorro', 'se', 'chama', 'Fufi']\n",
    "texto = ' '.join(lista)\n",
    "texto"
   ]
  },
  {
   "cell_type": "code",
   "execution_count": 280,
   "metadata": {},
   "outputs": [
    {
     "data": {
      "text/plain": [
       "'Arroz, Feijão, Batata'"
      ]
     },
     "execution_count": 280,
     "metadata": {},
     "output_type": "execute_result"
    }
   ],
   "source": [
    "lista = ['Arroz', 'Feijão', 'Batata']\n",
    "texto = ', '.join(lista)\n",
    "texto"
   ]
  },
  {
   "cell_type": "code",
   "execution_count": null,
   "metadata": {},
   "outputs": [],
   "source": [
    "lista = [1, 2, 3, 4, 5]\n",
    "for i in lista:\n",
    "    if i == 2:\n",
    "        break\n",
    "    print(i)"
   ]
  }
 ],
 "metadata": {
  "interpreter": {
   "hash": "9e1544ece40983b9dcb10e0aa1f5d0cdb8d9e539b9b8df5e9e5017ad7f05ebe2"
  },
  "kernelspec": {
   "display_name": "Python 3.9.2 64-bit",
   "language": "python",
   "name": "python3"
  },
  "language_info": {
   "codemirror_mode": {
    "name": "ipython",
    "version": 3
   },
   "file_extension": ".py",
   "mimetype": "text/x-python",
   "name": "python",
   "nbconvert_exporter": "python",
   "pygments_lexer": "ipython3",
   "version": "3.9.2"
  },
  "orig_nbformat": 4
 },
 "nbformat": 4,
 "nbformat_minor": 2
}
