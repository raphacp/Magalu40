{
 "cells": [
  {
   "cell_type": "markdown",
   "metadata": {},
   "source": [
    "### Programação Orientada a objetos - Decoradores\n",
    "___"
   ]
  },
  {
   "cell_type": "code",
   "execution_count": null,
   "metadata": {},
   "outputs": [],
   "source": [
    "class Animal:\n",
    "  def __init__(self, nome):\n",
    "    self.nome = nome\n",
    "    self.idade = None\n",
    " # Criando um método para acessar a idade\n",
    "  def get_idade(self):\n",
    "    return self.idade\n",
    "\n",
    " # Criando um método para alterar a idade\n",
    "  def set_idade(self, novo_valor):\n",
    "    self.idade = novo_valor\n",
    "    return self.idade\n",
    "\n",
    " # Criando um método para apagar a idade\n",
    "  def del_idade(self):\n",
    "    del self.idade"
   ]
  },
  {
   "cell_type": "code",
   "execution_count": null,
   "metadata": {},
   "outputs": [],
   "source": [
    "meu_animal = Animal('Floquinho')"
   ]
  },
  {
   "cell_type": "code",
   "execution_count": null,
   "metadata": {},
   "outputs": [],
   "source": [
    "meu_animal.set_idade(20)"
   ]
  },
  {
   "cell_type": "code",
   "execution_count": null,
   "metadata": {},
   "outputs": [],
   "source": [
    "meu_animal.idade"
   ]
  },
  {
   "cell_type": "code",
   "execution_count": null,
   "metadata": {},
   "outputs": [],
   "source": [
    "meu_animal.__dict__"
   ]
  },
  {
   "cell_type": "code",
   "execution_count": null,
   "metadata": {},
   "outputs": [],
   "source": [
    "idade = meu_animal.get_idade()\n",
    "idade"
   ]
  },
  {
   "cell_type": "code",
   "execution_count": null,
   "metadata": {},
   "outputs": [],
   "source": [
    "meu_animal.del_idade()"
   ]
  },
  {
   "cell_type": "code",
   "execution_count": null,
   "metadata": {},
   "outputs": [],
   "source": [
    "meu_animal.__dict__"
   ]
  },
  {
   "cell_type": "code",
   "execution_count": 5,
   "metadata": {},
   "outputs": [
    {
     "name": "stdout",
     "output_type": "stream",
     "text": [
      "Acessando o setter\n"
     ]
    },
    {
     "data": {
      "text/plain": [
       "{'material': 'madeira', '_tamanho': 250}"
      ]
     },
     "execution_count": 5,
     "metadata": {},
     "output_type": "execute_result"
    }
   ],
   "source": [
    "class Objeto:\n",
    "    def __init__(self, material, tamanho):\n",
    "        self.material = material\n",
    "        self.tamanho = tamanho\n",
    "\n",
    "    @property\n",
    "    def tamanho(self):\n",
    "        print('Acessando o getter')\n",
    "        return self._tamanho\n",
    "\n",
    "    @tamanho.setter\n",
    "    def tamanho(self, valor):\n",
    "        print('Acessando o setter')\n",
    "        if valor < 0:\n",
    "            raise ValueError\n",
    "        else:\n",
    "            self._tamanho = valor\n",
    "\n",
    "objeto = Objeto('madeira', 250)\n",
    "objeto.__dict__"
   ]
  },
  {
   "cell_type": "code",
   "execution_count": null,
   "metadata": {},
   "outputs": [],
   "source": [
    "objeto.tamanho = -5"
   ]
  },
  {
   "cell_type": "code",
   "execution_count": null,
   "metadata": {},
   "outputs": [],
   "source": [
    "objeto.__dict__"
   ]
  },
  {
   "cell_type": "code",
   "execution_count": null,
   "metadata": {},
   "outputs": [],
   "source": [
    "class Pessoa:\n",
    "    def __init__(self, nome, sobrenome):\n",
    "        self.nome = nome.title()\n",
    "        self.sobrenome = sobrenome.title()\n",
    "        # self.email = nome.lower() + '.' + sobrenome.lower() + '@email.com'\n",
    "\n",
    "    @property #getter\n",
    "    def email(self):\n",
    "        return self.nome.lower() + '.' + self.sobrenome.lower() + '@email.com'\n",
    "\n",
    "    @email.setter\n",
    "    def email(self, novo_email): # Formato 'maria.silva@email.com'\n",
    "        var_aux = novo_email.split('@')[0] # Retorna a string 'nome.sobrenome'\n",
    "        self.nome = var_aux.split('.')[0].title() # Pega o nome e deixa a primeira letra maiúscula\n",
    "        self.sobrenome = var_aux.split('.')[1].title() # Pega o sobrenome e deixa a primeira letra maiúscula\n",
    "\n",
    "    @property #getter\n",
    "    def nome_completo(self):\n",
    "        return self.nome + ' ' + self.sobrenome\n",
    "\n",
    "    @nome_completo.setter\n",
    "    def nome_completo(self, novo_nome): # Formato 'Joaquim Silva'\n",
    "        self.nome = novo_nome.split(' ')[0].title() # Pega o nome e deixa a primeira letra maiúscula\n",
    "        self.sobrenome = novo_nome.split(' ')[1].title() # Pega o sobrenome e deixa a primeira letra maiúscula\n",
    "\n",
    "    @nome_completo.deleter\n",
    "    def nome_completo(self):\n",
    "        self.nome = None\n",
    "        self.sobrenome = None\n",
    "\n",
    "pessoa_1 = Pessoa('Pedro', 'Monteiro')\n",
    "print(pessoa_1.nome)\n",
    "print(pessoa_1.sobrenome)\n",
    "print(pessoa_1.email)\n",
    "print(pessoa_1.nome_completo)\n",
    "\n",
    "pessoa_1.nome = 'José'\n",
    "pessoa_1.sobrenome = 'Silva'\n",
    "print('\\n')\n",
    "print(pessoa_1.nome)\n",
    "print(pessoa_1.sobrenome)\n",
    "print(pessoa_1.email)\n",
    "print(pessoa_1.nome_completo)\n",
    "\n",
    "pessoa_1.email = 'marcos.ribeiro@email.com'\n",
    "print('\\n')\n",
    "print(pessoa_1.nome)\n",
    "print(pessoa_1.sobrenome)\n",
    "print(pessoa_1.email)\n",
    "print(pessoa_1.nome_completo)\n",
    "\n",
    "pessoa_1.nome_completo = 'Maria Fernandes'\n",
    "print('\\n')\n",
    "print(pessoa_1.nome)\n",
    "print(pessoa_1.sobrenome)\n",
    "print(pessoa_1.email)\n",
    "print(pessoa_1.nome_completo)\n",
    "\n",
    "del pessoa_1.nome_completo\n",
    "print('\\n')\n",
    "print(pessoa_1.__dict__)"
   ]
  },
  {
   "cell_type": "code",
   "execution_count": 12,
   "metadata": {},
   "outputs": [],
   "source": [
    "class Produto:\n",
    "    def __init__(self, nome, preco):\n",
    "        self.nome = nome\n",
    "        self.preco = preco\n",
    "\n",
    "    @property\n",
    "    def nome(self):\n",
    "        print('Acessando o getter de nome')\n",
    "        return self._nome\n",
    "\n",
    "    @nome.setter\n",
    "    def nome(self, novo_valor):\n",
    "        print('Acessando o setter de nome')\n",
    "        self._nome = novo_valor.title()\n",
    "\n",
    "    @property\n",
    "    def preco(self):\n",
    "        print('Acessando o getter de preco')\n",
    "        return self._preco\n",
    "\n",
    "    @preco.setter # Fazendo o tratamento para número e lista\n",
    "    def preco(self, novo_valor):\n",
    "        print('Acessando o setter de preco')      \n",
    "        if isinstance(novo_valor, str):\n",
    "            novo_valor = novo_valor.replace('R$', '')\n",
    "            novo_valor = novo_valor.replace(' ', '')\n",
    "            novo_valor = novo_valor.replace(',', '.')\n",
    "            self._preco = float(novo_valor)\n",
    "\n",
    "        else:\n",
    "            self._preco = float(novo_valor)\n"
   ]
  },
  {
   "cell_type": "code",
   "execution_count": 13,
   "metadata": {},
   "outputs": [
    {
     "name": "stdout",
     "output_type": "stream",
     "text": [
      "Acessando o setter de nome\n",
      "Acessando o setter de preco\n"
     ]
    }
   ],
   "source": [
    "p1 = Produto('Camiseta', 50)"
   ]
  },
  {
   "cell_type": "code",
   "execution_count": 14,
   "metadata": {},
   "outputs": [
    {
     "name": "stdout",
     "output_type": "stream",
     "text": [
      "Acessando o getter de preco\n"
     ]
    },
    {
     "data": {
      "text/plain": [
       "50.0"
      ]
     },
     "execution_count": 14,
     "metadata": {},
     "output_type": "execute_result"
    }
   ],
   "source": [
    "p1.preco"
   ]
  },
  {
   "cell_type": "code",
   "execution_count": 15,
   "metadata": {},
   "outputs": [
    {
     "name": "stdout",
     "output_type": "stream",
     "text": [
      "Acessando o getter de nome\n"
     ]
    },
    {
     "data": {
      "text/plain": [
       "'Camiseta'"
      ]
     },
     "execution_count": 15,
     "metadata": {},
     "output_type": "execute_result"
    }
   ],
   "source": [
    "p1.nome"
   ]
  },
  {
   "cell_type": "code",
   "execution_count": 16,
   "metadata": {},
   "outputs": [
    {
     "name": "stdout",
     "output_type": "stream",
     "text": [
      "Acessando o setter de nome\n",
      "Acessando o setter de preco\n"
     ]
    }
   ],
   "source": [
    "p2 = Produto('BLUSA', 'R$ 100')"
   ]
  },
  {
   "cell_type": "code",
   "execution_count": 18,
   "metadata": {},
   "outputs": [
    {
     "name": "stdout",
     "output_type": "stream",
     "text": [
      "Acessando o getter de preco\n"
     ]
    },
    {
     "data": {
      "text/plain": [
       "100.0"
      ]
     },
     "execution_count": 18,
     "metadata": {},
     "output_type": "execute_result"
    }
   ],
   "source": [
    "p2.preco"
   ]
  },
  {
   "cell_type": "code",
   "execution_count": 19,
   "metadata": {},
   "outputs": [
    {
     "name": "stdout",
     "output_type": "stream",
     "text": [
      "Acessando o getter de nome\n"
     ]
    },
    {
     "data": {
      "text/plain": [
       "'Blusa'"
      ]
     },
     "execution_count": 19,
     "metadata": {},
     "output_type": "execute_result"
    }
   ],
   "source": [
    "p2.nome"
   ]
  },
  {
   "cell_type": "code",
   "execution_count": null,
   "metadata": {},
   "outputs": [],
   "source": []
  }
 ],
 "metadata": {
  "interpreter": {
   "hash": "9e1544ece40983b9dcb10e0aa1f5d0cdb8d9e539b9b8df5e9e5017ad7f05ebe2"
  },
  "kernelspec": {
   "display_name": "Python 3.9.2 64-bit",
   "language": "python",
   "name": "python3"
  },
  "language_info": {
   "codemirror_mode": {
    "name": "ipython",
    "version": 3
   },
   "file_extension": ".py",
   "mimetype": "text/x-python",
   "name": "python",
   "nbconvert_exporter": "python",
   "pygments_lexer": "ipython3",
   "version": "3.9.2"
  },
  "orig_nbformat": 4
 },
 "nbformat": 4,
 "nbformat_minor": 2
}
