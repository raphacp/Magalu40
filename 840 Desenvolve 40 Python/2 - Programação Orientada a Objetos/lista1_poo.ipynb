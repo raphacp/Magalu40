{
 "cells": [
  {
   "cell_type": "code",
   "execution_count": 66,
   "metadata": {},
   "outputs": [],
   "source": [
    "class Moto:\n",
    "    def __init__(self, marca, modelo, cor, maior_marcha):\n",
    "        self.marca = marca\n",
    "        self.modelo = modelo\n",
    "        self.cor = cor\n",
    "        self.maior_marcha = maior_marcha\n",
    "        self.marcha_atual = 0\n",
    "        self.ligada = False\n",
    "    \n",
    "    def ligar_moto(self):\n",
    "        if self.ligada == False:\n",
    "            if self.marcha_atual == 0:\n",
    "                self.ligada = True\n",
    "                print(\"A moto foi ligada.\")\n",
    "            else:\n",
    "                print(\"A moto não está no neutro para ser ligada.\")\n",
    "        else:\n",
    "            print(\"A moto já está ligada.\")\n",
    "\n",
    "    def marcha_abaixo(self):\n",
    "        if self.ligada == True:\n",
    "            if self.marcha_atual == 0:\n",
    "                print(f\"A moto já está na menor marcha ({self.marcha_atual}).\")\n",
    "            else:\n",
    "                self.marcha_atual -= 1\n",
    "                print(f\"Marcha reduzida para {self.marcha_atual}.\")\n",
    "        else:\n",
    "            print(\"A moto está deligada.\")\n",
    "\n",
    "    def marcha_acima(self):\n",
    "        if self.ligada == True:\n",
    "            if self.marcha_atual == self.maior_marcha:\n",
    "                print(f\"A moto já está na maior marcha ({self.maior_marcha}).\")\n",
    "            else:\n",
    "                self.marcha_atual += 1\n",
    "                print(f\"Marcha aumentada para {self.marcha_atual}.\")\n",
    "        else:\n",
    "            print(\"A moto está desligada.\")\n",
    "\n",
    "    def desligar_moto(self):\n",
    "        if self.ligada == True:\n",
    "            self.ligada = False\n",
    "            self.marcha_atual = 0\n",
    "            print(\"A moto foi desligada.\")\n",
    "        else:\n",
    "            print(\"A moto já está desligada.\")\n",
    "        \n",
    "    def __repr__(self):\n",
    "        texto = f'''\n",
    "        Marca: {self.marca}\n",
    "        Modelo: {self.modelo}\n",
    "        Cor: {self.cor}\n",
    "        Maior marcha: {self.maior_marcha}\n",
    "        Marcha atual: {self.marcha_atual}\n",
    "        Ligada: {self.ligada}\n",
    "        '''\n",
    "        return texto\n"
   ]
  },
  {
   "cell_type": "markdown",
   "metadata": {},
   "source": [
    "Crie os métodos marcha_abaixo e marcha_acima para alterar o valor da marcha da moto. \n",
    "Verifique se a moto está ligada para executar os métodos."
   ]
  },
  {
   "cell_type": "code",
   "execution_count": 67,
   "metadata": {},
   "outputs": [
    {
     "name": "stdout",
     "output_type": "stream",
     "text": [
      "\n",
      "        Marca: honda\n",
      "        Modelo: biz\n",
      "        Cor: azul\n",
      "        Maior marcha: 5\n",
      "        Marcha atual: 0\n",
      "        Ligada: False\n",
      "        \n"
     ]
    }
   ],
   "source": [
    "moto1 = Moto(\"honda\",\"biz\", \"azul\", 5)\n",
    "vars(moto1)\n",
    "print(moto1)"
   ]
  },
  {
   "cell_type": "code",
   "execution_count": 68,
   "metadata": {},
   "outputs": [
    {
     "name": "stdout",
     "output_type": "stream",
     "text": [
      "A moto foi ligada.\n",
      "\n",
      "        Marca: honda\n",
      "        Modelo: biz\n",
      "        Cor: azul\n",
      "        Maior marcha: 5\n",
      "        Marcha atual: 0\n",
      "        Ligada: True\n",
      "        \n"
     ]
    }
   ],
   "source": [
    "moto1.ligar_moto()\n",
    "print(moto1)"
   ]
  },
  {
   "cell_type": "code",
   "execution_count": 73,
   "metadata": {},
   "outputs": [
    {
     "name": "stdout",
     "output_type": "stream",
     "text": [
      "Marcha aumentada para 5.\n",
      "\n",
      "        Marca: honda\n",
      "        Modelo: biz\n",
      "        Cor: azul\n",
      "        Maior marcha: 5\n",
      "        Marcha atual: 5\n",
      "        Ligada: True\n",
      "        \n"
     ]
    }
   ],
   "source": [
    "moto1.marcha_acima()\n",
    "print(moto1)"
   ]
  },
  {
   "cell_type": "code",
   "execution_count": 80,
   "metadata": {},
   "outputs": [
    {
     "name": "stdout",
     "output_type": "stream",
     "text": [
      "A moto já está na menor marcha (0).\n",
      "\n",
      "        Marca: honda\n",
      "        Modelo: biz\n",
      "        Cor: azul\n",
      "        Maior marcha: 5\n",
      "        Marcha atual: 0\n",
      "        Ligada: True\n",
      "        \n"
     ]
    }
   ],
   "source": [
    "moto1.marcha_abaixo()\n",
    "print(moto1)"
   ]
  },
  {
   "cell_type": "code",
   "execution_count": 83,
   "metadata": {},
   "outputs": [
    {
     "name": "stdout",
     "output_type": "stream",
     "text": [
      "A moto já está desligada.\n",
      "\n",
      "        Marca: honda\n",
      "        Modelo: biz\n",
      "        Cor: azul\n",
      "        Maior marcha: 5\n",
      "        Marcha atual: 0\n",
      "        Ligada: False\n",
      "        \n"
     ]
    }
   ],
   "source": [
    "moto1.desligar_moto()\n",
    "print(moto1)"
   ]
  },
  {
   "cell_type": "markdown",
   "metadata": {},
   "source": [
    "3\n",
    "Crie uma classe Televisao com atributos ligado, numero_canais, canal_atual, volume, min_volume e max_volume. \n",
    "Os atributos min_volume e max_volume devem receber 0 e 100 respectivamente. \n",
    "Crie um metodo ligar_desligar que muda o estado atual da TV para o oposto.\n",
    "Crie os métodos abaixar_volume e aumentar_volume.\n",
    "Crie os métodos canal_abaixo e canal_acima. \n",
    "    Caso esteja no último canal e aumente 1, o canal deve retornar para o menor canal. \n",
    "    Caso esteja no primeiro canal e diminua 1, o canal deve retornar para o maior canal."
   ]
  },
  {
   "cell_type": "code",
   "execution_count": null,
   "metadata": {},
   "outputs": [],
   "source": []
  },
  {
   "cell_type": "code",
   "execution_count": null,
   "metadata": {},
   "outputs": [],
   "source": []
  },
  {
   "cell_type": "code",
   "execution_count": null,
   "metadata": {},
   "outputs": [],
   "source": []
  },
  {
   "cell_type": "code",
   "execution_count": null,
   "metadata": {},
   "outputs": [],
   "source": []
  },
  {
   "cell_type": "code",
   "execution_count": null,
   "metadata": {},
   "outputs": [],
   "source": []
  },
  {
   "cell_type": "code",
   "execution_count": null,
   "metadata": {},
   "outputs": [],
   "source": []
  },
  {
   "cell_type": "code",
   "execution_count": null,
   "metadata": {},
   "outputs": [],
   "source": []
  }
 ],
 "metadata": {
  "interpreter": {
   "hash": "ac59ebe37160ed0dfa835113d9b8498d9f09ceb179beaac4002f036b9467c963"
  },
  "kernelspec": {
   "display_name": "Python 3.9.6 64-bit",
   "language": "python",
   "name": "python3"
  },
  "language_info": {
   "codemirror_mode": {
    "name": "ipython",
    "version": 3
   },
   "file_extension": ".py",
   "mimetype": "text/x-python",
   "name": "python",
   "nbconvert_exporter": "python",
   "pygments_lexer": "ipython3",
   "version": "3.9.6"
  },
  "orig_nbformat": 4
 },
 "nbformat": 4,
 "nbformat_minor": 2
}
