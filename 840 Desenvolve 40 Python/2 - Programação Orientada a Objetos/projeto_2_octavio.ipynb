{
 "cells": [
  {
   "cell_type": "code",
   "execution_count": null,
   "metadata": {},
   "outputs": [
    {
     "ename": "",
     "evalue": "",
     "output_type": "error",
     "traceback": [
      "\u001b[1;31mUnable to start Kernel 'Python 3.9.6 64-bit' due to connection timeout. \n",
      "View Jupyter <a href='command:jupyter.viewOutput'>log</a> for further details."
     ]
    }
   ],
   "source": [
    "%%writefile './class_loja.py'\n",
    "import datetime as dt\n",
    "import math\n",
    "\n",
    "class Loja:\n",
    "    valores = {'hora': 5,\n",
    "            'dia': 25,\n",
    "            'semana': 100}\n",
    "    \n",
    "    def __init__(self, nome, total_bicicletas = 100):\n",
    "        self.nome = nome\n",
    "        self.total_bicicletas = total_bicicletas\n",
    "        self.total_disponivel = total_bicicletas\n",
    "        self.total_alugado = 0\n",
    "        self.clientes = []\n",
    "    \n",
    "    @staticmethod\n",
    "    def registrar_datetime(lista):\n",
    "        return dt.datetime(lista[0], lista[1], lista[2], lista[3], lista[4], 0)\n",
    "\n",
    "    def alugar(self, nome_cliente, total_alugado, tipo_aluguel, date_time_alguel):\n",
    "        if total_alugado <= self.total_disponivel:\n",
    "            self.total_alugado += total_alugado\n",
    "            self.total_disponivel -= total_alugado\n",
    "            self.clientes.append({nome_cliente: [total_alugado, tipo_aluguel, date_time_alguel]})\n",
    "            return total_alugado\n",
    "        else:\n",
    "            print(f'Só temos {self.total_disponivel} bicicletas disponíveis!')\n",
    "            return 0\n",
    "\n",
    "    def calcular_valor(self, nome_cliente, total_alugado, tipo_aluguel, tempo_total):\n",
    "        periodo_usado = {'hora': (tempo_total.days * 24) + math.ceil(tempo_total.seconds / 3600),\n",
    "                             'dia': tempo_total.days + math.ceil(tempo_total.seconds / 86400),\n",
    "                             'semana': math.ceil((tempo_total.days + math.ceil(tempo_total.seconds / 86400)) / 7)}\n",
    "        self.total_disponivel += total_alugado\n",
    "        self.total_alugado -= total_alugado\n",
    "        \n",
    "        indice = None\n",
    "        for i, valor in enumerate(self.clientes):\n",
    "            if nome_cliente in valor.keys():\n",
    "                indice = i\n",
    "        self.clientes.pop(indice)\n",
    "\n",
    "        if total_alugado >= 3:\n",
    "            return round(self.valores[tipo_aluguel] * periodo_usado[tipo_aluguel] * total_alugado * 0.7, 2)\n",
    "        else:\n",
    "            return round(self.valores[tipo_aluguel] * periodo_usado[tipo_aluguel] * total_alugado, 2)\n",
    "\n",
    "    def __repr__(self):\n",
    "        return f'O total de bicicletas disponível em {self.nome} é {self.total_bicicletas}'\n",
    "\n"
   ]
  },
  {
   "cell_type": "code",
   "execution_count": 3,
   "metadata": {},
   "outputs": [
    {
     "name": "stdout",
     "output_type": "stream",
     "text": [
      "Overwriting ./class_cliente.py\n"
     ]
    }
   ],
   "source": [
    "%%writefile './class_cliente.py'\n",
    "class Cliente():\n",
    "    \n",
    "    def __init__(self, nome):\n",
    "        self.nome = nome\n",
    "        self.total_alugado = 0\n",
    "        self.alugueis = []\n",
    "\n",
    "    def verificar_disponiveis(self, loja):\n",
    "        print(loja)\n",
    "\n",
    "    def alugar(self, loja, tipo_aluguel, total_alugado, date_time_alguel):\n",
    "        aux = loja.alugar(self.nome, total_alugado, tipo_aluguel, date_time_alguel)\n",
    "        if aux > 0:\n",
    "            self.total_alugado += aux\n",
    "            dict_aux = {loja.nome: [aux, tipo_aluguel.lower(), loja.registrar_datetime(date_time_alguel)]}\n",
    "            self.alugueis.append(dict_aux)\n",
    "        \n",
    "\n",
    "    def devolver(self, loja, date_time_retorno):\n",
    "        indice = -1\n",
    "        for i, valor in enumerate(self.alugueis):\n",
    "            if loja.nome in valor.keys():\n",
    "                indice = i\n",
    "        if indice >= 0:\n",
    "            date_time_retorno = loja.registrar_datetime(date_time_retorno)\n",
    "            date_time_alguel = self.alugueis[indice][loja.nome][2]\n",
    "            tempo_total = date_time_retorno - date_time_alguel\n",
    "            total_pagar = loja.calcular_valor(self.nome, self.alugueis[indice][loja.nome][0], self.alugueis[indice][loja.nome][1], tempo_total)\n",
    "            self.total_alugado -= self.alugueis[indice][loja.nome][0]\n",
    "            self.alugueis.pop(indice)\n",
    "            print(f'Você pagou R$ {total_pagar}')\n",
    "        else:\n",
    "            print('Você ainda não alugou desta loja')\n",
    "        "
   ]
  },
  {
   "cell_type": "code",
   "execution_count": null,
   "metadata": {},
   "outputs": [],
   "source": []
  }
 ],
 "metadata": {
  "interpreter": {
   "hash": "9e1544ece40983b9dcb10e0aa1f5d0cdb8d9e539b9b8df5e9e5017ad7f05ebe2"
  },
  "kernelspec": {
   "display_name": "Python 3.9.2 64-bit",
   "language": "python",
   "name": "python3"
  },
  "language_info": {
   "codemirror_mode": {
    "name": "ipython",
    "version": 3
   },
   "file_extension": ".py",
   "mimetype": "text/x-python",
   "name": "python",
   "nbconvert_exporter": "python",
   "pygments_lexer": "ipython3",
   "version": "3.9.6"
  },
  "orig_nbformat": 4
 },
 "nbformat": 4,
 "nbformat_minor": 2
}
