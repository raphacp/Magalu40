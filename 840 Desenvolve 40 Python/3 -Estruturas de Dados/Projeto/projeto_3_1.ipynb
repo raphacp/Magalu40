{
 "cells": [
  {
   "cell_type": "code",
   "execution_count": null,
   "metadata": {},
   "outputs": [],
   "source": [
    "grafo_lista = [ [0, 3],\n",
    "        [0, 2],\n",
    "        [2, 4],\n",
    "        [0, 2, 4],\n",
    "        [0, 2, 3]\n",
    "        ]\n",
    "\n",
    "print(grafo)"
   ]
  },
  {
   "cell_type": "code",
   "execution_count": null,
   "metadata": {},
   "outputs": [],
   "source": [
    "grafo = {\n",
    "    0: [0, 1],\n",
    "    0: [3, 4],\n",
    "    2: [1, 2, 3, 4],\n",
    "    3: [0],\n",
    "    3: [4],\n",
    "    4: [2, 3]\n",
    "}"
   ]
  },
  {
   "cell_type": "code",
   "execution_count": null,
   "metadata": {},
   "outputs": [],
   "source": [
    "# def dfs_recursiva(grafo, vertice, visitados):\n",
    "#     visitados.append(vertice)\n",
    "#     for vizinho in grafo[vertice]:\n",
    "#         if vizinho not in visitados:\n",
    "#             dfs_recursiva(grafo, vizinho, visitados)\n",
    "\n",
    "# dfs_recursiva(grafo, 0, [])"
   ]
  },
  {
   "cell_type": "code",
   "execution_count": null,
   "metadata": {},
   "outputs": [],
   "source": [
    "# def dfs(grafo, vertice):\n",
    "#     visitados = set()\n",
    "#     print(visitados)\n",
    "\n",
    "#     def dfs_recursiva(grafo, vertice):\n",
    "#         visitados.add(vertice)\n",
    "#         print(visitados)\n",
    "#         for vizinho in grafo[vertice]:\n",
    "#             print('vizinho',vizinho, grafo[vertice])\n",
    "#             if vizinho not in visitados:\n",
    "#                 dfs_recursiva(grafo, vizinho)\n",
    "\n",
    "#     dfs_recursiva(grafo, 0)"
   ]
  },
  {
   "cell_type": "code",
   "execution_count": null,
   "metadata": {},
   "outputs": [],
   "source": [
    "def dfs(grafo):\n",
    "    visitados = set()\n",
    "\n",
    "    def dfs_recursiva(grafo, vertice):\n",
    "        visitados.add(vertice)\n",
    "        print('Visitados: ',visitados)\n",
    "        for vizinho in grafo[vertice]:\n",
    "            print(f'Vizinho: {vizinho}, Grafo: {grafo[vertice]}')\n",
    "            if vizinho not in visitados:\n",
    "                print('Not in visitados. Vizinho:', vizinho)\n",
    "                dfs_recursiva(grafo, vizinho)\n",
    "\n",
    "    for vertice in grafo:\n",
    "        if not vertice in visitados:\n",
    "            dfs_recursiva(grafo, vertice)"
   ]
  },
  {
   "cell_type": "code",
   "execution_count": null,
   "metadata": {},
   "outputs": [],
   "source": [
    "dfs(grafo)"
   ]
  },
  {
   "cell_type": "code",
   "execution_count": null,
   "metadata": {},
   "outputs": [],
   "source": [
    "def busca_prof(grafo,cidade,visitada):\n",
    "\n",
    "    visitada.append(cidade)\n",
    "\n",
    "    for vizinha in grafo[cidade]:\n",
    "        if vizinha not in visitada:\n",
    "            busca_prof(grafo,vizinha,visitada)\n",
    "    \n",
    "    return visitada\n",
    "\n",
    "for cidade_origem in grafo:\n",
    "    visitadas = busca_prof(grafo,cidade_origem,[])\n",
    "    print('de:',cidade_origem,len(visitadas))\n",
    "    print('\\t',[cidade for cidade in visitadas if cidade!=cidade_origem])"
   ]
  },
  {
   "cell_type": "code",
   "execution_count": null,
   "metadata": {},
   "outputs": [],
   "source": [
    "def busca_em_profundidade(grafo, pessoa,visitado):\n",
    "    #marcar como visitado?    \n",
    "    visitado.append(pessoa)\n",
    "    print('visitei',pessoa)\n",
    "    print('visitados:',visitado)\n",
    "    print('não visitados:',[nome for nome in grafo.keys() if nome not in visitado])\n",
    "\n",
    "    #para cada amigo da pessoa\n",
    "    for amigo in grafo[pessoa]:                                        \n",
    "        if amigo not in visitado:\n",
    "            busca_em_profundidade(grafo, amigo, visitado)    \n",
    "\n",
    "    return\n",
    "\n",
    "busca_em_profundidade(grafo,0,[])"
   ]
  },
  {
   "cell_type": "code",
   "execution_count": null,
   "metadata": {},
   "outputs": [],
   "source": [
    "def busca_em_profundidade(grafo, pessoa,visitado,nivel):\n",
    "    #marcar como visitado?    \n",
    "    visitado.append(pessoa)\n",
    "    print('visitei',pessoa,'nivel:',nivel)\n",
    "    print('visitados:',visitado)\n",
    "    print('não visitados:',[nome for nome in grafo.keys() if nome not in visitado])\n",
    "\n",
    "    #para cada amigo da pessoa\n",
    "    nivel+=1   #nivel=nivel+1\n",
    "    for amigo in grafo[pessoa]:                                        \n",
    "        if amigo not in visitado:\n",
    "            busca_em_profundidade(grafo, amigo, visitado,nivel)    \n",
    "    nivel-=1   #nivel=nivel-1\n",
    "\n",
    "    return\n",
    "\n",
    "busca_em_profundidade(grafo,0,[],0)"
   ]
  },
  {
   "cell_type": "code",
   "execution_count": null,
   "metadata": {},
   "outputs": [],
   "source": [
    "import networkx as nw\n",
    "\n",
    "\n"
   ]
  }
 ],
 "metadata": {
  "interpreter": {
   "hash": "ac59ebe37160ed0dfa835113d9b8498d9f09ceb179beaac4002f036b9467c963"
  },
  "kernelspec": {
   "display_name": "Python 3.9.6 64-bit",
   "language": "python",
   "name": "python3"
  },
  "language_info": {
   "codemirror_mode": {
    "name": "ipython",
    "version": 3
   },
   "file_extension": ".py",
   "mimetype": "text/x-python",
   "name": "python",
   "nbconvert_exporter": "python",
   "pygments_lexer": "ipython3",
   "version": "3.9.6"
  },
  "orig_nbformat": 4
 },
 "nbformat": 4,
 "nbformat_minor": 2
}
