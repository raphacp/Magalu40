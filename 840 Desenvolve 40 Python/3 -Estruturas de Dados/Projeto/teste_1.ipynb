{
 "cells": [
  {
   "cell_type": "code",
   "execution_count": null,
   "metadata": {},
   "outputs": [],
   "source": [
    "# Original\n",
    "# matrix = [\n",
    "#     [1, 0, 0, 1, 0],\n",
    "#     [1, 0, 1, 0, 0],\n",
    "#     [0, 0, 1, 0, 1],\n",
    "#     [1, 0, 1, 0, 1],\n",
    "#     [1, 0, 1, 1, 0],\n",
    "# ]\n",
    "\n",
    "#Testes\n",
    "matrix = [\n",
    "    [1, 0, 0, 1, 0],\n",
    "    [1, 0, 1, 0, 0],\n",
    "    [0, 0, 1, 0, 1],\n",
    "    [1, 0, 1, 0, 1],\n",
    "    [1, 0, 1, 1, 0],\n",
    "]"
   ]
  },
  {
   "cell_type": "code",
   "execution_count": null,
   "metadata": {},
   "outputs": [],
   "source": [
    "def mostra_matriz(matriz):\n",
    "    print('A matriz de adjacências é:')\n",
    "    for i in range(len(matriz)):\n",
    "        print(matriz[i])\n",
    "\n",
    "mostra_matriz(matrix)"
   ]
  },
  {
   "cell_type": "code",
   "execution_count": null,
   "metadata": {},
   "outputs": [],
   "source": [
    "def percorre_matriz(matriz):\n",
    "    print('Percorrendo a matriz...')\n",
    "    matriz_adj = []\n",
    "    matriz_aux = []\n",
    "    lista_rio = []\n",
    "    #lista_rio_aux = []\n",
    "    visitadas = []\n",
    "\n",
    "    def verifica_vizinho(matriz, i, j, lista_rio_aux):\n",
    "        # lista_rio_aux = []\n",
    "        if tuple((i,j)) not in visitadas:\n",
    "            # print(f\"Testando i = {i,j}\")\n",
    "            visitadas.append((i,j))\n",
    "            if matriz[i][j] == 1:\n",
    "                lista_rio_aux.append(matriz[i][j])\n",
    "                # print(f\"Testando j = {i,j+1}\")\n",
    "                if 0 < (j + 1) < len(matriz[0]): #and not in visitadas p resolver o problema do 1,3 repetido\n",
    "                    visitadas.append((i,j+1))\n",
    "                    if matriz[i][j+1] == 1:\n",
    "                            lista_rio_aux.append(matriz[i][j+1])\n",
    "                            verifica_vizinho(matriz, i, j+2, lista_rio_aux)\n",
    "                    if 0 < (i + 1) < len(matriz):\n",
    "                        verifica_vizinho(matriz, i+1, j, lista_rio_aux)\n",
    "                    if 0 < (j - 1) < len(matriz):\n",
    "                        verifica_vizinho(matriz, i, j-1, lista_rio_aux)\n",
    "                    if 0 < (i - 1) < len(matriz):\n",
    "                        verifica_vizinho(matriz, i-1, j, lista_rio_aux)\n",
    "                if 0 < (i + 1) < len(matriz):\n",
    "                    verifica_vizinho(matriz, i+1, j, lista_rio_aux)\n",
    "            if len(lista_rio_aux) != 0:\n",
    "                # lista_rio.append(lista_rio_aux.copy())\n",
    "                lista_rio.append(len(lista_rio_aux))\n",
    "                lista_rio_aux *= 0\n",
    "        # print('Matriz Rio', lista_rio)\n",
    "        # print('Visitadas', visitadas)\n",
    "\n",
    "    for i in range(len(matriz)):\n",
    "        for j in range(len(matriz[0])):\n",
    "            verifica_vizinho(matriz, i, j, [])\n",
    "            matriz_aux.append(matriz[i][j])\n",
    "        matriz_adj.append(matriz_aux)\n",
    "        matriz_aux = []\n",
    "\n",
    "    # verifica_vizinho(matriz, 0, 0, [])\n",
    "    # mostra_matriz(matriz_adj)\n",
    "    print('Rios encontrados:', sorted(lista_rio))\n",
    "    print('Posições visitadas:', sorted(visitadas))\n",
    "\n",
    "\n",
    "percorre_matriz(matrix)\n"
   ]
  },
  {
   "cell_type": "code",
   "execution_count": null,
   "metadata": {},
   "outputs": [],
   "source": [
    "# def percorre_matriz(matriz):\n",
    "#     print('Percorrendo a matriz...')\n",
    "#     matriz_adj = []\n",
    "#     matriz_aux = []\n",
    "#     matriz_rio = []\n",
    "#     matriz_rio_aux = []\n",
    "#     visitadas = []\n",
    "    \n",
    "#     for i in range(len(matriz)):\n",
    "#         for j in range(len(matriz[0])):\n",
    "#             verifica_vizinho(matriz, i, j, visitadas)\n",
    "#             matriz_aux.append(matriz[i][j])\n",
    "#         matriz_adj.append(matriz_aux)\n",
    "\n",
    "#         matriz_aux = []\n",
    "\n",
    "#     mostra_matriz(matriz_adj)\n",
    "\n",
    "\n",
    "# percorre_matriz(matrix)"
   ]
  },
  {
   "cell_type": "code",
   "execution_count": null,
   "metadata": {},
   "outputs": [],
   "source": [
    "# def percorre_matriz(matriz):\n",
    "#     print('Percorrendo a matriz...')\n",
    "#     matriz_adj = []\n",
    "#     matriz_aux = []\n",
    "#     matriz_rio = []\n",
    "#     matriz_rio_aux = []\n",
    "#     y = 1\n",
    "#     for i in range(len(matriz)):\n",
    "#         for j in range(len(matriz[0])):\n",
    "#             if matriz[i][j] == 1:\n",
    "#                 matriz_rio_aux.append(matriz[i][j])\n",
    "#                 verifica_vizinho(matriz, i, j)\n",
    "\n",
    "#             matriz_aux.append(matriz[i][j])\n",
    "#         matriz_adj.append(matriz_aux)\n",
    "\n",
    "#         matriz_aux = []\n",
    "\n",
    "#     mostra_matriz(matriz_adj)\n",
    "\n",
    "\n",
    "# percorre_matriz(matrix)"
   ]
  },
  {
   "cell_type": "code",
   "execution_count": null,
   "metadata": {},
   "outputs": [],
   "source": [
    "## BKP\n",
    "\n",
    "# def verifica_vizinho(matriz, i, j):\n",
    "#     if tuple((i,j)) not in visitada:\n",
    "#         print(f\"Testando i = {i,j}\")\n",
    "#         visitada.append((i,j))\n",
    "#         if matriz[i][j] == 1:\n",
    "#             matriz_rio_aux.append(matriz[i][j])\n",
    "#             print(f\"Testando j = {i,j+1}\")\n",
    "#             visitada.append((i,j+1))\n",
    "#             if j + 1 < len(matriz[0]):\n",
    "#                 if matriz[i][j+1] == 1:\n",
    "#                     matriz_rio_aux.append(matriz[i][j+1])\n",
    "#                     verifica_vizinho(matriz,i, j+2)\n",
    "#                     if i + 1 < len(matriz):\n",
    "#                         verifica_vizinho(matriz,i+1, j)\n",
    "\n",
    "# visitada = []\n",
    "# matriz_rio_aux = []\n",
    "# verifica_vizinho(matrix,0,0)\n",
    "# print('Matriz Aux', matriz_rio_aux)\n",
    "# print('Visitadas', visitada)\n"
   ]
  },
  {
   "cell_type": "code",
   "execution_count": null,
   "metadata": {},
   "outputs": [],
   "source": [
    "lista = []\n",
    "lista.append(1)\n",
    "lista.append(2)\n",
    "print(lista)\n",
    "lista.clear()\n",
    "print(lista)"
   ]
  },
  {
   "cell_type": "code",
   "execution_count": null,
   "metadata": {},
   "outputs": [],
   "source": [
    "matrix_copia = matrix.copy()\n",
    "mostra_matriz(matrix_copia)\n",
    "matrix_copia[0][0] = 3\n",
    "mostra_matriz(matrix_copia)\n",
    "matrix_1 = []\n",
    "matrix_1.append(matrix_copia)\n",
    "print(matrix_1)"
   ]
  },
  {
   "cell_type": "code",
   "execution_count": null,
   "metadata": {},
   "outputs": [],
   "source": []
  },
  {
   "cell_type": "code",
   "execution_count": null,
   "metadata": {},
   "outputs": [],
   "source": []
  }
 ],
 "metadata": {
  "interpreter": {
   "hash": "ac59ebe37160ed0dfa835113d9b8498d9f09ceb179beaac4002f036b9467c963"
  },
  "kernelspec": {
   "display_name": "Python 3.9.6 64-bit",
   "language": "python",
   "name": "python3"
  },
  "language_info": {
   "codemirror_mode": {
    "name": "ipython",
    "version": 3
   },
   "file_extension": ".py",
   "mimetype": "text/x-python",
   "name": "python",
   "nbconvert_exporter": "python",
   "pygments_lexer": "ipython3",
   "version": "3.9.6"
  },
  "orig_nbformat": 4
 },
 "nbformat": 4,
 "nbformat_minor": 2
}
