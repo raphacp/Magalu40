{
 "cells": [
  {
   "cell_type": "code",
   "execution_count": null,
   "metadata": {},
   "outputs": [],
   "source": [
    "import networkx as nx\n",
    "\n",
    "G = nx.Graph()\n",
    "\n",
    "# Adicionado vertices\n",
    "G.add_node(0)\n",
    "G.add_node(1)\n",
    "G.add_node(2)\n",
    "\n",
    "# Visualizando os vertices\n",
    "print(G.nodes())\n",
    "\n",
    "# Adicionando arestas\n",
    "# Podemos adicionar as arestas sem ter criado os vertices. Ele criará automaticamente\n",
    "G.add_edge(0,0)\n",
    "G.add_edge(0,3)\n",
    "G.add_edge(1,0)\n",
    "G.add_edge(1,2)\n",
    "G.add_edge(2,2)\n",
    "G.add_edge(2,4)\n",
    "G.add_edge(3,0)\n",
    "G.add_edge(3,2)\n",
    "G.add_edge(3,4)\n",
    "G.add_edge(4,0)\n",
    "G.add_edge(4,2)\n",
    "G.add_edge(4,3)\n",
    "\n",
    "\n",
    "# Total de vertices e arestas\n",
    "n_vertices = G.number_of_nodes()\n",
    "n_arestas = G.number_of_edges()\n",
    "\n",
    "print(f'Vertices:  {n_vertices}, \\nArestas: {n_arestas}')\n",
    "\n",
    "nx.draw(G, with_labels=True)\n",
    "\n",
    "\n"
   ]
  },
  {
   "cell_type": "code",
   "execution_count": null,
   "metadata": {},
   "outputs": [],
   "source": [
    "# Imprime os vizinhos\n",
    "G[0]"
   ]
  },
  {
   "cell_type": "code",
   "execution_count": null,
   "metadata": {},
   "outputs": [],
   "source": [
    "G1 = nx.path_graph(4)\n",
    "[n for n in G1[0]]\n",
    "print(G1.nodes)\n",
    "print(G1.edges)\n"
   ]
  },
  {
   "cell_type": "code",
   "execution_count": null,
   "metadata": {},
   "outputs": [],
   "source": [
    "G.adj\n"
   ]
  },
  {
   "cell_type": "code",
   "execution_count": null,
   "metadata": {},
   "outputs": [],
   "source": [
    "marked = [False] * G.size()\n",
    "#print('Fora', marked)\n",
    "def dfs(G,v):\n",
    "    marked[v] = True\n",
    "    #print('Dentro', marked)\n",
    "    #print('V: ', v)\n",
    "    for w in G.neighbors(v):\n",
    "        print(f'({v},{w})')\n",
    "        print('Vizinho: ', G[v])\n",
    "        if not marked[w]:\n",
    "            print('Chamando recursão. W: ', w)\n",
    "            dfs(G,w)\n",
    "\n",
    "dfs(G,0)"
   ]
  },
  {
   "cell_type": "code",
   "execution_count": null,
   "metadata": {},
   "outputs": [],
   "source": [
    "marked = [False] * G.size()\n",
    "def dfs_iter(G,v):\n",
    "    stack = [v]\n",
    "    while len(stack) > 0:\n",
    "        v = stack.pop()\n",
    "        if not marked[v]:\n",
    "            print('Visit',v)\n",
    "            marked[v] = True\n",
    "            for w in G.neighbors(v):\n",
    "                print('W: ',w)\n",
    "                print('Vizinhos: ',G[v])\n",
    "                if not marked[w]:\n",
    "                    stack.append(w)\n",
    "                    print('Apend',stack)\n",
    "\n",
    "\n",
    "dfs_iter(G,0)\n",
    "        "
   ]
  },
  {
   "cell_type": "code",
   "execution_count": 110,
   "metadata": {},
   "outputs": [
    {
     "data": {
      "image/png": "[encoded data removed]",
      "text/plain": [
       "<Figure size 288x288 with 1 Axes>"
      ]
     },
     "metadata": {
      "needs_background": "light"
     },
     "output_type": "display_data"
    }
   ],
   "source": [
    "import matplotlib.pyplot as plt\n",
    "from matplotlib.colors import ListedColormap\n",
    "import matplotlib.patches as mpatches\n",
    "\n",
    "matrix = [\n",
    "    [1, 0, 0, 1, 0],\n",
    "    [1, 0, 1, 0, 0],\n",
    "    [0, 0, 1, 0, 1],\n",
    "    [1, 0, 1, 0, 1],\n",
    "    [1, 0, 1, 1, 0],\n",
    "]\n",
    "\n",
    "cmap = ListedColormap(['g', 'c'])\n",
    "plt.matshow(matrix, cmap=cmap)\n",
    "azul = mpatches.Patch(color='c', label='Rio')\n",
    "verde = mpatches.Patch(color='g', label='Ilha')\n",
    "plt.legend(handles=[azul, verde])\n",
    "plt.show()"
   ]
  }
 ],
 "metadata": {
  "interpreter": {
   "hash": "ac59ebe37160ed0dfa835113d9b8498d9f09ceb179beaac4002f036b9467c963"
  },
  "kernelspec": {
   "display_name": "Python 3.9.6 64-bit",
   "language": "python",
   "name": "python3"
  },
  "language_info": {
   "codemirror_mode": {
    "name": "ipython",
    "version": 3
   },
   "file_extension": ".py",
   "mimetype": "text/x-python",
   "name": "python",
   "nbconvert_exporter": "python",
   "pygments_lexer": "ipython3",
   "version": "3.9.6"
  },
  "orig_nbformat": 4
 },
 "nbformat": 4,
 "nbformat_minor": 2
}
