{
 "cells": [
  {
   "cell_type": "code",
   "execution_count": null,
   "metadata": {},
   "outputs": [],
   "source": [
    "# Original\n",
    "# matrix = [\n",
    "#     [1, 0, 0, 1, 0],\n",
    "#     [1, 0, 1, 0, 0],\n",
    "#     [0, 0, 1, 0, 1],\n",
    "#     [1, 0, 1, 0, 1],\n",
    "#     [1, 0, 1, 1, 0],\n",
    "# ]\n"
   ]
  },
  {
   "cell_type": "code",
   "execution_count": null,
   "metadata": {},
   "outputs": [],
   "source": [
    "import random\n",
    "\n",
    "nx = 50\n",
    "ny = 50\n",
    "matrix = [[1 if (random.random()>=0.5) else 0 for num in range(nx)] for x in range(ny)]\n",
    "matrix"
   ]
  },
  {
   "cell_type": "code",
   "execution_count": null,
   "metadata": {},
   "outputs": [],
   "source": [
    "def mostra_matriz(matriz):\n",
    "    print('A matriz é:')\n",
    "    for i in range(len(matriz)):\n",
    "        print('\\t', matriz[i])\n",
    "\n",
    "mostra_matriz(matrix)"
   ]
  },
  {
   "cell_type": "code",
   "execution_count": null,
   "metadata": {},
   "outputs": [],
   "source": [
    "def percorre_matriz(matriz):\n",
    "    mostra_matriz(matrix)\n",
    "    print('\\nPercorrendo a matriz...\\n')\n",
    "    matriz_adj = []\n",
    "    matriz_aux = []\n",
    "    lista_rio = []\n",
    "    visitadas = []\n",
    "    y = len(matriz)\n",
    "    x = len(matriz[0])\n",
    "\n",
    "    def verifica_vizinho(matriz, i, j, lista_rio_aux):\n",
    "        if tuple((i,j)) not in visitadas:\n",
    "            if i < 0 or i >= y or j < 0 or j >= x:\n",
    "                return\n",
    "            else:\n",
    "                visitadas.append((i,j))\n",
    "                if matriz[i][j] == 1:\n",
    "                    lista_rio_aux.append(matriz[i][j])\n",
    "                    verifica_vizinho(matriz, i+1, j, lista_rio_aux)\n",
    "                    verifica_vizinho(matriz, i-1, j, lista_rio_aux)\n",
    "                    verifica_vizinho(matriz, i, j+1, lista_rio_aux)\n",
    "                    verifica_vizinho(matriz, i, j-1, lista_rio_aux)\n",
    "        return lista_rio_aux\n",
    "\n",
    "    for i in range(len(matriz)):\n",
    "        for j in range(len(matriz[0])):\n",
    "            retorno_lista_rio = verifica_vizinho(matriz, i, j, [])\n",
    "            matriz_aux.append(matriz[i][j])\n",
    "            if len(retorno_lista_rio) != 0:\n",
    "                lista_rio.append(len(retorno_lista_rio))\n",
    "        matriz_adj.append(matriz_aux)\n",
    "        matriz_aux = []\n",
    "    if len(lista_rio) >= 2:\n",
    "        print(f'Foram encontrados {len(lista_rio)} rios com os tamanhos: {sorted(lista_rio)}\\n')\n",
    "    else:\n",
    "        print(f'Foi encontrado {len(lista_rio)} rio com o tamanho: {sorted(lista_rio)}\\n')\n",
    "\n",
    "    print('Posições visitadas:\\n', sorted(visitadas))\n",
    "\n",
    "percorre_matriz(matrix)"
   ]
  }
 ],
 "metadata": {
  "interpreter": {
   "hash": "ac59ebe37160ed0dfa835113d9b8498d9f09ceb179beaac4002f036b9467c963"
  },
  "kernelspec": {
   "display_name": "Python 3.9.6 64-bit",
   "language": "python",
   "name": "python3"
  },
  "language_info": {
   "codemirror_mode": {
    "name": "ipython",
    "version": 3
   },
   "file_extension": ".py",
   "mimetype": "text/x-python",
   "name": "python",
   "nbconvert_exporter": "python",
   "pygments_lexer": "ipython3",
   "version": "3.9.6"
  },
  "orig_nbformat": 4
 },
 "nbformat": 4,
 "nbformat_minor": 2
}
