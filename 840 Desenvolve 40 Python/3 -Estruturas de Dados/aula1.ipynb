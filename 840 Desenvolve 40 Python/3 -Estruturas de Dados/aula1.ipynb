{
 "cells": [
  {
   "cell_type": "code",
   "execution_count": 7,
   "metadata": {},
   "outputs": [],
   "source": [
    "nome = input(\"Digite seu nome: \")\n",
    "arq = open('teste.txt', 'w')\n",
    "arq.write(nome)\n",
    "#arq.read()\n",
    "arq.close()\n"
   ]
  },
  {
   "cell_type": "code",
   "execution_count": 1,
   "metadata": {},
   "outputs": [
    {
     "name": "stdout",
     "output_type": "stream",
     "text": [
      "Rapha\n"
     ]
    }
   ],
   "source": [
    "arq = open('teste.txt')\n",
    "print(arq.read())\n",
    "arq.close()"
   ]
  },
  {
   "cell_type": "code",
   "execution_count": 2,
   "metadata": {},
   "outputs": [],
   "source": [
    "with open('nomes.txt', 'r+') as nomes: # r+ ou w\n",
    "    count = 0\n",
    "    while count <3 :\n",
    "        entrada = input('Digite um nome: ')\n",
    "        nomes.write(f'{entrada} \\n')\n",
    "        count += 1\n"
   ]
  },
  {
   "cell_type": "code",
   "execution_count": 3,
   "metadata": {},
   "outputs": [
    {
     "name": "stdout",
     "output_type": "stream",
     "text": [
      "Rapha \n",
      "Karen \n",
      "Henry \n",
      "\n"
     ]
    }
   ],
   "source": [
    "# arquivo.seek(0) leva o cursor para o início do arquivo para ser lido do começo\n",
    "with open('nomes.txt') as nomes:\n",
    "    print(nomes.read())"
   ]
  },
  {
   "cell_type": "markdown",
   "metadata": {},
   "source": [
    "Exercício 1:\n",
    "Escreva uma função em Python que leia o conteúdo de um arquivo dado pelo usuário e imprima cada uma de suas linhas."
   ]
  },
  {
   "cell_type": "code",
   "execution_count": 54,
   "metadata": {},
   "outputs": [
    {
     "name": "stdout",
     "output_type": "stream",
     "text": [
      "\n",
      "Olá\n",
      "Tudo\n",
      "bem?\n",
      "\n",
      "Meu nome é:\n",
      "Rapha.\n",
      "E o seu?"
     ]
    }
   ],
   "source": [
    "def ler_arquivo(arquivo):\n",
    "    with open(arquivo, encoding='UTF-8') as arq:\n",
    "        for linha in arq.readlines():\n",
    "            print(linha, end='')\n",
    "\n",
    "ler_arquivo('exercicio1.txt')\n"
   ]
  },
  {
   "cell_type": "markdown",
   "metadata": {},
   "source": [
    "Exercício 2:\n",
    "Escreva um programa em Python que *adicione* texto a um arquivo já existente e imprima seu conteúdo"
   ]
  },
  {
   "cell_type": "code",
   "execution_count": 59,
   "metadata": {},
   "outputs": [
    {
     "name": "stdout",
     "output_type": "stream",
     "text": [
      "\n",
      "Olá\n",
      "Tudo\n",
      "bem?\n",
      "\n",
      "Meu nome é:\n",
      "Rapha.\n",
      "E o seu?\n",
      "Olá. Meu nome é Fulano"
     ]
    }
   ],
   "source": [
    "def atualiza_arquivo(arquivo):\n",
    "    with open(arquivo, 'a', encoding='UTF-8') as arq:\n",
    "        arq.write('\\n' + input('Digite algo: '))\n",
    "    ler_arquivo('exercicio1.txt')    \n",
    "\n",
    "atualiza_arquivo('exercicio1.txt')"
   ]
  },
  {
   "cell_type": "markdown",
   "metadata": {},
   "source": [
    "Exercício 3:\n",
    "Escreva uma função em Python que leia as primeiras n linhas de um arquivo de texto. \n",
    "O valor n deve ser fornecido pelo usuário."
   ]
  },
  {
   "cell_type": "code",
   "execution_count": 67,
   "metadata": {},
   "outputs": [
    {
     "name": "stdout",
     "output_type": "stream",
     "text": [
      "\n",
      "OlÃ¡\n",
      "Tudo\n",
      "bem?\n"
     ]
    }
   ],
   "source": [
    "def imprime_n_linhas(arquivo, n):\n",
    "    with open(arquivo) as arq:\n",
    "        contador = 0\n",
    "        while contador <= n:\n",
    "            print(arq.readlines()[contador], end='')\n",
    "            contador += 1\n",
    "            arq.seek(0)\n",
    "\n",
    "imprime_n_linhas('exercicio1.txt', 3)"
   ]
  },
  {
   "cell_type": "code",
   "execution_count": 69,
   "metadata": {},
   "outputs": [
    {
     "name": "stdout",
     "output_type": "stream",
     "text": [
      "\n",
      " OlÃ¡\n",
      " Tudo\n",
      " bem?\n"
     ]
    }
   ],
   "source": [
    "def imprime_n_linhas(arquivo, n):\n",
    "    with open(arquivo) as arq:\n",
    "        print(*arq.readlines()[:n+1], end='')\n",
    "\n",
    "imprime_n_linhas('exercicio1.txt', 3)"
   ]
  }
 ],
 "metadata": {
  "interpreter": {
   "hash": "ac59ebe37160ed0dfa835113d9b8498d9f09ceb179beaac4002f036b9467c963"
  },
  "kernelspec": {
   "display_name": "Python 3.9.6 64-bit",
   "language": "python",
   "name": "python3"
  },
  "language_info": {
   "codemirror_mode": {
    "name": "ipython",
    "version": 3
   },
   "file_extension": ".py",
   "mimetype": "text/x-python",
   "name": "python",
   "nbconvert_exporter": "python",
   "pygments_lexer": "ipython3",
   "version": "3.9.6"
  },
  "orig_nbformat": 4
 },
 "nbformat": 4,
 "nbformat_minor": 2
}
