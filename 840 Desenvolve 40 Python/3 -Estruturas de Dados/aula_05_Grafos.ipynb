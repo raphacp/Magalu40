{
 "cells": [
  {
   "cell_type": "markdown",
   "metadata": {},
   "source": [
    "### Aula 5 - Grafos"
   ]
  },
  {
   "cell_type": "markdown",
   "metadata": {},
   "source": [
    "Roteiro da Aula de Grafos\n",
    "\n",
    "Professor Renato Arbex - 09/03/2022 - 19h\n",
    "\n",
    "#### Agenda da Aula\n",
    "\n",
    "- Background\n",
    "- Contextualização\n",
    "- Conceito\n",
    "- Usos\n",
    "- Exemplo\n",
    "- Implementação\n",
    "- Percorrer\n",
    "- Exercício\n",
    "- Representações\n",
    "- Caminho mais rápido\n",
    "- Biblioteca\n",
    "- Exercício\n"
   ]
  },
  {
   "cell_type": "markdown",
   "metadata": {},
   "source": [
    "#### Contextualização / Conceito / Aplicações\n",
    "\n",
    "- Grafos são estruturas de dados que representam um **conjunto de conexões entre entidades**. Eles modelam como objetos ou eventos estão conectados entre si.\n",
    "\n",
    "- São estruturas de dados abstratas que possuem algoritmos específicos. \n",
    "\n",
    "- Um dos objetivos da modelagem com grafos é  **encontrar o caminho mais curto** entre essas entidades ou objetos, resolvidas por exemplo pelo o algoritmo de pesquisa em largura ou por outros algoritmos de caminho mínimo. \n",
    "\n",
    "- O número de **aplicações** é muito grande:\n",
    "\n",
    "-Algoritmo de IA que calcula o menor número de movimentos necessários em uma partida de xadrex para um xeque-mate.\n",
    "\n",
    "-Um corretor ortográfico, que calcula o menor número de edições para transformar uma palavra errada em uma real.\n",
    "\n",
    "-Encontrar o restaurante mais perto de você.\n",
    "\n",
    "-Buscar um trajeto em uma viagem entre um ponto turístico e outro.\n",
    "\n",
    "-Representar uma cidade para projetar um sistema de transporte público como uma rede de metrô e itinerários de ônibus.\n",
    "\n",
    "-Encontrar a conexão mais próxima para se conectar a uma pessoa desconhecida numa rede social, mas com a qual você tenha amigos em comum.\n"
   ]
  },
  {
   "cell_type": "markdown",
   "metadata": {},
   "source": [
    "#### Terminologia\n",
    "\n",
    "- Vértices: ou nós, itens de interesse na modelagem.\n",
    "- Arestas: conexões ou relações entre esses itens.\n",
    "\n",
    "Um vértice pode ligar a vários outros vértices.\n",
    "\n",
    "As arestas podem ter um único sentido (grafo direcionado) ou ambos os sentidos (não direcionado)\n",
    "\n",
    "As arestas podem conter um peso (weight) que representa uma distância, tempo ou algo que separa as entidades (grafo ponderado), ou seja, o custo para se percorrer de um vértice para outro.\n",
    "\n",
    "![Rede2](./a5f1.jpg)"
   ]
  },
  {
   "cell_type": "markdown",
   "metadata": {},
   "source": [
    "#### Exemplo\n",
    "\n",
    "- Após o término do curso de Python você pretende praticar seus conhecimentos de programação divulgando entre suas amizades e conhecidos se alguém tem algum projeto que gostaria de realizar ou automatizar. \n",
    "\n",
    "Assim temos duas questões a responder: \n",
    "1) existe uma conexão que tenha interesse em um projeto de automação em Python na minha rede? \n",
    "2) quem é a pessoa mais próxima com este interesse?\n",
    "\n",
    "Para isso, vamos primeiro procurar entre seus amigos.\n",
    "\n",
    "Fazer uma lista dos amigos próximos para pesquisar.\n",
    "\n",
    "Depois Perguntar a cada um deles se tem interesse em fazer um projeto.\n",
    "\n",
    "- Ana, Roberto e Sara"
   ]
  },
  {
   "cell_type": "markdown",
   "metadata": {},
   "source": [
    "![Rede2](./a5f2.jpg)"
   ]
  },
  {
   "cell_type": "markdown",
   "metadata": {},
   "source": [
    "Então você verificou que nenhum dos amigos tem interesse em fazer um projeto em Python, então é necessário pesquisar na rede dos amigos, ou seja, agora entre os amigos(as) dos seus amigos(as)."
   ]
  },
  {
   "cell_type": "markdown",
   "metadata": {},
   "source": [
    "![Rede](./a5f3.jpg)"
   ]
  },
  {
   "cell_type": "markdown",
   "metadata": {},
   "source": [
    "Como fazer isso? Uma vez que você pesquisou uma pessoa da lista de seus amigos, todos os amigos(as) dela serão adicionadas à lista para pesquisa dos amigos(as) dele(a).\n",
    "\n",
    "Assim, sua rede inteira será pesquisada. Esse é o algoritmo da **pesquisa em largura** em ação em um **grafo**.\n",
    "\n",
    "Questões de implementação:\n",
    "\n",
    "- Como implementar? Relações \"Você\"-> Lista de Pessoas, qual estrutura usar?\n",
    "\n",
    "- **Se você procurar as pessoas na ordem em que foram adicionadas**, as conexões de primeiro grau serão verificadas antes das de segundo grau, então, você também encontra o caminho mais curto ligando você até uma pessoa com interesse no projeto! \n",
    "\n",
    "- Assim, que estrutura de dados vamos utilizar para ordenar as pessoas para busca? "
   ]
  },
  {
   "cell_type": "markdown",
   "metadata": {},
   "source": [
    "### Busca em Largura"
   ]
  },
  {
   "cell_type": "code",
   "execution_count": null,
   "metadata": {},
   "outputs": [],
   "source": [
    "#OK! Representar o grafo das suas amizades\n",
    "#Criar uma fila contendo todas as pessoas a serem verificadas (começando pelos seus amigos!)\n",
    "#Retirar uma pessoa da fila (como retira de fila?)\n",
    "#Confere se ela tem interesse no projeto com uma função à parte (se sim, retorna e finaliza)\n",
    "#Caso não, adiciona os amigos dela pra buscar na fila\n",
    "#Repita até que a fila esteja vazia!\n",
    "#Cuidado com amigos em comum! (caso e uma pessoa seja amiga de outra e vice-versa)"
   ]
  },
  {
   "cell_type": "code",
   "execution_count": 8,
   "metadata": {},
   "outputs": [
    {
     "name": "stdout",
     "output_type": "stream",
     "text": [
      "Buscando a partir de: voce\n",
      "\n",
      "Fila atual: deque(['voce'])\n",
      "voce não tem interesse! Mas tem indicações: ['ana', 'sara', 'roberto']\n",
      "\tNova Lista: deque(['ana', 'sara', 'roberto'])\n",
      "\n",
      "Fila atual: deque(['ana', 'sara', 'roberto'])\n",
      "ana não tem interesse! Mas tem indicações: ['diego', 'ju']\n",
      "\tNova Lista: deque(['sara', 'roberto', 'diego', 'ju'])\n",
      "\n",
      "Fila atual: deque(['sara', 'roberto', 'diego', 'ju'])\n",
      "sara não tem interesse! Mas tem indicações: ['ju']\n",
      "\tNova Lista: deque(['roberto', 'diego', 'ju', 'ju'])\n",
      "\n",
      "Fila atual: deque(['roberto', 'diego', 'ju', 'ju'])\n",
      "roberto não tem interesse! Mas tem indicações: ['cristina', 'tomas']\n",
      "\tNova Lista: deque(['diego', 'ju', 'ju', 'cristina', 'tomas'])\n",
      "\n",
      "Fila atual: deque(['diego', 'ju', 'ju', 'cristina', 'tomas'])\n",
      "diego tem interesse!\n",
      "\n",
      "Fila atual: deque(['ju', 'ju', 'cristina', 'tomas'])\n",
      "ju não tem interesse! Mas tem indicações: []\n",
      "\tNova Lista: deque(['ju', 'cristina', 'tomas'])\n",
      "\n",
      "Fila atual: deque(['ju', 'cristina', 'tomas'])\n",
      "\n",
      "Fila atual: deque(['cristina', 'tomas'])\n",
      "cristina tem interesse!\n",
      "\n",
      "Fila atual: deque(['tomas'])\n",
      "tomas não tem interesse! Mas tem indicações: []\n",
      "\tNova Lista: deque([])\n",
      "{'voce': 0, 'ana': 1, 'sara': 1, 'roberto': 1, 'diego': 2, 'ju': 2, 'tomas': 2, 'cristina': 2}\n"
     ]
    }
   ],
   "source": [
    "#Implementação da pesquisa em largura\n",
    "def pessoa_tem_interesse(pessoa):\n",
    "    return 'i' in pessoa #qq coisa, apenas para separar quem quer. Aqui deveria ser colocada uma definição, mas usou isso apenas para adiantar\n",
    "\n",
    "#Grafo\n",
    "grafo = {}\n",
    "grafo[\"voce\"] = [\"ana\", \"sara\", \"roberto\"]\n",
    "grafo[\"ana\"] = [\"diego\", \"ju\"]\n",
    "grafo[\"sara\"] = [\"ju\"]\n",
    "grafo[\"roberto\"] = [\"cristina\", \"tomas\"]\n",
    "grafo[\"diego\"] = []\n",
    "grafo[\"ju\"] = []\n",
    "grafo[\"tomas\"] = []\n",
    "grafo[\"cristina\"] = []\n",
    "\n",
    "buscadas = []\n",
    "\n",
    "from collections import deque\n",
    "\n",
    "def busca(grafo,inicio):\n",
    "    fila = deque()\n",
    "    fila += [inicio] #para contagem de graus\n",
    "    print('Buscando a partir de:',inicio)\n",
    "\n",
    "    #Dicionário com os graus\n",
    "    graus = {nome:float(\"inf\") for nome in grafo.keys()}\n",
    "    graus[inicio] = 0\n",
    "    \n",
    "    while fila: #igual a len(fila)>0\n",
    "        print('\\nFila atual:', fila)\n",
    "        pessoa = fila.popleft()\n",
    "\n",
    "        if pessoa not in buscadas: #só verifica se ainda não perguntou            \n",
    "            #Calcula distância\n",
    "            for vizinho in grafo[pessoa]:\n",
    "                graus[vizinho] = graus[pessoa]+1\n",
    "\n",
    "            if pessoa_tem_interesse(pessoa):\n",
    "                print(pessoa,'tem interesse!')\n",
    "            else:\n",
    "                print(pessoa,'não tem interesse! Mas tem indicações:', grafo[pessoa])\n",
    "                fila += grafo[pessoa]\n",
    "                print('\\tNova Lista:',fila)\n",
    "                buscadas.append(pessoa)\n",
    "                \n",
    "    print(graus)\n",
    "\n",
    "busca(grafo,'voce')"
   ]
  },
  {
   "cell_type": "code",
   "execution_count": 9,
   "metadata": {},
   "outputs": [],
   "source": [
    "#grau = {'ana':2,'roberto':2}\n",
    "\n",
    "#grau = {}\n",
    "#for nome in grafo.keys():\n",
    "#    grau[nome] = 99\n",
    "#print(grau)\n",
    "\n",
    "#Dict comprehension\n",
    "distancias = {nome:0 for nome in grafo.keys()}"
   ]
  },
  {
   "cell_type": "code",
   "execution_count": 10,
   "metadata": {},
   "outputs": [
    {
     "data": {
      "text/plain": [
       "'ana'"
      ]
     },
     "execution_count": 10,
     "metadata": {},
     "output_type": "execute_result"
    }
   ],
   "source": [
    "#Exemplo de lista com pop(0)\n",
    "lista = []\n",
    "lista+= grafo['voce']\n",
    "lista\n",
    "lista.pop(0) #no deque popleft() funciona da mesma forma."
   ]
  },
  {
   "cell_type": "code",
   "execution_count": 11,
   "metadata": {},
   "outputs": [],
   "source": [
    "#[] python interpreta como False e não entra no if\n",
    "if []:\n",
    "    print('sim')"
   ]
  },
  {
   "cell_type": "code",
   "execution_count": 12,
   "metadata": {},
   "outputs": [
    {
     "data": {
      "text/plain": [
       "['ana', 'cristina', 'tomas']"
      ]
     },
     "execution_count": 12,
     "metadata": {},
     "output_type": "execute_result"
    }
   ],
   "source": [
    "#Por que não pode usar o append no nosso exemplo.\n",
    "f = ['ana']\n",
    "#f.append(grafo['roberto'])\n",
    "f+=grafo['roberto']\n",
    "f"
   ]
  },
  {
   "cell_type": "markdown",
   "metadata": {},
   "source": [
    "Complexidade da busca em largura: O(V+A)\n",
    "\n",
    "- Pesquisa em largura é usada para calcular o caminho mínimo para um grafo não ponderado (sem pesos).\n"
   ]
  },
  {
   "cell_type": "markdown",
   "metadata": {},
   "source": [
    "E a distância?"
   ]
  },
  {
   "cell_type": "code",
   "execution_count": null,
   "metadata": {},
   "outputs": [],
   "source": [
    "#Feito no código anterior."
   ]
  },
  {
   "cell_type": "markdown",
   "metadata": {},
   "source": [
    "### Busca em Profundidade\n",
    "\n",
    "\n",
    "\n",
    "\n",
    "\n",
    "https://www.youtube.com/watch?v=NUgMa5coCoE"
   ]
  },
  {
   "cell_type": "code",
   "execution_count": 13,
   "metadata": {},
   "outputs": [
    {
     "data": {
      "text/plain": [
       "[0, 1, 2, 3, 4, 5, 6, 7, 8, 9]"
      ]
     },
     "execution_count": 13,
     "metadata": {},
     "output_type": "execute_result"
    }
   ],
   "source": [
    "list(range(10))"
   ]
  },
  {
   "cell_type": "code",
   "execution_count": 14,
   "metadata": {},
   "outputs": [
    {
     "data": {
      "text/plain": [
       "[0, 10, 20, 30, 40]"
      ]
     },
     "execution_count": 14,
     "metadata": {},
     "output_type": "execute_result"
    }
   ],
   "source": [
    "#Cria a lista \n",
    "[n*10 for n in range(10) if n in range(5)]"
   ]
  },
  {
   "cell_type": "code",
   "execution_count": 16,
   "metadata": {},
   "outputs": [
    {
     "name": "stdout",
     "output_type": "stream",
     "text": [
      "visitei voce\n",
      "visitados: ['voce']\n",
      "não visitados: ['ana', 'sara', 'roberto', 'diego', 'ju', 'tomas', 'cristina']\n",
      "visitei ana\n",
      "visitados: ['voce', 'ana']\n",
      "não visitados: ['sara', 'roberto', 'diego', 'ju', 'tomas', 'cristina']\n",
      "visitei diego\n",
      "visitados: ['voce', 'ana', 'diego']\n",
      "não visitados: ['sara', 'roberto', 'ju', 'tomas', 'cristina']\n",
      "visitei ju\n",
      "visitados: ['voce', 'ana', 'diego', 'ju']\n",
      "não visitados: ['sara', 'roberto', 'tomas', 'cristina']\n",
      "visitei sara\n",
      "visitados: ['voce', 'ana', 'diego', 'ju', 'sara']\n",
      "não visitados: ['roberto', 'tomas', 'cristina']\n",
      "visitei roberto\n",
      "visitados: ['voce', 'ana', 'diego', 'ju', 'sara', 'roberto']\n",
      "não visitados: ['tomas', 'cristina']\n",
      "visitei cristina\n",
      "visitados: ['voce', 'ana', 'diego', 'ju', 'sara', 'roberto', 'cristina']\n",
      "não visitados: ['tomas']\n",
      "visitei tomas\n",
      "visitados: ['voce', 'ana', 'diego', 'ju', 'sara', 'roberto', 'cristina', 'tomas']\n",
      "não visitados: []\n"
     ]
    }
   ],
   "source": [
    "#Busca em profundidade\n",
    "def busca_em_profundidade(grafo, pessoa,visitado):\n",
    "    #marcar como visitado?    \n",
    "    visitado.append(pessoa)\n",
    "    print('visitei',pessoa)\n",
    "    print('visitados:',visitado)\n",
    "    print('não visitados:',[nome for nome in grafo.keys() if nome not in visitado])\n",
    "\n",
    "    #para cada amigo da pessoa\n",
    "    for amigo in grafo[pessoa]:                                        \n",
    "        if amigo not in visitado:\n",
    "            busca_em_profundidade(grafo, amigo, visitado)    \n",
    "\n",
    "    return\n",
    "\n",
    "busca_em_profundidade(grafo,'voce',[])"
   ]
  },
  {
   "cell_type": "code",
   "execution_count": 17,
   "metadata": {},
   "outputs": [
    {
     "name": "stdout",
     "output_type": "stream",
     "text": [
      "visitei voce nivel: 0\n",
      "visitados: ['voce']\n",
      "não visitados: ['ana', 'sara', 'roberto', 'diego', 'ju', 'tomas', 'cristina']\n",
      "visitei ana nivel: 1\n",
      "visitados: ['voce', 'ana']\n",
      "não visitados: ['sara', 'roberto', 'diego', 'ju', 'tomas', 'cristina']\n",
      "visitei diego nivel: 2\n",
      "visitados: ['voce', 'ana', 'diego']\n",
      "não visitados: ['sara', 'roberto', 'ju', 'tomas', 'cristina']\n",
      "visitei ju nivel: 2\n",
      "visitados: ['voce', 'ana', 'diego', 'ju']\n",
      "não visitados: ['sara', 'roberto', 'tomas', 'cristina']\n",
      "visitei sara nivel: 1\n",
      "visitados: ['voce', 'ana', 'diego', 'ju', 'sara']\n",
      "não visitados: ['roberto', 'tomas', 'cristina']\n",
      "visitei roberto nivel: 1\n",
      "visitados: ['voce', 'ana', 'diego', 'ju', 'sara', 'roberto']\n",
      "não visitados: ['tomas', 'cristina']\n",
      "visitei cristina nivel: 2\n",
      "visitados: ['voce', 'ana', 'diego', 'ju', 'sara', 'roberto', 'cristina']\n",
      "não visitados: ['tomas']\n",
      "visitei tomas nivel: 2\n",
      "visitados: ['voce', 'ana', 'diego', 'ju', 'sara', 'roberto', 'cristina', 'tomas']\n",
      "não visitados: []\n"
     ]
    }
   ],
   "source": [
    "#E o nível na busca em profundidade?\n",
    "def busca_em_profundidade(grafo, pessoa,visitado,nivel):\n",
    "    #marcar como visitado?    \n",
    "    visitado.append(pessoa)\n",
    "    print('visitei',pessoa,'nivel:',nivel)\n",
    "    print('visitados:',visitado)\n",
    "    print('não visitados:',[nome for nome in grafo.keys() if nome not in visitado])\n",
    "\n",
    "    #para cada amigo da pessoa\n",
    "    nivel+=1   #nivel=nivel+1\n",
    "    for amigo in grafo[pessoa]:                                        \n",
    "        if amigo not in visitado:\n",
    "            busca_em_profundidade(grafo, amigo, visitado,nivel)    \n",
    "    nivel-=1   #nivel=nivel-1\n",
    "\n",
    "    return\n",
    "\n",
    "busca_em_profundidade(grafo,'voce',[],0)"
   ]
  },
  {
   "cell_type": "markdown",
   "metadata": {},
   "source": [
    "### Exercício:\n",
    "\n",
    "Considere o gráfico abaixo que representa as conexões entre cidades considerando a situação do sistema viário em um temporal que impediu a passagem em algumas estradas.\n",
    "\n",
    "Para todas as cidades representadas no grafo, utilize a busca em profundidade para apresentar quantas outras cidades podem ser alcançadas a partir dela.\n",
    "\n",
    "Bônus: mostrar os nomes das cidades que podem ser visitadas a partir de cada uma delas.\n",
    "\n",
    "Saída exemplo:\n",
    "\n",
    "cidade A, alcança 5 cidades.<br />\n",
    "&nbsp;&nbsp;&nbsp;&nbsp;(bonus)alcança: cidade A, cidade B... <br />\n",
    "cidade B, alcança 4 cidades.\n",
    "\n",
    "![Rede](./a5f4.jpg)"
   ]
  },
  {
   "cell_type": "code",
   "execution_count": 18,
   "metadata": {},
   "outputs": [
    {
     "name": "stdout",
     "output_type": "stream",
     "text": [
      "de: saopaulo 5\n",
      "\t ['santos', 'mogi', 'guarulhos', 'rio', 'parati']\n",
      "de: guarulhos 4\n",
      "\t ['mogi', 'santos', 'parati', 'rio']\n",
      "de: santos 4\n",
      "\t ['mogi', 'guarulhos', 'rio', 'parati']\n",
      "de: parati 1\n",
      "\t ['rio']\n",
      "de: mogi 4\n",
      "\t ['guarulhos', 'rio', 'santos', 'parati']\n",
      "de: rio 0\n",
      "\t []\n"
     ]
    }
   ],
   "source": [
    "#Resolução:\n",
    "grafo = {}\n",
    "grafo['saopaulo'] = ['santos','guarulhos']\n",
    "grafo['guarulhos'] = ['mogi','rio']\n",
    "grafo[\"santos\"] = ['mogi','parati']\n",
    "grafo[\"parati\"] = [\"rio\"]\n",
    "grafo[\"mogi\"] = [\"guarulhos\",\"santos\"]\n",
    "grafo[\"rio\"] = []\n",
    "\n",
    "def busca_prof(grafo,cidade,visitada):\n",
    "\n",
    "    visitada.append(cidade)\n",
    "\n",
    "    for vizinha in grafo[cidade]:\n",
    "        if vizinha not in visitada:\n",
    "            busca_prof(grafo,vizinha,visitada)\n",
    "    \n",
    "    return visitada\n",
    "\n",
    "for cidade_origem in grafo:\n",
    "    visitadas = busca_prof(grafo,cidade_origem,[])\n",
    "    print('de:',cidade_origem,len(visitadas)-1)\n",
    "    print('\\t',[cidade for cidade in visitadas if cidade!=cidade_origem])\n"
   ]
  },
  {
   "cell_type": "code",
   "execution_count": 19,
   "metadata": {},
   "outputs": [
    {
     "data": {
      "text/plain": [
       "[0, 1, 2, 3, 4, 6, 7, 8, 9]"
      ]
     },
     "execution_count": 19,
     "metadata": {},
     "output_type": "execute_result"
    }
   ],
   "source": [
    "#list comprehension\n",
    "[n for n in range(10) if n!=5]\n",
    "\n",
    "lista=[]\n",
    "for n in range(10):\n",
    "    if n!=5:\n",
    "        lista.append(n)\n",
    "lista\n"
   ]
  },
  {
   "cell_type": "markdown",
   "metadata": {},
   "source": [
    "Mas e para grafos com peso (distância entre cidades/tempo de viagem entre locais/separação entre entidades que é medida em alguma unidade?)\n",
    "\n",
    "Como calcular as distâncias/tempos/unidades de separação entre os vértices/entidades?\n",
    "\n",
    "Vamos ver as representações com pesos!"
   ]
  },
  {
   "cell_type": "markdown",
   "metadata": {},
   "source": [
    "### Representações"
   ]
  },
  {
   "cell_type": "markdown",
   "metadata": {},
   "source": [
    "Matriz de Adjacências\n",
    "\n",
    "Para criar um grafo como uma matriz de adjacências, definimos uma matriz M de dimensões n x n, sendo n a quantidade de vértices.\n",
    "Inicializamos a matriz com zeros, e \"marcamos\" M[u][v] com um valor diferente de zero caso exista uma aresta conectando o vértice u ao vértice v.\n",
    "\n",
    "![Img](./a5f5.jpg)"
   ]
  },
  {
   "cell_type": "code",
   "execution_count": null,
   "metadata": {},
   "outputs": [],
   "source": [
    "#[0,0,0,0,0,0,0,0,0]\n",
    "a = [[0]*10]*5\n",
    "a[0][1] = 5\n",
    "a\n",
    "b=a\n",
    "b"
   ]
  },
  {
   "cell_type": "code",
   "execution_count": null,
   "metadata": {},
   "outputs": [],
   "source": [
    "#[[0,1,0],\n",
    "# [1,0,0],\n",
    "# [0,0,0]]"
   ]
  },
  {
   "cell_type": "code",
   "execution_count": null,
   "metadata": {},
   "outputs": [],
   "source": [
    "#for _\n",
    "for _ in range(10):\n",
    "    print('a')"
   ]
  },
  {
   "cell_type": "code",
   "execution_count": 22,
   "metadata": {},
   "outputs": [
    {
     "data": {
      "text/plain": [
       "[[0, 1, 0, 0, 0, 0, 0, 0, 0, 0],\n",
       " [0, 0, 0, 0, 0, 0, 0, 0, 0, 0],\n",
       " [0, 0, 0, 0, 0, 0, 0, 0, 0, 0],\n",
       " [0, 0, 0, 0, 0, 0, 0, 0, 0, 0],\n",
       " [0, 0, 0, 0, 0, 0, 0, 0, 0, 0],\n",
       " [0, 0, 0, 0, 0, 0, 0, 0, 0, 0],\n",
       " [0, 0, 0, 0, 0, 0, 0, 0, 0, 0],\n",
       " [0, 0, 0, 0, 0, 0, 0, 0, 0, 0],\n",
       " [0, 0, 0, 0, 0, 0, 0, 0, 0, 0],\n",
       " [0, 0, 0, 0, 0, 0, 0, 0, 0, 0]]"
      ]
     },
     "execution_count": 22,
     "metadata": {},
     "output_type": "execute_result"
    }
   ],
   "source": [
    "# Matriz de Adjacências\n",
    "class gadj:\n",
    "    def __init__(self,n):\n",
    "        #self.adj = [[0]*n]*n  #não pode! usa mesma referência da primeira lista que impede atribuição.\n",
    "        \n",
    "        self.adjacencias = [[0]*n for _ in range(n)]\n",
    "                \n",
    "        '''\n",
    "        self.adjacencias = []\n",
    "        for i in range(n):\n",
    "            lista=[]\n",
    "            for j in range(n):\n",
    "                lista.append(0)\n",
    "            self.adjacencias.append(lista)\n",
    "        '''\n",
    "\n",
    "    def adiciona_ligacao(self,a,b):\n",
    "        self.adjacencias[a][b]=1\n",
    "\n",
    "g = gadj(10)\n",
    "\n",
    "g.adiciona_ligacao(0,1)\n",
    "\n",
    "g.adjacencias"
   ]
  },
  {
   "cell_type": "markdown",
   "metadata": {},
   "source": [
    "#### Lista de Adjacências\n",
    "\n",
    "A matriz de adjacências funciona mas não é eficiente em termos de memória para um número grande de vértices.\n",
    "\n",
    "Uma alternativa que mitiga esse desperdício de espaço é a lista de adjacências. \n",
    "\n",
    "Nessa representação, cada vértice está associado a uma lista com seus vizinhos. \n",
    "\n",
    "Assim, não gastamos espaço representando a ausência de arestas.\n",
    "\n",
    "**Foi exatamente esta que utilizamos intuitivamente no exemplo inicial!**\n",
    "\n",
    "![Img](./a5f6.jpg)\n",
    "\n"
   ]
  },
  {
   "cell_type": "code",
   "execution_count": 23,
   "metadata": {},
   "outputs": [
    {
     "data": {
      "text/plain": [
       "{0: {1: 100, 2: 200},\n",
       " 1: {},\n",
       " 2: {3: 200},\n",
       " 3: {},\n",
       " 4: {},\n",
       " 5: {},\n",
       " 6: {},\n",
       " 7: {},\n",
       " 8: {},\n",
       " 9: {}}"
      ]
     },
     "execution_count": 23,
     "metadata": {},
     "output_type": "execute_result"
    }
   ],
   "source": [
    "'''\n",
    "{\n",
    "    0:[1,2,3]\n",
    "}\n",
    "\n",
    "{\n",
    "    0:{\n",
    "        1:10, #10km\n",
    "        2:30, #30km\n",
    "        3:40  #40km\n",
    "    }\n",
    "}\n",
    "'''\n",
    "\n",
    "# Lista de Adjacências\n",
    "class gladj:\n",
    "    def __init__(self,n):\n",
    "        self.adjacencias = {i:{} for i in range(n)}\n",
    "                \n",
    "    def adiciona_ligacao(self,a,b,peso):\n",
    "        self.adjacencias[a][b] = peso\n",
    "\n",
    "g = gladj(10)\n",
    "\n",
    "g.adiciona_ligacao(0,1,100)\n",
    "g.adiciona_ligacao(0,2,200)\n",
    "g.adiciona_ligacao(2,3,200)\n",
    "g.adjacencias\n"
   ]
  },
  {
   "cell_type": "markdown",
   "metadata": {},
   "source": [
    "### Menor caminho em Grafos\n",
    "\n",
    "Uma das aplicações mais comuns em grafos é o cálculo do menor caminho entre vértices.\n",
    "\n",
    "Essa aplicação permite, por exemplo, encontrar a rota mais rápida para um determinado trajeto, seja de carro ou de transporte público. \n",
    "\n",
    "Também permite encontrar o menor caminho em uma rede de computadores para conectar a internet da sua residência até um site do outro lado do mundo.\n",
    "\n",
    "Existem diferentes algoritmos para os diferentes problemas de menor caminho em grafos. Podem se tornar dispendiosos de tempo caso não otimizados.\n",
    "\n",
    "- _Algoritmo de Dijkstra_: resolve o problema de menor caminho de um nó até todos os outros da rede, mas não permite pesos negativos.<br/>\n",
    "Exemplo: tempo de viagem mais rápido sua casa até todos os bairros da sua cidade.\n",
    "\n",
    "- _Algoritmo Bellman-Ford_: resolve o problema mesmo problema, porém aceita pesos negativos.<br/>\n",
    "\n",
    "- _Algoritmo de busca A\\*_: resolve o problema mesmo problema, porém utiliza heurísticas (métodos específicos) para acelerar a busca.<br/>\n",
    "\n",
    "Hoje em dia os algoritmos mais rápidos de busca em rede podem calcular rotas em redes viárias continentais em frações de microsegundos, possibilitando serviços de rotas que facilitam nossa vida."
   ]
  },
  {
   "cell_type": "markdown",
   "metadata": {},
   "source": [
    "### Biblioteca Networkx\n",
    "\n",
    "Em Python, temos uma implementação de grafos na biblioteca networkx. Para importar e utilizar, basta fazer o import da biblioteca. Caso dê erro por não estar instalada, pode-se instalar através do conda (caso se esteja utilizando a distribuição Anaconda)\n",
    "\n",
    "-Abrir Anaconda Prompt (menu procurar do windows)\n",
    "-Rodar conda install -c conda-forge networkx\n",
    "\n",
    "Também pode ser instalada pelo pip \n",
    "-pip install networkx\n",
    "\n",
    "```\n",
    "import networkx as nx\n",
    "```\n",
    "\n",
    "Esta biblioteca possui implementações de vários algoritmos e já tem uma estrutura de dados adequada para trabalhar com os diversos tipos de grafos.\n",
    "\n",
    "A documentação é de qualidade e extensiva. <br/>\n",
    "https://networkx.org/documentation/stable/_downloads/networkx_reference.pdf"
   ]
  },
  {
   "cell_type": "code",
   "execution_count": null,
   "metadata": {},
   "outputs": [],
   "source": [
    "#Exemplo\n",
    "import networkx as nx\n",
    "\n",
    "g = nx.Graph()\n",
    "\n",
    "g.add_edge('voce','ana',weight=10)\n",
    "g.add_edge('voce','sara',weight=20)\n",
    "g.add_edge('ana','ju', weight=5)\n",
    "g.add_edge('sara','ju', weight=15)\n",
    "\n",
    "#Menor caminho até a Ju utilizando Algoritmo de Dijkstra\n",
    "caminho = nx.dijkstra_path(g,'voce','ju')\n",
    "custo = nx.dijkstra_path_length(g,'voce','ju')\n",
    "\n",
    "print('O menor caminho até a casa da Jú é:',caminho,'e tem a distância de:',custo)\n"
   ]
  },
  {
   "cell_type": "markdown",
   "metadata": {},
   "source": [
    "#### Exercício\n",
    "\n",
    "Calcular o menor caminho e a distância total percorrida (soma dos pesos) entre o início e o fim no grafo abaixo, utilizando a biblioteca networkx.\n",
    "\n",
    "Calcule e apresente também o tempo necessário para executar esses cálculos.\n",
    "\n",
    "![Img](./a5f7.jpg)"
   ]
  },
  {
   "cell_type": "code",
   "execution_count": null,
   "metadata": {},
   "outputs": [],
   "source": [
    "#Resolução\n",
    "#Resolução está lá em baixo, veja depois!!!!!\n",
    "\n",
    "\n",
    "\n",
    "\n",
    "\n",
    "\n",
    "\n",
    "\n",
    "\n",
    "\n",
    "\n",
    "\n",
    "\n",
    "\n",
    "\n",
    "\n",
    "\n",
    "\n",
    "\n",
    "\n",
    "\n",
    "\n",
    "\n",
    "\n",
    "#Resolução\n",
    "import networkx as nx\n",
    "\n",
    "g = nx.Graph()\n",
    "\n",
    "lista = [('i', 'a', 5), ('a', 'c', 4), ('c', 'f', 3),\n",
    "         ('i', 'b', 2), ('b', 'a', 8), ('a', 'd', 2),\n",
    "         ('b', 'd', 7), ('d', 'f', 1), ('c', 'd', 6)]\n",
    "         \n",
    "g.add_weighted_edges_from(lista)\n",
    "\n",
    "#Cálculo de Dijkstra (caminho mais curto) usando networkx\n",
    "caminho = nx.dijkstra_path(g,'i','f')\n",
    "custo = nx.dijkstra_path_length(g,'i','f')\n",
    "\n",
    "print('\\nCaminho mais curto de i até f:',caminho)\n",
    "print('Custo:',custo)\n"
   ]
  }
 ],
 "metadata": {
  "interpreter": {
   "hash": "d7e4b9d9eddfccfdee453f15b25f5922855525f6a27c8e1b35b6cd459114e297"
  },
  "kernelspec": {
   "display_name": "Python 3.8.10 ('geods')",
   "language": "python",
   "name": "python3"
  },
  "language_info": {
   "codemirror_mode": {
    "name": "ipython",
    "version": 3
   },
   "file_extension": ".py",
   "mimetype": "text/x-python",
   "name": "python",
   "nbconvert_exporter": "python",
   "pygments_lexer": "ipython3",
   "version": "3.9.6"
  },
  "orig_nbformat": 4
 },
 "nbformat": 4,
 "nbformat_minor": 2
}
