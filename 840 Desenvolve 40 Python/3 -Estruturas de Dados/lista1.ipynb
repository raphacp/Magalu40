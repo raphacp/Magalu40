{
 "cells": [
  {
   "cell_type": "markdown",
   "metadata": {},
   "source": [
    "1\n",
    "Neste exercício você deve criar um programa que abra o arquivo \"alunos.csv\" e imprima o conteúdo do arquivo linha a linha.\n",
    "Note que esse é o primeiro exercício de uma sequência, então o seu código pode ser reaproveitado nos exercícios seguintes. Dito isso, a recomendação é usar a biblioteca CSV para ler o arquivo mesmo que não seja realmente necessário para esse primeiro item."
   ]
  },
  {
   "cell_type": "code",
   "execution_count": null,
   "metadata": {},
   "outputs": [],
   "source": [
    "import csv\n",
    "\n",
    "# # Sem usar a biblioteca csv\n",
    "# def imprime_arquivo(arquivo):\n",
    "#     with open(arquivo, encoding='UTF-8') as arq:\n",
    "#         for linha in arq.readlines():\n",
    "#             print(linha, end='')\n",
    "\n",
    "# Usando a biblioteca csv\n",
    "def imprime_arquivo(arquivo):\n",
    "    with open(arquivo, encoding='UTF-8') as arq:\n",
    "        alunos = csv.reader(arq)\n",
    "        for linha in alunos:\n",
    "            print(linha)\n",
    "\n",
    "imprime_arquivo('alunos.csv')"
   ]
  },
  {
   "cell_type": "markdown",
   "metadata": {},
   "source": [
    "2\n",
    "Para o segundo exercício, você deve criar um programa que realize uma cópia do arquivo \"alunos.csv\". Essa cópia deve ser um arquivo chamado \"alunos_copia.csv\".\n",
    "\n",
    "Novamente, aqui você também não precisa utilizar a biblioteca CSV mas se usar, seu código pode ser reutilizado na próxima questão sem muitas modificações."
   ]
  },
  {
   "cell_type": "code",
   "execution_count": null,
   "metadata": {},
   "outputs": [],
   "source": [
    "import csv\n",
    "\n",
    "# # Sem usar a biblioteca csv\n",
    "# def copia_arquivo(arquivo):\n",
    "#     with open(arquivo, encoding='UTF-8') as arq:\n",
    "#         dados = arq.read()\n",
    "#     with open('alunos_copia.csv', 'w') as arq_1:\n",
    "#         arq_1.write(dados)\n",
    "\n",
    "# Usando a biblioteca csv\n",
    "def copia_arquivo(arquivo):\n",
    "    # Olhando a documentacão do Python, eles recomendam usar o newline=''\n",
    "    with open(arquivo, encoding='UTF-8', newline='') as arq:\n",
    "        alunos = csv.reader(arq)\n",
    "        # Usando o newline resolveu o problema de linhas em branco entre as linhas\n",
    "        # Tive que colocar o encoding na escrita também pois estava apresentando errado um nome com acento\n",
    "        with open('alunos_copia.csv', 'w', encoding='UTF-8', newline='') as arq_1:\n",
    "            arq_csv = csv.writer(arq_1)\n",
    "            for linha in alunos:\n",
    "                arq_csv.writerow(linha)\n",
    "\n",
    "copia_arquivo('alunos.csv')"
   ]
  },
  {
   "cell_type": "markdown",
   "metadata": {},
   "source": [
    "3\n",
    "Faça um programa que imprima os elementos da coluna ‘Nome’ do arquivo alunos.csv."
   ]
  },
  {
   "cell_type": "code",
   "execution_count": null,
   "metadata": {},
   "outputs": [],
   "source": [
    "import csv \n",
    "\n",
    "def imprime_coluna(arquivo, coluna):\n",
    "    # Olhando a documentacão do Python, eles recomendam usar o newline=''\n",
    "    with open(arquivo, encoding='UTF-8', newline='') as arq:\n",
    "        alunos = csv.DictReader(arq)\n",
    "        for linha in alunos:\n",
    "            print(linha[coluna])\n",
    "\n",
    "imprime_coluna('alunos.csv', 'Nome')\n"
   ]
  },
  {
   "cell_type": "markdown",
   "metadata": {},
   "source": [
    "4\n",
    "Neste exercício você deve criar um novo arquivo chamado \"alunos_media.csv\". Esse novo arquivo é uma cópia de \"alunos.csv\" porém com uma coluna a mais chamada \"Média\" que vai abrigar os valores das médias das provas de cada aluno da lista.\n",
    "\n",
    "Se você utilizou a biblioteca CSV para realizar os dois primeiros exercícios, muito será reaproveitado aqui. A biblioteca CSV permite a interpretação de cada linha como listas, que são fáceis de manipular."
   ]
  },
  {
   "cell_type": "code",
   "execution_count": null,
   "metadata": {},
   "outputs": [],
   "source": [
    "import csv\n",
    "\n",
    "def copia_cria_arquivo_media(arquivo):\n",
    "    with open(arquivo, encoding='UTF-8', newline='') as arq:\n",
    "        alunos = csv.DictReader(arq)\n",
    "        lista = []\n",
    "        for i in alunos:\n",
    "            calc_media = 0\n",
    "            calc_media = round((float(i[\"Prova_1\"]) + float(i[\"Prova_2\"]) + float(i[\"Prova_3\"]) + float(i[\"Prova_4\"]))/4, 2)\n",
    "            i['Media'] = calc_media\n",
    "            lista.append(i)\n",
    "            colunas = i.keys()\n",
    "        \n",
    "        with open('alunos_media.csv', 'w', encoding='UTF-8', newline='') as arq_1:\n",
    "            arq_csv = csv.DictWriter(arq_1, fieldnames=colunas)\n",
    "            arq_csv.writeheader()\n",
    "            for linha in lista:\n",
    "                arq_csv.writerow(linha)\n",
    "\n",
    "copia_cria_arquivo_media('alunos.csv')"
   ]
  },
  {
   "cell_type": "code",
   "execution_count": null,
   "metadata": {},
   "outputs": [],
   "source": [
    "# Resposta do professor:\n",
    "\n",
    "import csv\n",
    "\n",
    "with open('alunos.csv','r') as arquivo:\n",
    "  reader = csv.reader(arquivo, delimiter=',') \n",
    "  with open('alunos_media.csv','w') as arquivo_copia:\n",
    "    writer = csv.writer(arquivo_copia, delimiter=',')\n",
    "    for linha in reader:\n",
    "      if linha[0] == 'RA':\n",
    "        linha.append('Média')\n",
    "        writer.writerow(linha)\n",
    "      else:\n",
    "        media = media_notas(linha[3:])\n",
    "        linha.append(media)\n",
    "        writer.writerow(linha)"
   ]
  },
  {
   "cell_type": "markdown",
   "metadata": {},
   "source": [
    "**5**\n",
    "Faça um programa que imprima o nome e a **média** de cada um dos alunos do arquivo alunos.csv."
   ]
  },
  {
   "cell_type": "code",
   "execution_count": 1,
   "metadata": {},
   "outputs": [
    {
     "name": "stdout",
     "output_type": "stream",
     "text": [
      "Nome: Antonio Carlos, \n",
      "\tMedia: 7.0\n",
      "Nome: Ana Beatriz, \n",
      "\tMedia: 7.25\n",
      "Nome: Carlos Vernes, \n",
      "\tMedia: 7.0\n",
      "Nome: Francisco Cunha, \n",
      "\tMedia: 9.0\n",
      "Nome: Sandra Rosa, \n",
      "\tMedia: 7.0\n",
      "Nome: Juliana Arruda, \n",
      "\tMedia: 7.5\n",
      "Nome: Joao Galo, \n",
      "\tMedia: 5.88\n",
      "Nome: José Valente, \n",
      "\tMedia: 10.0\n",
      "Nome: Maria Ferreira, \n",
      "\tMedia: 8.62\n",
      "Nome: Adriana Tavares, \n",
      "\tMedia: 8.0\n"
     ]
    }
   ],
   "source": [
    "import csv \n",
    "\n",
    "def imprime_coluna(arquivo, coluna):\n",
    "    # Olhando a documentacão do Python, eles recomendam usar o newline=''\n",
    "    with open(arquivo, encoding='UTF-8', newline='') as arq:\n",
    "        alunos = csv.DictReader(arq)\n",
    "        for linha in alunos:\n",
    "            media = round((float(linha[\"Prova_1\"]) + float(linha[\"Prova_2\"]) + float(linha[\"Prova_3\"]) + float(linha[\"Prova_4\"]))/4, 2)\n",
    "            print(f'Nome: {linha[coluna]}, \\n\\tMedia: {media}')\n",
    "            # print(f'Nome: {linha[coluna]}, \\n\\tMedia: {linha[coluna1]}')\n",
    "\n",
    "            \n",
    "\n",
    "imprime_coluna('alunos.csv', 'Nome')\n",
    "# imprime_coluna('alunos_media.csv', 'Nome', 'Media')"
   ]
  },
  {
   "cell_type": "markdown",
   "metadata": {},
   "source": [
    "6\n",
    "Faça um programa que crie um arquivo media.csv e guarde o RA (registro do aluno) junto com a respectiva média de cada um dos alunos no arquivo alunos.csv."
   ]
  },
  {
   "cell_type": "code",
   "execution_count": 158,
   "metadata": {},
   "outputs": [],
   "source": [
    "import csv\n",
    "\n",
    "def cria_arquivo_media(arquivo, coluna, coluna1):\n",
    "    coluna = coluna\n",
    "    coluna1 = coluna1\n",
    "    with open(arquivo, encoding='UTF-8', newline='') as arq:\n",
    "        alunos = csv.DictReader(arq)\n",
    "        lista = {}\n",
    "        with open('media.csv', 'w', encoding='UTF-8', newline='') as arq_1:\n",
    "            arq_csv = csv.DictWriter(arq_1, fieldnames=[coluna, coluna1])\n",
    "            arq_csv.writeheader()\n",
    "            for linha in alunos:\n",
    "                lista[coluna] = (linha[coluna])\n",
    "                lista[coluna1] = (linha[coluna1])\n",
    "                arq_csv.writerow(lista)\n",
    "\n",
    "cria_arquivo_media('alunos_media.csv', 'RA', 'Media')"
   ]
  }
 ],
 "metadata": {
  "interpreter": {
   "hash": "ac59ebe37160ed0dfa835113d9b8498d9f09ceb179beaac4002f036b9467c963"
  },
  "kernelspec": {
   "display_name": "Python 3.9.6 64-bit",
   "language": "python",
   "name": "python3"
  },
  "language_info": {
   "codemirror_mode": {
    "name": "ipython",
    "version": 3
   },
   "file_extension": ".py",
   "mimetype": "text/x-python",
   "name": "python",
   "nbconvert_exporter": "python",
   "pygments_lexer": "ipython3",
   "version": "3.9.6"
  },
  "orig_nbformat": 4
 },
 "nbformat": 4,
 "nbformat_minor": 2
}
