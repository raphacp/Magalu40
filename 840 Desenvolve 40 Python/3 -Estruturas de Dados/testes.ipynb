{
 "cells": [
  {
   "cell_type": "code",
   "execution_count": 3,
   "metadata": {},
   "outputs": [
    {
     "name": "stdout",
     "output_type": "stream",
     "text": [
      "Buscando a partir de: voce\n",
      "\n",
      "Fila atual: deque(['ana', 'sara', 'roberto'])\n",
      "ana não tem interesse! Mas tem indicações: ['diego', 'ju']\n",
      "\tNova lista: deque(['sara', 'roberto', 'diego', 'ju'])\n",
      "\n",
      "Fila atual: deque(['sara', 'roberto', 'diego', 'ju'])\n",
      "sara não tem interesse! Mas tem indicações: ['ju']\n",
      "\tNova lista: deque(['roberto', 'diego', 'ju', 'ju'])\n",
      "\n",
      "Fila atual: deque(['roberto', 'diego', 'ju', 'ju'])\n",
      "roberto não tem interesse! Mas tem indicações: ['cristina', 'tomas']\n",
      "\tNova lista: deque(['diego', 'ju', 'ju', 'cristina', 'tomas'])\n",
      "\n",
      "Fila atual: deque(['diego', 'ju', 'ju', 'cristina', 'tomas'])\n",
      "diego tem interesse!\n",
      "\n",
      "Fila atual: deque(['ju', 'ju', 'cristina', 'tomas'])\n",
      "ju não tem interesse! Mas tem indicações: []\n",
      "\tNova lista: deque(['ju', 'cristina', 'tomas'])\n",
      "\n",
      "Fila atual: deque(['ju', 'cristina', 'tomas'])\n",
      "\n",
      "Fila atual: deque(['cristina', 'tomas'])\n",
      "cristina tem interesse!\n",
      "\n",
      "Fila atual: deque(['tomas'])\n",
      "tomas não tem interesse! Mas tem indicações: []\n",
      "\tNova lista: deque([])\n"
     ]
    }
   ],
   "source": [
    "#Implementação da pesquisa em largura\n",
    "def pessoa_tem_interesse(pessoa):\n",
    "    return 'i' in pessoa\n",
    "\n",
    "#Grafo\n",
    "grafo = {}\n",
    "grafo[\"voce\"] = [\"ana\", \"sara\", \"roberto\"]\n",
    "grafo[\"ana\"] = [\"diego\", \"ju\"]\n",
    "grafo[\"sara\"] = [\"ju\"]\n",
    "grafo[\"roberto\"] = [\"cristina\", \"tomas\"]\n",
    "grafo[\"diego\"] = []\n",
    "grafo[\"ju\"] = []\n",
    "grafo[\"tomas\"] = []\n",
    "grafo[\"cristina\"] = []\n",
    "\n",
    "buscadas = []\n",
    "\n",
    "from collections import deque\n",
    "\n",
    "def busca(grafo,inicio):\n",
    "    fila = deque()\n",
    "    fila += grafo[inicio]\n",
    "    print('Buscando a partir de:',inicio)\n",
    "\n",
    "    while fila: #igual a len(fila)>0\n",
    "        print('\\nFila atual:', fila)\n",
    "        pessoa = fila.popleft()\n",
    "        if pessoa not in buscadas: #só verifica se ainda não perguntou\n",
    "            if pessoa_tem_interesse(pessoa):\n",
    "                print(pessoa,'tem interesse!')\n",
    "            else:\n",
    "                print(pessoa,'não tem interesse! Mas tem indicações:', grafo[pessoa])\n",
    "                fila += grafo[pessoa]\n",
    "                print('\\tNova lista:', fila)\n",
    "                buscadas.append(pessoa)\n",
    "\n",
    "busca(grafo, 'voce')"
   ]
  },
  {
   "cell_type": "code",
   "execution_count": null,
   "metadata": {},
   "outputs": [],
   "source": []
  }
 ],
 "metadata": {
  "interpreter": {
   "hash": "ac59ebe37160ed0dfa835113d9b8498d9f09ceb179beaac4002f036b9467c963"
  },
  "kernelspec": {
   "display_name": "Python 3.9.6 64-bit",
   "language": "python",
   "name": "python3"
  },
  "language_info": {
   "codemirror_mode": {
    "name": "ipython",
    "version": 3
   },
   "file_extension": ".py",
   "mimetype": "text/x-python",
   "name": "python",
   "nbconvert_exporter": "python",
   "pygments_lexer": "ipython3",
   "version": "3.9.6"
  },
  "orig_nbformat": 4
 },
 "nbformat": 4,
 "nbformat_minor": 2
}
