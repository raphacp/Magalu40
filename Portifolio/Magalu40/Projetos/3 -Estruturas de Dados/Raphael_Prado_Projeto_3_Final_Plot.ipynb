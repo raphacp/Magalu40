{
 "cells": [
  {
   "cell_type": "code",
   "execution_count": 2,
   "metadata": {},
   "outputs": [],
   "source": [
    "import random\n",
    "import datetime as dt\n",
    "import matplotlib.pyplot as plt\n",
    "from matplotlib.colors import ListedColormap\n",
    "import matplotlib.patches as mpatches"
   ]
  },
  {
   "cell_type": "code",
   "execution_count": 3,
   "metadata": {},
   "outputs": [],
   "source": [
    "# Original\n",
    "# matrix = [\n",
    "#     [1, 0, 0, 1, 0],\n",
    "#     [1, 0, 1, 0, 0],\n",
    "#     [0, 0, 1, 0, 1],\n",
    "#     [1, 0, 1, 0, 1],\n",
    "#     [1, 0, 1, 1, 0],\n",
    "# ]"
   ]
  },
  {
   "cell_type": "code",
   "execution_count": 4,
   "metadata": {},
   "outputs": [],
   "source": [
    "def gera_matrix(y, x):\n",
    "    ny = y\n",
    "    nx = x\n",
    "    matrix = [[1 if (random.random()>=0.5) else 0 for num in range(nx)] for x in range(ny)]\n",
    "    return matrix\n",
    "\n",
    "#matrix"
   ]
  },
  {
   "cell_type": "code",
   "execution_count": 5,
   "metadata": {},
   "outputs": [],
   "source": [
    "def mostra_matriz(matriz):\n",
    "    print('A matriz é:')\n",
    "    # for i in range(len(matriz)):\n",
    "    #     print('\\t', matriz[i])\n",
    "    for lista in matriz:\n",
    "        for elemento in lista:\n",
    "            print(elemento, end=' ')\n",
    "        print()\n",
    "    #print()\n",
    "\n",
    "# mostra_matriz(matrix)"
   ]
  },
  {
   "cell_type": "code",
   "execution_count": 6,
   "metadata": {},
   "outputs": [],
   "source": [
    "def gera_log(matriz, matriz_adj, lista_rio, visitadas):\n",
    "    with open('Raphael_Prado_Projeto_3.log', 'a', encoding='UTF-8') as log:\n",
    "        log.write(f'#'*100+'\\n')\n",
    "        log.write(f'''Data: {dt.datetime.now().strftime('%d/%m/%Y %H:%M:%S')}\\n''')\n",
    "        log.write(f'A matriz recebida foi de tamanho {len(matriz)}x{len(matriz[0])}: {matriz}\\n')\n",
    "        log.write(f'A matriz verificada foi de tamanho {len(matriz_adj)}x{len(matriz_adj[0])}: {matriz_adj}\\n')\n",
    "        log.write(f'Os rios identificados foram {len(lista_rio)}: {lista_rio}\\n')\n",
    "        log.write(f'As posições visitadas foram {len(visitadas)}: {visitadas}\\n')\n",
    "\n"
   ]
  },
  {
   "cell_type": "code",
   "execution_count": 7,
   "metadata": {},
   "outputs": [],
   "source": [
    "def percorre_matriz(matriz):\n",
    "    mostra_matriz(matriz)\n",
    "    print('\\nPercorrendo a matriz...')\n",
    "    matriz_adj = []\n",
    "    matriz_aux = []\n",
    "    lista_rio = []\n",
    "    visitadas = []\n",
    "    y = len(matriz)\n",
    "    x = len(matriz[0])\n",
    "\n",
    "    def verifica_vizinho(matriz, i, j, lista_rio_aux):\n",
    "        if tuple((i,j)) not in visitadas:\n",
    "            if i < 0 or i >= y or j < 0 or j >= x:\n",
    "                return\n",
    "            else:\n",
    "                visitadas.append((i,j))\n",
    "                if matriz[i][j] == 1:\n",
    "                    lista_rio_aux.append(matriz[i][j])\n",
    "                    verifica_vizinho(matriz, i+1, j, lista_rio_aux)\n",
    "                    verifica_vizinho(matriz, i-1, j, lista_rio_aux)\n",
    "                    verifica_vizinho(matriz, i, j+1, lista_rio_aux)\n",
    "                    verifica_vizinho(matriz, i, j-1, lista_rio_aux)\n",
    "        return lista_rio_aux\n",
    "\n",
    "    for i in range(len(matriz)):\n",
    "        for j in range(len(matriz[0])):\n",
    "            retorno_lista_rio = verifica_vizinho(matriz, i, j, [])\n",
    "            matriz_aux.append(matriz[i][j])\n",
    "            if len(retorno_lista_rio) != 0:\n",
    "                lista_rio.append(len(retorno_lista_rio))\n",
    "        matriz_adj.append(matriz_aux)\n",
    "        matriz_aux = []\n",
    "    if len(lista_rio) >= 2:\n",
    "        print(f'Foram encontrados {len(lista_rio)} rios com os tamanhos: {sorted(lista_rio)}')\n",
    "    else:\n",
    "        print(f'Foi encontrado {len(lista_rio)} rio com o tamanho: {sorted(lista_rio)}')\n",
    "\n",
    "    gera_log(matriz, matriz_adj, lista_rio, visitadas)\n",
    "    print('***** Não se esqueça de verificar o log no arquivo: Raphael_Prado_Projeto_3.log.')\n",
    "\n",
    "    cmap = ListedColormap(['g', 'c']) # Queria colocar marrom p as ilhas mas não consegui\n",
    "    plt.matshow(matriz, cmap=cmap)\n",
    "    azul = mpatches.Patch(color='c', label='Rio')\n",
    "    verde = mpatches.Patch(color='g', label='Ilha')\n",
    "    plt.legend(handles=[azul, verde])\n",
    "    plt.show()\n",
    "    \n",
    "    return lista_rio, visitadas\n",
    "\n",
    "# percorre_matriz(matrix)"
   ]
  },
  {
   "cell_type": "code",
   "execution_count": 8,
   "metadata": {},
   "outputs": [],
   "source": [
    "def solicita_valida_entrada():\n",
    "    mensagem = '''\n",
    "    1. Definir tamanho da matriz\n",
    "    2. Colar matriz pronta(lista)\n",
    "    3. Ver estatísticas da execução\n",
    "    4. Ver log\n",
    "    0. Sair\n",
    "    '''\n",
    "    opcao = input(mensagem)\n",
    "    \n",
    "    while not opcao.isdigit() or int(opcao) < 0 or int(opcao) > 6:\n",
    "        print(\"Opção digitada inválida. Digite novamente.\")\n",
    "        opcao = input(mensagem)\n",
    "    opcao = int(opcao)\n",
    "\n",
    "    return opcao"
   ]
  },
  {
   "cell_type": "code",
   "execution_count": 9,
   "metadata": {},
   "outputs": [
    {
     "name": "stdout",
     "output_type": "stream",
     "text": [
      "Tchau, obrigado.\n",
      "\n"
     ]
    }
   ],
   "source": [
    "# Não sei se é algum problema no meu VS Code, mas algumas vezes digito uma opção e ele não mostra a saída\n",
    "# Se eu digitar novamente a mesma ou alguma outra ele exibe as 2 saídas. Isso só não ocorre com a opção 1\n",
    "# As saidas ficam melhores no .py\n",
    "\n",
    "def menu():\n",
    "    opcao = solicita_valida_entrada()\n",
    "    while opcao != 0: # Sair\n",
    "        if opcao == 1: # Definir tamanho da matriz\n",
    "            y = int(input('Digite um valor inteiro para y: '))\n",
    "            x = int(input('Digite um valor inteiro para x: '))\n",
    "            tempo_inicio = dt.datetime.now()\n",
    "            matriz_gerada = gera_matrix(y, x)\n",
    "            lista_rio, visitadas = percorre_matriz(matriz_gerada)\n",
    "            tempo_final = dt.datetime.now()\n",
    "\n",
    "        elif opcao == 2: # Colar matriz pronta(lista)\n",
    "            # matriz_colada = [input('Cole a matriz aqui: ')]\n",
    "            # mostra_matriz(matriz_colada)\n",
    "            # percorre_matriz(matriz_colada)\n",
    "            print(\"OPS!!! Esta funcionalidade está prevista para a sprint 2.\")\n",
    "            \n",
    "        elif opcao == 3: # Ver estatísticas da execução\n",
    "            try: # If\n",
    "                len(matriz_gerada) == 0\n",
    "            except: # Caso ela não exista ainda\n",
    "                print(\"Você deve executar a opcão 1 primeiro.\")\n",
    "            else:\n",
    "                print(\"\\nEstatísticas da execução:\")\n",
    "                print(f\"\\tO menor rio encontrado foi: {min(lista_rio)}\")\n",
    "                print(f\"\\tO maior rio encontrado foi: {max(lista_rio)}\")\n",
    "                print(f\"\\tA média do tamanho dos rios é: {round(sum(lista_rio) / len(lista_rio), 2)}\")\n",
    "                print(f\"\\tA quantidade de 1 encontrado foi: {sum(lista_rio)}\")\n",
    "                print(f\"\\tA quantidade de posições visitadas foi: {len(visitadas)}\")\n",
    "                print(f\"\\tO tempo de execução foi de: {tempo_final-tempo_inicio}\")\n",
    "                \n",
    "        elif opcao == 4: # Ver log\n",
    "            try:\n",
    "                arq = open('Raphael_Prado_Projeto_3.log')\n",
    "            except FileNotFoundError:\n",
    "                print('Erro: arquivo não encontrado.')\n",
    "            else:\n",
    "                with open('Raphael_Prado_Projeto_3.log', encoding='UTF-8') as log:\n",
    "                    print(log.read())\n",
    "            \n",
    "        opcao = solicita_valida_entrada()\n",
    "\n",
    "    print(\"Tchau, obrigado.\\n\")\n",
    "\n",
    "menu()"
   ]
  }
 ],
 "metadata": {
  "interpreter": {
   "hash": "ac59ebe37160ed0dfa835113d9b8498d9f09ceb179beaac4002f036b9467c963"
  },
  "kernelspec": {
   "display_name": "Python 3.9.6 64-bit",
   "language": "python",
   "name": "python3"
  },
  "language_info": {
   "codemirror_mode": {
    "name": "ipython",
    "version": 3
   },
   "file_extension": ".py",
   "mimetype": "text/x-python",
   "name": "python",
   "nbconvert_exporter": "python",
   "pygments_lexer": "ipython3",
   "version": "3.9.6"
  },
  "orig_nbformat": 4
 },
 "nbformat": 4,
 "nbformat_minor": 2
}
